{
 "cells": [
  {
   "cell_type": "markdown",
   "metadata": {},
   "source": [
    "# Logit Model using Statsmodels"
   ]
  },
  {
   "cell_type": "code",
   "execution_count": 1,
   "metadata": {},
   "outputs": [],
   "source": [
    "# Load libraries\n",
    "import pandas as pd\n",
    "import os\n",
    "import statsmodels.api as sm"
   ]
  },
  {
   "cell_type": "code",
   "execution_count": 2,
   "metadata": {},
   "outputs": [],
   "source": [
    "# Load cleaned data\n",
    "listings_df = pd.read_csv(os.path.join('data', 'yvr_listing_data_cleaned.csv'))"
   ]
  },
  {
   "cell_type": "code",
   "execution_count": 3,
   "metadata": {},
   "outputs": [],
   "source": [
    "# Define the independent and dependent variables\n",
    "X = listings_df.drop('legal_listing', axis=1)\n",
    "y = listings_df['legal_listing']"
   ]
  },
  {
   "cell_type": "code",
   "execution_count": 4,
   "metadata": {},
   "outputs": [
    {
     "name": "stdout",
     "output_type": "stream",
     "text": [
      "['room_type_Hotel room', 'room_type_Shared room']\n"
     ]
    }
   ],
   "source": [
    "# Find all columns in X with a low variance\n",
    "low_variance = []\n",
    "for col in X:\n",
    "    if X[col].var() < 0.001:\n",
    "        low_variance.append(col)\n",
    "\n",
    "print(low_variance)"
   ]
  },
  {
   "cell_type": "code",
   "execution_count": 5,
   "metadata": {},
   "outputs": [],
   "source": [
    "# Drop columns with low variance\n",
    "X = X.drop(low_variance, axis=1)"
   ]
  },
  {
   "cell_type": "code",
   "execution_count": 6,
   "metadata": {},
   "outputs": [
    {
     "name": "stdout",
     "output_type": "stream",
     "text": [
      "Warning: Maximum number of iterations has been exceeded.\n",
      "         Current function value: 0.259176\n",
      "         Iterations: 100000\n"
     ]
    },
    {
     "name": "stderr",
     "output_type": "stream",
     "text": [
      "c:\\Users\\juane\\AppData\\Local\\Programs\\Python\\Python312\\Lib\\site-packages\\statsmodels\\base\\model.py:607: ConvergenceWarning: Maximum Likelihood optimization failed to converge. Check mle_retvals\n",
      "  warnings.warn(\"Maximum Likelihood optimization failed to \"\n"
     ]
    }
   ],
   "source": [
    "# Add a constant column to the independent variables\n",
    "X = sm.add_constant(X)\n",
    "\n",
    "# Create the logit model\n",
    "logit_model = sm.Logit(y, X)\n",
    "\n",
    "# Fit the model\n",
    "result = logit_model.fit(maxiter=100000)"
   ]
  },
  {
   "cell_type": "code",
   "execution_count": 7,
   "metadata": {},
   "outputs": [
    {
     "name": "stdout",
     "output_type": "stream",
     "text": [
      "                           Logit Regression Results                           \n",
      "==============================================================================\n",
      "Dep. Variable:          legal_listing   No. Observations:                 3583\n",
      "Model:                          Logit   Df Residuals:                     3540\n",
      "Method:                           MLE   Df Model:                           42\n",
      "Date:                Fri, 01 Dec 2023   Pseudo R-squ.:                  0.5080\n",
      "Time:                        00:06:55   Log-Likelihood:                -928.63\n",
      "converged:                      False   LL-Null:                       -1887.6\n",
      "Covariance Type:            nonrobust   LLR p-value:                     0.000\n",
      "===================================================================================================================\n",
      "                                                      coef    std err          z      P>|z|      [0.025      0.975]\n",
      "-------------------------------------------------------------------------------------------------------------------\n",
      "const                                               2.9203      1.472      1.984      0.047       0.036       5.805\n",
      "host_response_rate                                 -0.0162      0.007     -2.467      0.014      -0.029      -0.003\n",
      "number_of_reviews                                   0.0185      0.002      8.661      0.000       0.014       0.023\n",
      "availability_365                                   -0.0013      0.001     -2.365      0.018      -0.002      -0.000\n",
      "availability_30                                     0.0053      0.007      0.709      0.478      -0.009       0.020\n",
      "has_availability                                   -0.3881      0.924     -0.420      0.674      -2.199       1.423\n",
      "price                                               0.0007      0.000      1.387      0.165      -0.000       0.002\n",
      "host_response_time                                  1.1096      0.456      2.434      0.015       0.216       2.003\n",
      "host_verifications                                 -0.9512      0.530     -1.794      0.073      -1.991       0.088\n",
      "host_total_listings_count                           0.0002      0.001      0.154      0.878      -0.003       0.003\n",
      "host_has_profile_pic                               -0.4877      0.527     -0.925      0.355      -1.521       0.546\n",
      "host_acceptance_rate                                0.0040      0.004      0.978      0.328      -0.004       0.012\n",
      "number_of_reviews_l30d                              0.0486      0.046      1.068      0.286      -0.041       0.138\n",
      "review_scores_checkin                              -0.4191      0.223     -1.878      0.060      -0.856       0.018\n",
      "beds                                                0.2407      0.071      3.370      0.001       0.101       0.381\n",
      "calculated_host_listings_count_private_rooms       -0.0605      0.065     -0.936      0.349      -0.187       0.066\n",
      "instant_bookable                                   -0.1512      0.161     -0.938      0.348      -0.467       0.165\n",
      "review_scores_cleanliness                           0.5727      0.192      2.980      0.003       0.196       0.949\n",
      "host_identity_verified                             -0.3326      0.381     -0.874      0.382      -1.079       0.414\n",
      "host_is_superhost                                   0.1582      0.136      1.164      0.244      -0.108       0.425\n",
      "minimum_nights                                     -0.1164      0.006    -18.153      0.000      -0.129      -0.104\n",
      "room_type_Private room                             -1.7703      0.372     -4.762      0.000      -2.499      -1.042\n",
      "neighbourhood_cleansed_Downtown Eastside            0.1852      0.281      0.659      0.510      -0.366       0.736\n",
      "neighbourhood_cleansed_Dunbar Southlands            0.6123      0.391      1.564      0.118      -0.155       1.380\n",
      "neighbourhood_cleansed_Fairview                     0.3006      0.323      0.932      0.351      -0.332       0.933\n",
      "neighbourhood_cleansed_Grandview-Woodland           0.7462      0.363      2.058      0.040       0.036       1.457\n",
      "neighbourhood_cleansed_Hastings-Sunrise             1.3205      0.386      3.420      0.001       0.564       2.077\n",
      "neighbourhood_cleansed_Kensington-Cedar Cottage     1.2948      0.339      3.819      0.000       0.630       1.959\n",
      "neighbourhood_cleansed_Kerrisdale                  -0.6240      0.705     -0.885      0.376      -2.005       0.757\n",
      "neighbourhood_cleansed_Killarney                    0.3501      0.568      0.616      0.538      -0.763       1.464\n",
      "neighbourhood_cleansed_Kitsilano                    0.3703      0.216      1.716      0.086      -0.053       0.793\n",
      "neighbourhood_cleansed_Marpole                      0.2349      0.387      0.606      0.544      -0.524       0.994\n",
      "neighbourhood_cleansed_Mount Pleasant               0.5321      0.242      2.201      0.028       0.058       1.006\n",
      "neighbourhood_cleansed_Oakridge                    28.8651    1.4e+06   2.07e-05      1.000   -2.74e+06    2.74e+06\n",
      "neighbourhood_cleansed_Renfrew-Collingwood          0.7413      0.403      1.841      0.066      -0.048       1.531\n",
      "neighbourhood_cleansed_Riley Park                   0.8867      0.285      3.110      0.002       0.328       1.446\n",
      "neighbourhood_cleansed_Shaughnessy                  1.3892      0.710      1.957      0.050      -0.002       2.780\n",
      "neighbourhood_cleansed_South Cambie                 0.5520      0.622      0.887      0.375      -0.667       1.771\n",
      "neighbourhood_cleansed_Strathcona                   2.5565      1.213      2.108      0.035       0.180       4.933\n",
      "neighbourhood_cleansed_Sunset                       0.6721      0.452      1.488      0.137      -0.213       1.558\n",
      "neighbourhood_cleansed_Victoria-Fraserview          1.3693      0.538      2.545      0.011       0.315       2.424\n",
      "neighbourhood_cleansed_West End                    -0.4245      0.225     -1.885      0.059      -0.866       0.017\n",
      "neighbourhood_cleansed_West Point Grey              1.1977      0.577      2.076      0.038       0.067       2.329\n",
      "===================================================================================================================\n"
     ]
    }
   ],
   "source": [
    "# Print the summary of the model\n",
    "print(result.summary())"
   ]
  },
  {
   "cell_type": "code",
   "execution_count": 8,
   "metadata": {},
   "outputs": [
    {
     "name": "stdout",
     "output_type": "stream",
     "text": [
      "const 2.920323907660298\n",
      "host_response_rate -0.01618857594696151\n",
      "number_of_reviews 0.018513695808793505\n",
      "availability_365 -0.001282230085218165\n",
      "host_response_time 1.1096244486934135\n",
      "beds 0.2406699208810988\n",
      "review_scores_cleanliness 0.5727439766736888\n",
      "minimum_nights -0.11641738226495012\n",
      "room_type_Private room -1.7703059517544348\n",
      "neighbourhood_cleansed_Grandview-Woodland 0.7461602481198714\n",
      "neighbourhood_cleansed_Hastings-Sunrise 1.32052767746657\n",
      "neighbourhood_cleansed_Kensington-Cedar Cottage 1.294840085847496\n",
      "neighbourhood_cleansed_Mount Pleasant 0.5320516193209789\n",
      "neighbourhood_cleansed_Riley Park 0.8866875950552021\n",
      "neighbourhood_cleansed_Strathcona 2.556516231255847\n",
      "neighbourhood_cleansed_Victoria-Fraserview 1.3693085740191095\n",
      "neighbourhood_cleansed_West Point Grey 1.1977155396641443\n"
     ]
    },
    {
     "name": "stderr",
     "output_type": "stream",
     "text": [
      "C:\\Users\\juane\\AppData\\Local\\Temp\\ipykernel_18840\\487320113.py:3: FutureWarning: Series.__getitem__ treating keys as positions is deprecated. In a future version, integer keys will always be treated as labels (consistent with DataFrame behavior). To access a value by position, use `ser.iloc[pos]`\n",
      "  if result.pvalues[i] < 0.05:\n",
      "C:\\Users\\juane\\AppData\\Local\\Temp\\ipykernel_18840\\487320113.py:4: FutureWarning: Series.__getitem__ treating keys as positions is deprecated. In a future version, integer keys will always be treated as labels (consistent with DataFrame behavior). To access a value by position, use `ser.iloc[pos]`\n",
      "  print(result.params.index[i], result.params[i])\n"
     ]
    }
   ],
   "source": [
    "# Print all the coefficients of the model, with their names, only if their p-value is less than 0.05\n",
    "for i in range(len(result.pvalues)):\n",
    "    if result.pvalues[i] < 0.05:\n",
    "        print(result.params.index[i], result.params[i])"
   ]
  }
 ],
 "metadata": {
  "kernelspec": {
   "display_name": "Python 3",
   "language": "python",
   "name": "python3"
  },
  "language_info": {
   "codemirror_mode": {
    "name": "ipython",
    "version": 3
   },
   "file_extension": ".py",
   "mimetype": "text/x-python",
   "name": "python",
   "nbconvert_exporter": "python",
   "pygments_lexer": "ipython3",
   "version": "3.12.0"
  }
 },
 "nbformat": 4,
 "nbformat_minor": 2
}
