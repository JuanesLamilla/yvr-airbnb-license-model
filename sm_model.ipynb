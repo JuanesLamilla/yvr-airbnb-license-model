{
 "cells": [
  {
   "cell_type": "markdown",
   "metadata": {},
   "source": [
    "# Logit Model using Statsmodels"
   ]
  },
  {
   "cell_type": "code",
   "execution_count": 1,
   "metadata": {},
   "outputs": [],
   "source": [
    "# Load libraries\n",
    "import pandas as pd\n",
    "import os\n",
    "import statsmodels.api as sm"
   ]
  },
  {
   "cell_type": "code",
   "execution_count": 2,
   "metadata": {},
   "outputs": [],
   "source": [
    "# Load cleaned data\n",
    "listings_df = pd.read_csv(os.path.join('data', 'yvr_listing_data_cleaned.csv'))"
   ]
  },
  {
   "cell_type": "code",
   "execution_count": 3,
   "metadata": {},
   "outputs": [],
   "source": [
    "# Define the independent and dependent variables\n",
    "X = listings_df.drop('legal_listing', axis=1)\n",
    "y = listings_df['legal_listing']"
   ]
  },
  {
   "cell_type": "code",
   "execution_count": 4,
   "metadata": {},
   "outputs": [
    {
     "name": "stdout",
     "output_type": "stream",
     "text": [
      "['room_type_Hotel room', 'room_type_Shared room']\n"
     ]
    }
   ],
   "source": [
    "# Find all columns in X with a low variance\n",
    "low_variance = []\n",
    "for col in X:\n",
    "    if X[col].var() < 0.001:\n",
    "        low_variance.append(col)\n",
    "\n",
    "print(low_variance)"
   ]
  },
  {
   "cell_type": "code",
   "execution_count": 5,
   "metadata": {},
   "outputs": [],
   "source": [
    "# Drop columns with low variance\n",
    "X = X.drop(low_variance, axis=1)"
   ]
  },
  {
   "cell_type": "code",
   "execution_count": 6,
   "metadata": {},
   "outputs": [
    {
     "name": "stdout",
     "output_type": "stream",
     "text": [
      "Optimization terminated successfully.\n",
      "         Current function value: 0.297474\n",
      "         Iterations 8\n"
     ]
    }
   ],
   "source": [
    "# Add a constant column to the independent variables\n",
    "X = sm.add_constant(X)\n",
    "\n",
    "# Create the logit model\n",
    "logit_model = sm.Logit(y, X)\n",
    "\n",
    "# Fit the model\n",
    "result = logit_model.fit(maxiter=10000)"
   ]
  },
  {
   "cell_type": "code",
   "execution_count": 7,
   "metadata": {},
   "outputs": [
    {
     "name": "stdout",
     "output_type": "stream",
     "text": [
      "                           Logit Regression Results                           \n",
      "==============================================================================\n",
      "Dep. Variable:          legal_listing   No. Observations:                 3683\n",
      "Model:                          Logit   Df Residuals:                     3636\n",
      "Method:                           MLE   Df Model:                           46\n",
      "Date:                Wed, 29 Nov 2023   Pseudo R-squ.:                  0.4530\n",
      "Time:                        22:52:40   Log-Likelihood:                -1095.6\n",
      "converged:                       True   LL-Null:                       -2002.8\n",
      "Covariance Type:            nonrobust   LLR p-value:                     0.000\n",
      "===================================================================================================================\n",
      "                                                      coef    std err          z      P>|z|      [0.025      0.975]\n",
      "-------------------------------------------------------------------------------------------------------------------\n",
      "const                                               2.1713      1.470      1.477      0.140      -0.709       5.052\n",
      "number_of_reviews                                   0.0224      0.002     10.059      0.000       0.018       0.027\n",
      "price                                               0.0028      0.001      4.921      0.000       0.002       0.004\n",
      "host_listings_count                                -0.0033      0.002     -1.940      0.052      -0.007    3.41e-05\n",
      "has_availability                                   -0.1349      0.889     -0.152      0.879      -1.878       1.608\n",
      "host_is_superhost                                   0.0128      0.123      0.104      0.917      -0.228       0.254\n",
      "host_has_profile_pic                               -0.3872      0.446     -0.867      0.386      -1.262       0.488\n",
      "host_response_time                                  1.0946      0.410      2.670      0.008       0.291       1.898\n",
      "availability_365                                   -0.0016      0.000     -3.184      0.001      -0.003      -0.001\n",
      "host_acceptance_rate                                0.0017      0.004      0.459      0.646      -0.005       0.009\n",
      "maximum_nights                                     -0.0002      0.000     -1.004      0.315      -0.001       0.000\n",
      "review_scores_cleanliness                           0.3361      0.177      1.903      0.057      -0.010       0.682\n",
      "host_identity_verified                             -0.4315      0.349     -1.237      0.216      -1.115       0.252\n",
      "review_scores_checkin                              -0.5540      0.217     -2.552      0.011      -0.979      -0.128\n",
      "calculated_host_listings_count_shared_rooms        -0.7701      0.742     -1.038      0.299      -2.225       0.684\n",
      "maximum_minimum_nights                             -0.0495      0.005    -10.724      0.000      -0.059      -0.040\n",
      "host_response_rate                                 -0.0156      0.006     -2.661      0.008      -0.027      -0.004\n",
      "review_scores_location                              0.1727      0.211      0.817      0.414      -0.242       0.587\n",
      "maximum_maximum_nights                           6.398e-05      0.000      0.371      0.710      -0.000       0.000\n",
      "host_verifications                                 -1.2750      0.482     -2.645      0.008      -2.220      -0.330\n",
      "number_of_reviews_l30d                              0.2963      0.045      6.593      0.000       0.208       0.384\n",
      "calculated_host_listings_count_private_rooms       -0.0050      0.058     -0.086      0.932      -0.119       0.109\n",
      "availability_30                                     0.0016      0.007      0.231      0.817      -0.012       0.015\n",
      "instant_bookable                                   -0.0180      0.144     -0.125      0.901      -0.301       0.265\n",
      "beds                                                0.1783      0.068      2.606      0.009       0.044       0.312\n",
      "neighbourhood_cleansed_Downtown Eastside            0.6609      0.274      2.414      0.016       0.124       1.198\n",
      "neighbourhood_cleansed_Dunbar Southlands            0.8516      0.366      2.330      0.020       0.135       1.568\n",
      "neighbourhood_cleansed_Fairview                     0.3493      0.305      1.147      0.251      -0.248       0.946\n",
      "neighbourhood_cleansed_Grandview-Woodland           1.0175      0.331      3.070      0.002       0.368       1.667\n",
      "neighbourhood_cleansed_Hastings-Sunrise             1.5926      0.366      4.355      0.000       0.876       2.309\n",
      "neighbourhood_cleansed_Kensington-Cedar Cottage     1.3480      0.303      4.451      0.000       0.754       1.942\n",
      "neighbourhood_cleansed_Kerrisdale                  -0.2196      0.610     -0.360      0.719      -1.414       0.975\n",
      "neighbourhood_cleansed_Killarney                    0.7594      0.519      1.463      0.144      -0.258       1.777\n",
      "neighbourhood_cleansed_Kitsilano                    0.3446      0.199      1.733      0.083      -0.045       0.734\n",
      "neighbourhood_cleansed_Marpole                      0.3249      0.345      0.941      0.347      -0.352       1.002\n",
      "neighbourhood_cleansed_Mount Pleasant               0.5407      0.214      2.521      0.012       0.120       0.961\n",
      "neighbourhood_cleansed_Oakridge                     1.9202      1.188      1.616      0.106      -0.409       4.250\n",
      "neighbourhood_cleansed_Renfrew-Collingwood          0.8018      0.337      2.378      0.017       0.141       1.463\n",
      "neighbourhood_cleansed_Riley Park                   0.9262      0.265      3.491      0.000       0.406       1.446\n",
      "neighbourhood_cleansed_Shaughnessy                  1.3620      0.664      2.050      0.040       0.060       2.664\n",
      "neighbourhood_cleansed_South Cambie                 0.4697      0.598      0.786      0.432      -0.702       1.642\n",
      "neighbourhood_cleansed_Strathcona                   3.6701      1.461      2.512      0.012       0.807       6.533\n",
      "neighbourhood_cleansed_Sunset                       1.0166      0.407      2.500      0.012       0.220       1.814\n",
      "neighbourhood_cleansed_Victoria-Fraserview          1.6200      0.502      3.230      0.001       0.637       2.603\n",
      "neighbourhood_cleansed_West End                    -0.5296      0.207     -2.561      0.010      -0.935      -0.124\n",
      "neighbourhood_cleansed_West Point Grey              1.1966      0.536      2.234      0.025       0.147       2.246\n",
      "room_type_Private room                             -1.1784      0.356     -3.313      0.001      -1.876      -0.481\n",
      "===================================================================================================================\n"
     ]
    }
   ],
   "source": [
    "# Print the summary of the model\n",
    "print(result.summary())"
   ]
  },
  {
   "cell_type": "code",
   "execution_count": 8,
   "metadata": {},
   "outputs": [
    {
     "name": "stdout",
     "output_type": "stream",
     "text": [
      "number_of_reviews 0.02243913688596531\n",
      "price 0.0028103874880441785\n",
      "host_response_time 1.0946300585590332\n",
      "availability_365 -0.0015648741859619697\n",
      "review_scores_checkin -0.553952469367292\n",
      "maximum_minimum_nights -0.04952969820529914\n",
      "host_response_rate -0.015599111980460316\n",
      "host_verifications -1.2749948329499947\n",
      "number_of_reviews_l30d 0.2962920360730335\n",
      "beds 0.1783313725042358\n",
      "neighbourhood_cleansed_Downtown Eastside 0.6609256951710886\n",
      "neighbourhood_cleansed_Dunbar Southlands 0.8516290838567399\n",
      "neighbourhood_cleansed_Grandview-Woodland 1.0174713389283472\n",
      "neighbourhood_cleansed_Hastings-Sunrise 1.5926354682671144\n",
      "neighbourhood_cleansed_Kensington-Cedar Cottage 1.3479567662698566\n",
      "neighbourhood_cleansed_Mount Pleasant 0.5407037695409844\n",
      "neighbourhood_cleansed_Renfrew-Collingwood 0.8018427111966568\n",
      "neighbourhood_cleansed_Riley Park 0.9261618695070281\n",
      "neighbourhood_cleansed_Shaughnessy 1.362007134801811\n",
      "neighbourhood_cleansed_Strathcona 3.670136830786422\n",
      "neighbourhood_cleansed_Sunset 1.0165568676022245\n",
      "neighbourhood_cleansed_Victoria-Fraserview 1.6200020588017376\n",
      "neighbourhood_cleansed_West End -0.5296017270231013\n",
      "neighbourhood_cleansed_West Point Grey 1.1965905175455305\n",
      "room_type_Private room -1.1784382849166204\n"
     ]
    },
    {
     "name": "stderr",
     "output_type": "stream",
     "text": [
      "C:\\Users\\juane\\AppData\\Local\\Temp\\ipykernel_13232\\487320113.py:3: FutureWarning: Series.__getitem__ treating keys as positions is deprecated. In a future version, integer keys will always be treated as labels (consistent with DataFrame behavior). To access a value by position, use `ser.iloc[pos]`\n",
      "  if result.pvalues[i] < 0.05:\n",
      "C:\\Users\\juane\\AppData\\Local\\Temp\\ipykernel_13232\\487320113.py:4: FutureWarning: Series.__getitem__ treating keys as positions is deprecated. In a future version, integer keys will always be treated as labels (consistent with DataFrame behavior). To access a value by position, use `ser.iloc[pos]`\n",
      "  print(result.params.index[i], result.params[i])\n"
     ]
    }
   ],
   "source": [
    "# Print all the coefficients of the model, with their names, only if their p-value is less than 0.05\n",
    "for i in range(len(result.pvalues)):\n",
    "    if result.pvalues[i] < 0.05:\n",
    "        print(result.params.index[i], result.params[i])"
   ]
  }
 ],
 "metadata": {
  "kernelspec": {
   "display_name": "Python 3",
   "language": "python",
   "name": "python3"
  },
  "language_info": {
   "codemirror_mode": {
    "name": "ipython",
    "version": 3
   },
   "file_extension": ".py",
   "mimetype": "text/x-python",
   "name": "python",
   "nbconvert_exporter": "python",
   "pygments_lexer": "ipython3",
   "version": "3.12.0"
  }
 },
 "nbformat": 4,
 "nbformat_minor": 2
}
