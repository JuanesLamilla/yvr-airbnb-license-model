{
 "cells": [
  {
   "cell_type": "markdown",
   "metadata": {},
   "source": [
    "# Data Cleaning and Processing\n",
    "\n",
    "Loading in the InsideAirbnb data and cleaning it up for our later model.\n",
    "\n",
    "This includes removing unnecessary columns, removing outliers, and accounting for multicollinearity."
   ]
  },
  {
   "cell_type": "code",
   "execution_count": 2,
   "metadata": {},
   "outputs": [],
   "source": [
    "# Load libraries\n",
    "import pandas as pd\n",
    "import os\n",
    "import re\n",
    "import numpy as np\n",
    "import matplotlib.pyplot as plt\n",
    "import seaborn as sns\n",
    "from sklearn.preprocessing import MinMaxScaler, StandardScaler\n",
    "import scipy.stats\n",
    "import statsmodels.api as sm\n",
    "from statsmodels.tools.tools import add_constant\n",
    "from src import drop_column_using_vif_, show_vif_values"
   ]
  },
  {
   "cell_type": "markdown",
   "metadata": {},
   "source": [
    "## Loading in the Data\n",
    "\n",
    "Here we also removed unnecessary columns."
   ]
  },
  {
   "cell_type": "code",
   "execution_count": 3,
   "metadata": {},
   "outputs": [],
   "source": [
    "# Open yvr_listing_data.csv in the data folder\n",
    "listings_df = pd.read_csv(os.path.join('data', 'yvr_listing_data.csv'))\n",
    "\n",
    "# Exclude columns manually that are completly textual description or apparently non-related to legality(including coordinates).\n",
    "# Also exclude some redundant variables like 'neighbourhood' and 'neighbourhood_cleansed'\n",
    "\n",
    "excluded_columns = ['listing_url','scrape_id', 'last_scraped', 'source', \n",
    "                       'name','description', 'neighborhood_overview', 'picture_url', \n",
    "                       'host_id', 'host_url', 'host_name', 'host_since', \n",
    "                       'host_location', 'host_about', 'host_thumbnail_url', \n",
    "                       'host_picture_url', 'latitude', 'longitude', 'calendar_updated', \n",
    "                       'calendar_last_scraped', 'amenities', 'bathrooms_text',\n",
    "                       'first_review','last_review','neighbourhood','property_type','host_neighbourhood',\n",
    "                       'maximum_minimum_nights','maximum_nights','minimum_minimum_nights',\n",
    "                       'maximum_maximum_nights','minimum_maximum_nights','minimum_nights_avg_ntm','maximum_nights_avg_ntm']\n",
    "\n",
    "remained_columns = [col for col in listings_df if col not in excluded_columns]\n",
    "remained_columns = list(set(remained_columns))\n",
    "\n",
    "# Delete all textual description columns \n",
    "\n",
    "listings_df = listings_df[remained_columns]\n",
    "\n",
    "# Dropped completely empty columns\n",
    "listings_df= listings_df.dropna(axis=1, how='all')\n",
    "\n",
    "# Drop listings with 'minimum_nights > 30' based on the regulation in Vancouver\n",
    "listings_df = listings_df[listings_df['minimum_nights']<=30]"
   ]
  },
  {
   "cell_type": "code",
   "execution_count": 4,
   "metadata": {},
   "outputs": [
    {
     "data": {
      "text/plain": [
       "room_type\n",
       "Entire home/apt    5134\n",
       "Private room       1195\n",
       "Shared room          21\n",
       "Hotel room            3\n",
       "Name: count, dtype: int64"
      ]
     },
     "execution_count": 4,
     "metadata": {},
     "output_type": "execute_result"
    }
   ],
   "source": [
    "listings_df['room_type'].value_counts()"
   ]
  },
  {
   "cell_type": "code",
   "execution_count": 5,
   "metadata": {},
   "outputs": [
    {
     "data": {
      "text/plain": [
       "Index(['host_response_rate', 'number_of_reviews', 'availability_365',\n",
       "       'availability_30', 'has_availability', 'price', 'id',\n",
       "       'host_response_time', 'bedrooms', 'host_listings_count',\n",
       "       'number_of_reviews_ltm', 'review_scores_communication',\n",
       "       'calculated_host_listings_count_shared_rooms', 'reviews_per_month',\n",
       "       'host_verifications', 'room_type', 'host_total_listings_count',\n",
       "       'host_has_profile_pic', 'review_scores_value', 'review_scores_location',\n",
       "       'host_acceptance_rate', 'calculated_host_listings_count',\n",
       "       'number_of_reviews_l30d', 'review_scores_checkin',\n",
       "       'review_scores_rating', 'availability_60', 'beds',\n",
       "       'calculated_host_listings_count_private_rooms', 'accommodates',\n",
       "       'instant_bookable', 'review_scores_cleanliness',\n",
       "       'host_identity_verified', 'license', 'host_is_superhost',\n",
       "       'neighbourhood_cleansed', 'review_scores_accuracy', 'availability_90',\n",
       "       'calculated_host_listings_count_entire_homes', 'minimum_nights'],\n",
       "      dtype='object')"
      ]
     },
     "execution_count": 5,
     "metadata": {},
     "output_type": "execute_result"
    }
   ],
   "source": [
    "listings_df.columns"
   ]
  },
  {
   "cell_type": "markdown",
   "metadata": {},
   "source": [
    "## Finding \"Legal\" Listings\n",
    "\n",
    "Using regex, we scan through the listings licenses and determine which ones are valid."
   ]
  },
  {
   "cell_type": "code",
   "execution_count": 6,
   "metadata": {},
   "outputs": [
    {
     "name": "stdout",
     "output_type": "stream",
     "text": [
      "legal_listing\n",
      "True     4533\n",
      "False    1820\n",
      "Name: count, dtype: int64\n"
     ]
    }
   ],
   "source": [
    "%%capture --no-stdout\n",
    "\"\"\"\n",
    "Create a new column titled \"legal_listing\" that contains the boolean describing whether or not the listing has a valid license.\n",
    "The column is True if the listing has a valid license or does not require one and False if the listing does not have a valid license.\n",
    "To compute the value of the column, we use the following logic:\n",
    "\n",
    "If the listing has a number in the \"license\" column with the regex pattern of r'.*?(\\d{2}[-\\s]?\\d{3}[-\\s]?\\d{3}).*?' \n",
    "OR the listing has a number in the \"minimum_nights\" column with a value equal to or greater than 30,\n",
    "THEN the \"legal_listing\" is True. ELSE the \"valid_license\" is False.\n",
    "\n",
    "Note:\n",
    "The regex pattern '.*?(\\d{2}[-\\s]?\\d{3}[-\\s]?\\d{3}).*?' is used to find a numbers with the pattern ##-###### or ##-###-### with \n",
    "spaces/dashes/nothing in between the numbers. The number can be surrounded by any number of characters. \n",
    "TODO: Verify this is the correct pattern for the license numbers and find any other ways of verifying legitimate license numbers.\n",
    "\"\"\"\n",
    "\n",
    "###Just found there are some values like 'dd-ddd-ddd', so I changed regex pattern for better compatibility\n",
    "#regex_pattern = re.compile(r'.*?(\\d{2}[-\\s]?\\d{6}).*?')\n",
    "regex_pattern = re.compile(r'.*?(\\d{2}[-\\s]?\\d{3}[-\\s]?\\d{3}).*?')\n",
    "\n",
    "# Create the valid_license column using the logic described above\n",
    "listings_df['legal_listing'] = listings_df['license'].str.contains(regex_pattern) | (listings_df['minimum_nights'] >= 30)\n",
    "\n",
    "# Create new dataframe storing values after normalization or preprocessing\n",
    "listings_df_cleaned = pd.DataFrame()\n",
    "listings_df_cleaned['id'] = listings_df['id']\n",
    "listings_df_cleaned['legal_listing'] = listings_df['legal_listing']\n",
    "\n",
    "# Drop the 'license' column for better processing\n",
    "listings_df.drop('license',axis=1, inplace=True)\n",
    "\n",
    "# Print count of valid and invalid licenses\n",
    "print(listings_df['legal_listing'].value_counts())"
   ]
  },
  {
   "cell_type": "markdown",
   "metadata": {},
   "source": [
    "## Dealing with Data Types\n",
    "\n",
    "- Converting variables to the correct data types while also cleaning unnecessary characters.\n",
    "- Accounting for categorical data with one-hot encoding."
   ]
  },
  {
   "cell_type": "code",
   "execution_count": 7,
   "metadata": {},
   "outputs": [
    {
     "name": "stdout",
     "output_type": "stream",
     "text": [
      "<class 'pandas.core.frame.DataFrame'>\n",
      "Index: 6353 entries, 0 to 6694\n",
      "Data columns (total 39 columns):\n",
      " #   Column                                        Non-Null Count  Dtype  \n",
      "---  ------                                        --------------  -----  \n",
      " 0   host_response_rate                            5411 non-null   object \n",
      " 1   number_of_reviews                             6353 non-null   int64  \n",
      " 2   availability_365                              6353 non-null   int64  \n",
      " 3   availability_30                               6353 non-null   int64  \n",
      " 4   has_availability                              6353 non-null   object \n",
      " 5   price                                         6353 non-null   object \n",
      " 6   id                                            6353 non-null   int64  \n",
      " 7   host_response_time                            5411 non-null   object \n",
      " 8   bedrooms                                      4988 non-null   float64\n",
      " 9   host_listings_count                           6353 non-null   int64  \n",
      " 10  number_of_reviews_ltm                         6353 non-null   int64  \n",
      " 11  review_scores_communication                   5419 non-null   float64\n",
      " 12  calculated_host_listings_count_shared_rooms   6353 non-null   int64  \n",
      " 13  reviews_per_month                             5429 non-null   float64\n",
      " 14  host_verifications                            6353 non-null   object \n",
      " 15  room_type                                     6353 non-null   object \n",
      " 16  host_total_listings_count                     6353 non-null   int64  \n",
      " 17  host_has_profile_pic                          6353 non-null   object \n",
      " 18  review_scores_value                           5419 non-null   float64\n",
      " 19  review_scores_location                        5419 non-null   float64\n",
      " 20  host_acceptance_rate                          5575 non-null   object \n",
      " 21  calculated_host_listings_count                6353 non-null   int64  \n",
      " 22  number_of_reviews_l30d                        6353 non-null   int64  \n",
      " 23  review_scores_checkin                         5419 non-null   float64\n",
      " 24  review_scores_rating                          5429 non-null   float64\n",
      " 25  availability_60                               6353 non-null   int64  \n",
      " 26  beds                                          6324 non-null   float64\n",
      " 27  calculated_host_listings_count_private_rooms  6353 non-null   int64  \n",
      " 28  accommodates                                  6353 non-null   int64  \n",
      " 29  instant_bookable                              6353 non-null   object \n",
      " 30  review_scores_cleanliness                     5419 non-null   float64\n",
      " 31  host_identity_verified                        6353 non-null   object \n",
      " 32  host_is_superhost                             6200 non-null   object \n",
      " 33  neighbourhood_cleansed                        6353 non-null   object \n",
      " 34  review_scores_accuracy                        5419 non-null   float64\n",
      " 35  availability_90                               6353 non-null   int64  \n",
      " 36  calculated_host_listings_count_entire_homes   6353 non-null   int64  \n",
      " 37  minimum_nights                                6353 non-null   int64  \n",
      " 38  legal_listing                                 6353 non-null   bool   \n",
      "dtypes: bool(1), float64(10), int64(16), object(12)\n",
      "memory usage: 1.9+ MB\n"
     ]
    }
   ],
   "source": [
    "#print(listings_df.columns)\n",
    "listings_df.info()"
   ]
  },
  {
   "cell_type": "markdown",
   "metadata": {},
   "source": [
    "**DROP columns with low varience**"
   ]
  },
  {
   "cell_type": "code",
   "execution_count": 8,
   "metadata": {},
   "outputs": [],
   "source": [
    "# Select every columns with dtype float or int\n",
    "# Eliminate the impact that one-hot columns' varience is low\n",
    "listings_df_num = listings_df.select_dtypes(include=['float64','int64'])\n",
    "\n",
    "# Calculate the varience\n",
    "variances = listings_df_num.var()"
   ]
  },
  {
   "cell_type": "code",
   "execution_count": 9,
   "metadata": {},
   "outputs": [],
   "source": [
    "# Set the bottom boundary \n",
    "low_threshold = 0.1  \n",
    "high_threshold = 1000000  \n",
    "# Drop columns with low varience\n",
    "low_variance_cols = variances[variances < low_threshold].index\n",
    "high_variance_cols = variances[variances > high_threshold].index\n",
    "listings_df.drop(low_variance_cols, axis=1, inplace=True)\n",
    "listings_df.drop(high_variance_cols, axis=1, inplace=True)"
   ]
  },
  {
   "cell_type": "code",
   "execution_count": 10,
   "metadata": {},
   "outputs": [
    {
     "data": {
      "text/plain": [
       "'\\n# Deal with the calculated_ columns\\ncalculated_columns = [\\'calculated_host_listings_count_private_rooms\\',\\n                      \\'calculated_host_listings_count_shared_rooms\\',\\n                      \\'calculated_host_listings_count_entire_homes\\',\\n                      \\'calculated_host_listings_count\\']\\nfor name in calculated_columns:\\n    counts = listings_df[name].value_counts()\\n    count_0 = counts.get(0, 0)\\n    count_1 = counts.get(1, 0)\\n\\n    print(f\"amount of 0 in column \\'{name}\\': {count_0}\")\\n    print(f\"amount of 1 in column \\'{name}\\': {count_1}\")\\n\\n# Because the proportion of 0\\'s in \\'calculated_host_listings_count_shared_rooms\\' is above 90%\\n# So just drop the column\\nlistings_df.drop(\\'calculated_host_listings_count_shared_rooms\\', axis=1, inplace=True)\\n'"
      ]
     },
     "execution_count": 10,
     "metadata": {},
     "output_type": "execute_result"
    }
   ],
   "source": [
    "\"\"\"\n",
    "# Deal with the calculated_ columns\n",
    "calculated_columns = ['calculated_host_listings_count_private_rooms',\n",
    "                      'calculated_host_listings_count_shared_rooms',\n",
    "                      'calculated_host_listings_count_entire_homes',\n",
    "                      'calculated_host_listings_count']\n",
    "for name in calculated_columns:\n",
    "    counts = listings_df[name].value_counts()\n",
    "    count_0 = counts.get(0, 0)\n",
    "    count_1 = counts.get(1, 0)\n",
    "\n",
    "    print(f\"amount of 0 in column '{name}': {count_0}\")\n",
    "    print(f\"amount of 1 in column '{name}': {count_1}\")\n",
    "\n",
    "# Because the proportion of 0's in 'calculated_host_listings_count_shared_rooms' is above 90%\n",
    "# So just drop the column\n",
    "listings_df.drop('calculated_host_listings_count_shared_rooms', axis=1, inplace=True)\n",
    "\"\"\""
   ]
  },
  {
   "cell_type": "markdown",
   "metadata": {},
   "source": [
    "### Dealing with Object Columns"
   ]
  },
  {
   "cell_type": "code",
   "execution_count": 11,
   "metadata": {},
   "outputs": [
    {
     "name": "stdout",
     "output_type": "stream",
     "text": [
      "Index(['host_response_rate', 'has_availability', 'price', 'host_response_time',\n",
      "       'host_verifications', 'room_type', 'host_has_profile_pic',\n",
      "       'host_acceptance_rate', 'instant_bookable', 'host_identity_verified',\n",
      "       'host_is_superhost', 'neighbourhood_cleansed'],\n",
      "      dtype='object')\n"
     ]
    }
   ],
   "source": [
    "# Print names of object columns\n",
    "print(listings_df.select_dtypes(include=['object']).columns)"
   ]
  },
  {
   "cell_type": "code",
   "execution_count": 12,
   "metadata": {},
   "outputs": [],
   "source": [
    "#converting 'price' column\n",
    "# Convert price to a float variable\n",
    "if listings_df['price'].dtype == 'object':\n",
    "    listings_df['price'] = listings_df['price'].str.replace('$', '').str.replace(',', '').astype(float)\n",
    "\n",
    "# Convert 'host_acceptance_rate' to a float variable\n",
    "if listings_df['host_acceptance_rate'].dtype == 'object':\n",
    "    listings_df['host_acceptance_rate'] = listings_df['host_acceptance_rate'].str.replace('%', '').astype(float)\n",
    "\n",
    "# Convert 'host_response_time' to a float variable\n",
    "# The reason is a bit far-fetched for range(0,0.25,0.5,0.75,1), just make it easier for regression model operating. \n",
    "# Moreover it does make sense, to some extent\n",
    "if listings_df['host_response_time'].dtype == 'object':\n",
    "    listings_df['host_response_time'] = listings_df['host_response_time'].map({\n",
    "        'within an hour': 1, 'within a few hours': 0.75, 'within a day': 0.5, 'a few days or more': 0.25}).fillna(0)\n",
    "\n",
    "# Convert 'host_response_rate' to a float variable\n",
    "if listings_df['host_response_rate'].dtype == 'object':\n",
    "    listings_df['host_response_rate'] = listings_df['host_response_rate'].str.replace('%', '').astype(float)\n",
    "\n",
    "# Convert 'host_verifications' to a float variable\n",
    "if listings_df['host_verifications'].dtype == 'object':\n",
    "    listings_df['host_verifications'] = listings_df['host_verifications'].map({\n",
    "        \"['email', 'phone', 'photographer', 'work_email']\": 1, \"['email', 'phone', 'work_email']\": 0.75, \n",
    "        \"['email', 'phone']\": 0.5, \"['phone', 'work_email']\":0.5, \n",
    "        \"['phone']\": 0.25, \"['email']\": 0.25}).fillna(0)\n",
    "\n",
    "\n",
    "# Convert 'host_is_superhost' to a bool variable\n",
    "if listings_df['host_is_superhost'].dtype == 'object':\n",
    "    listings_df['host_is_superhost'] = listings_df['host_is_superhost'].map({'t': 1, 'f': 0})\n",
    "\n",
    "# Convert 'host_has_profile_pic' to a bool variable\n",
    "if listings_df['host_has_profile_pic'].dtype == 'object':\n",
    "    listings_df['host_has_profile_pic'] = listings_df['host_has_profile_pic'].map({'t': 1, 'f': 0})\n",
    "\n",
    "# Convert 'has_availability' to a bool variable\n",
    "if listings_df['has_availability'].dtype == 'object':\n",
    "    listings_df['has_availability'] = listings_df['has_availability'].map({'t': 1, 'f': 0})\n",
    "\n",
    "# Convert 'instant_bookable' to a bool variable\n",
    "if listings_df['instant_bookable'].dtype == 'object':\n",
    "    listings_df['instant_bookable'] = listings_df['instant_bookable'].map({'t': 1, 'f': 0})\n",
    "\n",
    "# Convert 'host_identity_verified' to a bool variable\n",
    "if listings_df['host_identity_verified'].dtype == 'object':\n",
    "    listings_df['host_identity_verified'] = listings_df['host_identity_verified'].map({'t': 1, 'f': 0})"
   ]
  },
  {
   "cell_type": "code",
   "execution_count": 13,
   "metadata": {},
   "outputs": [
    {
     "data": {
      "text/plain": [
       "['room_type', 'neighbourhood_cleansed']"
      ]
     },
     "execution_count": 13,
     "metadata": {},
     "output_type": "execute_result"
    }
   ],
   "source": [
    "# Check the object columns again\n",
    "object_columns = listings_df.select_dtypes(include='object')\n",
    "\n",
    "object_columns_name = list(object_columns.columns)\n",
    "object_columns_name\n"
   ]
  },
  {
   "cell_type": "code",
   "execution_count": 14,
   "metadata": {},
   "outputs": [
    {
     "data": {
      "text/plain": [
       "array([0.5 , 0.25, 0.75, 1.  ])"
      ]
     },
     "execution_count": 14,
     "metadata": {},
     "output_type": "execute_result"
    }
   ],
   "source": [
    "listings_df['host_verifications'].unique()"
   ]
  },
  {
   "cell_type": "markdown",
   "metadata": {},
   "source": [
    "### One-hot to code categorical columns"
   ]
  },
  {
   "cell_type": "code",
   "execution_count": 15,
   "metadata": {},
   "outputs": [
    {
     "name": "stdout",
     "output_type": "stream",
     "text": [
      "Dropped categories:\n",
      "room_type : Entire home/apt\n",
      "neighbourhood_cleansed : Arbutus Ridge\n"
     ]
    }
   ],
   "source": [
    "print(\"Dropped categories:\")\n",
    "for colname in object_columns_name:\n",
    "    # convert room_type column to 'category' dtype\n",
    "    listings_df[colname] = listings_df[colname].astype('category')\n",
    "\n",
    "    # Since we will be dropping the first category of each column, \n",
    "    # lets print out the first category of each column so we know what we are dropping\n",
    "    print(colname, ':', listings_df[colname].cat.categories[0])\n",
    "\n",
    "    # applying one-hot coding (drop_first means eliminate one freedom degree to prevent multicollinearity)\n",
    "    one_hot_encoded = pd.get_dummies(listings_df[colname], prefix=colname, drop_first=True)\n",
    "    # join new columns back to DataFrame\n",
    "    listings_df = listings_df.join(one_hot_encoded)"
   ]
  },
  {
   "cell_type": "code",
   "execution_count": 16,
   "metadata": {},
   "outputs": [
    {
     "name": "stdout",
     "output_type": "stream",
     "text": [
      "<class 'pandas.core.frame.DataFrame'>\n",
      "Index: 6353 entries, 0 to 6694\n",
      "Data columns (total 61 columns):\n",
      " #   Column                                           Non-Null Count  Dtype   \n",
      "---  ------                                           --------------  -----   \n",
      " 0   host_response_rate                               5411 non-null   float64 \n",
      " 1   number_of_reviews                                6353 non-null   int64   \n",
      " 2   availability_365                                 6353 non-null   int64   \n",
      " 3   availability_30                                  6353 non-null   int64   \n",
      " 4   has_availability                                 6353 non-null   int64   \n",
      " 5   price                                            6353 non-null   float64 \n",
      " 6   host_response_time                               6353 non-null   float64 \n",
      " 7   bedrooms                                         4988 non-null   float64 \n",
      " 8   host_listings_count                              6353 non-null   int64   \n",
      " 9   number_of_reviews_ltm                            6353 non-null   int64   \n",
      " 10  review_scores_communication                      5419 non-null   float64 \n",
      " 11  reviews_per_month                                5429 non-null   float64 \n",
      " 12  host_verifications                               6353 non-null   float64 \n",
      " 13  room_type                                        6353 non-null   category\n",
      " 14  host_total_listings_count                        6353 non-null   int64   \n",
      " 15  host_has_profile_pic                             6353 non-null   int64   \n",
      " 16  review_scores_value                              5419 non-null   float64 \n",
      " 17  host_acceptance_rate                             5575 non-null   float64 \n",
      " 18  calculated_host_listings_count                   6353 non-null   int64   \n",
      " 19  number_of_reviews_l30d                           6353 non-null   int64   \n",
      " 20  review_scores_checkin                            5419 non-null   float64 \n",
      " 21  review_scores_rating                             5429 non-null   float64 \n",
      " 22  availability_60                                  6353 non-null   int64   \n",
      " 23  beds                                             6324 non-null   float64 \n",
      " 24  calculated_host_listings_count_private_rooms     6353 non-null   int64   \n",
      " 25  accommodates                                     6353 non-null   int64   \n",
      " 26  instant_bookable                                 6353 non-null   int64   \n",
      " 27  review_scores_cleanliness                        5419 non-null   float64 \n",
      " 28  host_identity_verified                           6353 non-null   int64   \n",
      " 29  host_is_superhost                                6200 non-null   float64 \n",
      " 30  neighbourhood_cleansed                           6353 non-null   category\n",
      " 31  review_scores_accuracy                           5419 non-null   float64 \n",
      " 32  availability_90                                  6353 non-null   int64   \n",
      " 33  calculated_host_listings_count_entire_homes      6353 non-null   int64   \n",
      " 34  minimum_nights                                   6353 non-null   int64   \n",
      " 35  legal_listing                                    6353 non-null   bool    \n",
      " 36  room_type_Hotel room                             6353 non-null   bool    \n",
      " 37  room_type_Private room                           6353 non-null   bool    \n",
      " 38  room_type_Shared room                            6353 non-null   bool    \n",
      " 39  neighbourhood_cleansed_Downtown                  6353 non-null   bool    \n",
      " 40  neighbourhood_cleansed_Downtown Eastside         6353 non-null   bool    \n",
      " 41  neighbourhood_cleansed_Dunbar Southlands         6353 non-null   bool    \n",
      " 42  neighbourhood_cleansed_Fairview                  6353 non-null   bool    \n",
      " 43  neighbourhood_cleansed_Grandview-Woodland        6353 non-null   bool    \n",
      " 44  neighbourhood_cleansed_Hastings-Sunrise          6353 non-null   bool    \n",
      " 45  neighbourhood_cleansed_Kensington-Cedar Cottage  6353 non-null   bool    \n",
      " 46  neighbourhood_cleansed_Kerrisdale                6353 non-null   bool    \n",
      " 47  neighbourhood_cleansed_Killarney                 6353 non-null   bool    \n",
      " 48  neighbourhood_cleansed_Kitsilano                 6353 non-null   bool    \n",
      " 49  neighbourhood_cleansed_Marpole                   6353 non-null   bool    \n",
      " 50  neighbourhood_cleansed_Mount Pleasant            6353 non-null   bool    \n",
      " 51  neighbourhood_cleansed_Oakridge                  6353 non-null   bool    \n",
      " 52  neighbourhood_cleansed_Renfrew-Collingwood       6353 non-null   bool    \n",
      " 53  neighbourhood_cleansed_Riley Park                6353 non-null   bool    \n",
      " 54  neighbourhood_cleansed_Shaughnessy               6353 non-null   bool    \n",
      " 55  neighbourhood_cleansed_South Cambie              6353 non-null   bool    \n",
      " 56  neighbourhood_cleansed_Strathcona                6353 non-null   bool    \n",
      " 57  neighbourhood_cleansed_Sunset                    6353 non-null   bool    \n",
      " 58  neighbourhood_cleansed_Victoria-Fraserview       6353 non-null   bool    \n",
      " 59  neighbourhood_cleansed_West End                  6353 non-null   bool    \n",
      " 60  neighbourhood_cleansed_West Point Grey           6353 non-null   bool    \n",
      "dtypes: bool(26), category(2), float64(15), int64(18)\n",
      "memory usage: 2.1 MB\n"
     ]
    }
   ],
   "source": [
    "# Print types of all columns\n",
    "listings_df.info()"
   ]
  },
  {
   "cell_type": "markdown",
   "metadata": {},
   "source": [
    "## Preparing for VIF Analysis"
   ]
  },
  {
   "cell_type": "code",
   "execution_count": 17,
   "metadata": {},
   "outputs": [],
   "source": [
    "listings_df_VIF = listings_df.select_dtypes(include=['bool','float64','int64'])\n",
    "listings_df_VIF = listings_df_VIF.astype('float64')"
   ]
  },
  {
   "cell_type": "markdown",
   "metadata": {},
   "source": [
    "**Using VIF to filter relating variables**"
   ]
  },
  {
   "cell_type": "code",
   "execution_count": 18,
   "metadata": {},
   "outputs": [],
   "source": [
    "# calculating VIF\n",
    "\n",
    "# Drop all rows containing NAs or infs in listings_df_VIF\n",
    "listings_df_VIF.replace([np.inf, -np.inf], np.nan, inplace=True)\n",
    "listings_df_VIF.dropna(inplace=True)"
   ]
  },
  {
   "cell_type": "markdown",
   "metadata": {},
   "source": [
    "## VIF Filtering"
   ]
  },
  {
   "cell_type": "code",
   "execution_count": 19,
   "metadata": {},
   "outputs": [
    {
     "name": "stdout",
     "output_type": "stream",
     "text": [
      "Dropping: calculated_host_listings_count (VIF: 28166.657801674846)\n",
      "Dropping: host_listings_count (VIF: 58.940057139676455)\n",
      "Dropping: availability_60 (VIF: 15.442869964457207)\n",
      "Dropping: neighbourhood_cleansed_Downtown (VIF: 15.204804174421792)\n",
      "Dropping: calculated_host_listings_count_entire_homes (VIF: 7.387763613248074)\n",
      "Dropping: review_scores_rating (VIF: 5.824788487134804)\n",
      "Dropping: accommodates (VIF: 5.722489934595496)\n",
      "Dropping: number_of_reviews_ltm (VIF: 3.7127987559084463)\n",
      "Dropping: bedrooms (VIF: 3.213550936569566)\n",
      "Dropping: review_scores_accuracy (VIF: 2.944085629031394)\n",
      "Dropping: reviews_per_month (VIF: 2.910677131433851)\n",
      "Dropping: review_scores_communication (VIF: 2.476927248705724)\n",
      "Dropping: availability_90 (VIF: 2.429563767152441)\n",
      "Dropping: review_scores_value (VIF: 2.0853368160573376)\n"
     ]
    }
   ],
   "source": [
    "%%capture --no-stdout\n",
    "\n",
    "listings_df_VIF_new = drop_column_using_vif_(listings_df_VIF.drop('legal_listing', axis=1), thresh=2)"
   ]
  },
  {
   "cell_type": "code",
   "execution_count": 20,
   "metadata": {},
   "outputs": [
    {
     "name": "stdout",
     "output_type": "stream",
     "text": [
      "There are 44 variables after VIF operation.\n"
     ]
    }
   ],
   "source": [
    "# After VIF now we have the 'listings_df_VIF_new'\n",
    "print(f\"There are {listings_df_VIF_new.shape[1]} variables after VIF operation.\")\n",
    "\n",
    "# Add legal_listing back to csv\n",
    "listings_df_VIF_new['legal_listing'] = listings_df_VIF['legal_listing']\n",
    "\n",
    "\n",
    "# And save the new dataframe to csv.file\n",
    "listings_df_VIF_new.to_csv(os.path.join('data','yvr_listing_data_cleaned.csv'),index=False)"
   ]
  }
 ],
 "metadata": {
  "kernelspec": {
   "display_name": "Python 3",
   "language": "python",
   "name": "python3"
  },
  "language_info": {
   "codemirror_mode": {
    "name": "ipython",
    "version": 3
   },
   "file_extension": ".py",
   "mimetype": "text/x-python",
   "name": "python",
   "nbconvert_exporter": "python",
   "pygments_lexer": "ipython3",
   "version": "3.11.5"
  }
 },
 "nbformat": 4,
 "nbformat_minor": 2
}
