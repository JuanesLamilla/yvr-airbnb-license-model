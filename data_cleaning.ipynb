{
 "cells": [
  {
   "cell_type": "code",
   "execution_count": 1,
   "metadata": {},
   "outputs": [],
   "source": [
    "# Load libraries\n",
    "import pandas as pd\n",
    "import os\n",
    "import re\n",
    "import matplotlib.pyplot as plt\n",
    "import seaborn as sns\n",
    "from sklearn.preprocessing import MinMaxScaler, StandardScaler\n",
    "import scipy.stats\n",
    "import statsmodels.api as sm"
   ]
  },
  {
   "cell_type": "code",
   "execution_count": 2,
   "metadata": {},
   "outputs": [],
   "source": [
    "# Open yvr_listing_data.csv in the data folder\n",
    "listings_df = pd.read_csv(os.path.join('data', 'yvr_listing_data.csv'))\n",
    "\n",
    "# Print columns\n",
    "# print(listings_df.columns)\n",
    "\n",
    "# Select columns that are completly textual description or apparently non-related to legality(including coordinates).\n",
    "\n",
    "excluded_columns = ['listing_url','scrape_id', 'last_scraped', 'source', \n",
    "                       'name','description', 'neighborhood_overview', 'picture_url', \n",
    "                       'host_id', 'host_url', 'host_name', 'host_since', \n",
    "                       'host_location', 'host_about', 'host_thumbnail_url', \n",
    "                       'host_picture_url', 'latitude', 'longitude', 'calendar_updated', \n",
    "                       'calendar_last_scraped', 'amenities', 'bathrooms_text',\n",
    "                       'first_review','last_review']\n",
    "\n",
    "remained_columns = [col for col in listings_df if col not in excluded_columns]\n",
    "remained_columns = list(set(remained_columns))\n",
    "\n",
    "# Delete all textual description columns \n",
    "\n",
    "listings_df = listings_df[remained_columns]\n",
    "\n"
   ]
  },
  {
   "cell_type": "code",
   "execution_count": 3,
   "metadata": {},
   "outputs": [],
   "source": [
    "%%capture --no-stdout\n",
    "\"\"\"\n",
    "Create a new column titled \"legal_listing\" that contains the boolean describing whether or not the listing has a valid license.\n",
    "The column is True if the listing has a valid license or does not require one and False if the listing does not have a valid license.\n",
    "To compute the value of the column, we use the following logic:\n",
    "\n",
    "If the listing has a number in the \"license\" column with the regex pattern of r'.*?(\\d{2}[-\\s]?\\d{6}).*?' \n",
    "OR the listing has a number in the \"minimum_nights\" column with a value equal to or greater than 30,\n",
    "THEN the \"legal_listing\" is True. ELSE the \"valid_license\" is False.\n",
    "\n",
    "Note:\n",
    "The regex pattern r'.*?(\\d{2}[-\\s]?\\d{6}).*?' is used to find a number with 2 digits, followed by a dash or space, \n",
    "followed by 6 digits. The number can be surrounded by any number of characters. \n",
    "TODO: Verify this is the correct pattern for the license numbers and find any other ways of verifying legitimate license numbers.\n",
    "\"\"\"\n",
    "\n",
    "###Just found there are some values like 'dd-ddd-ddd', so I changed regex pattern for better compatibility\n",
    "#regex_pattern = re.compile(r'.*?(\\d{2}[-\\s]?\\d{6}).*?')\n",
    "regex_pattern = re.compile(r'.*?(\\d{2}[-\\s]?\\d{3}[-\\s]?\\d{3}).*?')\n",
    "\n",
    "# Create the valid_license column using the logic described above\n",
    "listings_df['legal_listing'] = listings_df['license'].str.contains(regex_pattern) | (listings_df['minimum_nights'] >= 30)\n",
    "\n",
    "# Create new dataframe storing values after normalization or preprocessing\n",
    "listings_df_cleaned = pd.DataFrame()\n",
    "listings_df_cleaned['id'] = listings_df['id']\n",
    "listings_df_cleaned['legal_listing'] = listings_df['legal_listing']\n",
    "\n",
    "# Print only the columns we are interested in\n",
    "#print(listings_df[['id', 'license', 'minimum_nights', 'legal_listing']])\n",
    "\n",
    "# Print count of valid and invalid licenses\n",
    "#print(listings_df['legal_listing'].value_counts())"
   ]
  },
  {
   "cell_type": "markdown",
   "metadata": {},
   "source": [
    "Hey guys, just came up with a new assumption: As our main goal is to construct a regression model and predict a new-coming property's legality, should we neglect all of those 'post-occupancy evaluation'  fields just like 'review_score' or 'host_response_time'? Because all of those information was collected after some renter's experience, while what we are trying to do is to provide more useful information for renters before the renting contract?\n",
    "\n",
    "And I have done some preliminary filtering and division among all columns."
   ]
  },
  {
   "cell_type": "code",
   "execution_count": 12,
   "metadata": {},
   "outputs": [
    {
     "name": "stdout",
     "output_type": "stream",
     "text": [
      "<class 'pandas.core.frame.DataFrame'>\n",
      "RangeIndex: 6695 entries, 0 to 6694\n",
      "Data columns (total 52 columns):\n",
      " #   Column                                        Non-Null Count  Dtype  \n",
      "---  ------                                        --------------  -----  \n",
      " 0   review_scores_communication                   5628 non-null   float64\n",
      " 1   property_type                                 6695 non-null   object \n",
      " 2   neighbourhood_group_cleansed                  0 non-null      float64\n",
      " 3   host_response_rate                            5644 non-null   object \n",
      " 4   number_of_reviews_ltm                         6695 non-null   int64  \n",
      " 5   host_total_listings_count                     6695 non-null   int64  \n",
      " 6   host_identity_verified                        6695 non-null   object \n",
      " 7   bathrooms                                     0 non-null      float64\n",
      " 8   review_scores_value                           5627 non-null   float64\n",
      " 9   license                                       4895 non-null   object \n",
      " 10  host_response_time                            5644 non-null   object \n",
      " 11  calculated_host_listings_count_private_rooms  6695 non-null   int64  \n",
      " 12  id                                            6695 non-null   int64  \n",
      " 13  calculated_host_listings_count_shared_rooms   6695 non-null   int64  \n",
      " 14  bedrooms                                      5255 non-null   float64\n",
      " 15  maximum_maximum_nights                        6695 non-null   int64  \n",
      " 16  host_listings_count                           6695 non-null   int64  \n",
      " 17  accommodates                                  6695 non-null   int64  \n",
      " 18  maximum_nights                                6695 non-null   int64  \n",
      " 19  host_acceptance_rate                          5829 non-null   object \n",
      " 20  minimum_maximum_nights                        6695 non-null   int64  \n",
      " 21  instant_bookable                              6695 non-null   object \n",
      " 22  calculated_host_listings_count_entire_homes   6695 non-null   int64  \n",
      " 23  reviews_per_month                             5641 non-null   float64\n",
      " 24  availability_365                              6695 non-null   int64  \n",
      " 25  number_of_reviews                             6695 non-null   int64  \n",
      " 26  availability_30                               6695 non-null   int64  \n",
      " 27  host_is_superhost                             6536 non-null   object \n",
      " 28  host_neighbourhood                            6346 non-null   object \n",
      " 29  host_has_profile_pic                          6695 non-null   object \n",
      " 30  beds                                          6661 non-null   float64\n",
      " 31  minimum_nights                                6695 non-null   int64  \n",
      " 32  availability_90                               6695 non-null   int64  \n",
      " 33  review_scores_checkin                         5627 non-null   float64\n",
      " 34  review_scores_rating                          5641 non-null   float64\n",
      " 35  number_of_reviews_l30d                        6695 non-null   int64  \n",
      " 36  host_verifications                            6695 non-null   object \n",
      " 37  has_availability                              6695 non-null   object \n",
      " 38  room_type                                     6695 non-null   object \n",
      " 39  availability_60                               6695 non-null   int64  \n",
      " 40  review_scores_accuracy                        5628 non-null   float64\n",
      " 41  maximum_nights_avg_ntm                        6695 non-null   float64\n",
      " 42  minimum_minimum_nights                        6695 non-null   int64  \n",
      " 43  review_scores_location                        5627 non-null   float64\n",
      " 44  neighbourhood                                 4433 non-null   object \n",
      " 45  price                                         6695 non-null   object \n",
      " 46  review_scores_cleanliness                     5628 non-null   float64\n",
      " 47  calculated_host_listings_count                6695 non-null   int64  \n",
      " 48  maximum_minimum_nights                        6695 non-null   int64  \n",
      " 49  neighbourhood_cleansed                        6695 non-null   object \n",
      " 50  minimum_nights_avg_ntm                        6695 non-null   float64\n",
      " 51  legal_listing                                 6695 non-null   bool   \n",
      "dtypes: bool(1), float64(14), int64(21), object(16)\n",
      "memory usage: 2.6+ MB\n"
     ]
    }
   ],
   "source": [
    "#print(listings_df.columns)\n",
    "listings_df.info()\n"
   ]
  },
  {
   "cell_type": "markdown",
   "metadata": {},
   "source": [
    "**listing_df for VIF**"
   ]
  },
  {
   "cell_type": "code",
   "execution_count": 23,
   "metadata": {},
   "outputs": [],
   "source": [
    "listings_df_VIF = listings_df.select_dtypes(include=['bool','float64','int64'])"
   ]
  },
  {
   "cell_type": "markdown",
   "metadata": {},
   "source": [
    "**Using VIF to filter relating variables**"
   ]
  },
  {
   "cell_type": "code",
   "execution_count": 24,
   "metadata": {},
   "outputs": [
    {
     "name": "stdout",
     "output_type": "stream",
     "text": [
      "                                        Variable        VIF\n",
      "26                        maximum_nights_avg_ntm  14.008306\n",
      "8                         maximum_maximum_nights  12.053990\n",
      "12                        minimum_maximum_nights  10.757790\n",
      "5                                             id   3.391409\n",
      "11                                maximum_nights   1.481977\n",
      "14                             reviews_per_month   1.111137\n",
      "23                        number_of_reviews_l30d   1.035312\n",
      "16                             number_of_reviews   1.021327\n",
      "13   calculated_host_listings_count_entire_homes   1.004696\n",
      "30                calculated_host_listings_count   1.004597\n",
      "6    calculated_host_listings_count_shared_rooms   1.000239\n",
      "4   calculated_host_listings_count_private_rooms   0.998034\n",
      "9                            host_listings_count   0.997279\n",
      "2                      host_total_listings_count   0.994986\n",
      "1                          number_of_reviews_ltm   0.974782\n",
      "17                               availability_30   0.957126\n",
      "31                        maximum_minimum_nights   0.954427\n",
      "19                                minimum_nights   0.953674\n",
      "27                        minimum_minimum_nights   0.943896\n",
      "32                        minimum_nights_avg_ntm   0.943490\n",
      "24                               availability_60   0.928025\n",
      "15                              availability_365   0.910552\n",
      "20                               availability_90   0.904537\n",
      "18                                          beds   0.675872\n",
      "7                                       bedrooms   0.660297\n",
      "10                                  accommodates   0.652205\n",
      "3                            review_scores_value   0.033587\n",
      "29                     review_scores_cleanliness   0.029859\n",
      "22                          review_scores_rating   0.024299\n",
      "25                        review_scores_accuracy   0.022491\n",
      "21                         review_scores_checkin   0.019292\n",
      "28                        review_scores_location   0.017273\n",
      "0                    review_scores_communication   0.016553\n"
     ]
    }
   ],
   "source": [
    "from statsmodels.stats.outliers_influence import variance_inflation_factor\n",
    "\n",
    "# Create a new dataframe to store the VIF values\n",
    "VIF_df = pd.DataFrame()\n",
    "\n",
    "# Drop all rows containing NAs in listings_df_VIF\n",
    "listings_df_VIF.drop(['bathrooms', 'neighbourhood_group_cleansed'], axis=1, inplace=True)\n",
    "listings_df_VIF.dropna(inplace=True)\n",
    "\n",
    "# Exclude the 'legal_listing' column from the analysis\n",
    "columns_to_check = [col for col in listings_df_VIF.columns if col != 'legal_listing']\n",
    "\n",
    "# Calculate the VIF for each column\n",
    "VIF_df['Variable'] = columns_to_check\n",
    "VIF_df['VIF'] = [variance_inflation_factor(listings_df_VIF[columns_to_check].values, i) for i in range(len(columns_to_check))]\n",
    "\n",
    "# Sort the dataframe by VIF values in descending order\n",
    "vif_df = VIF_df.sort_values(by='VIF', ascending=False)\n",
    "\n",
    "# Print the dataframe\n",
    "print(vif_df)\n"
   ]
  },
  {
   "cell_type": "markdown",
   "metadata": {},
   "source": [
    "**Now we should divide all of above columns into various groups.**\n",
    "\n",
    "First, there are some fields representing same things, or have been through some basic converting or cleaning, such as:\n",
    "\n",
    "1.**host_info** = ['host_response_time', 'host_response_rate', 'host_acceptance_rate', 'host_is_superhost', 'host_neighbourhood', 'host_listings_count', 'host_total_listings_count', 'host_verifications', 'host_has_profile_pic', 'host_identity_verified']\n"
   ]
  },
  {
   "cell_type": "code",
   "execution_count": 17,
   "metadata": {},
   "outputs": [],
   "source": [
    "listings_df_cleaned['host_is_superhost'] = listings_df['host_is_superhost']"
   ]
  },
  {
   "cell_type": "markdown",
   "metadata": {},
   "source": [
    "\n",
    "2.**location** = ['neighbourhood', 'neighbourhood_cleansed', 'neighbourhood_group_cleansed']\n"
   ]
  },
  {
   "cell_type": "code",
   "execution_count": 18,
   "metadata": {},
   "outputs": [
    {
     "data": {
      "text/plain": [
       "neighbourhood_cleansed\n",
       "Downtown                    1720\n",
       "West End                     512\n",
       "Kitsilano                    500\n",
       "Mount Pleasant               437\n",
       "Kensington-Cedar Cottage     427\n",
       "Downtown Eastside            350\n",
       "Riley Park                   324\n",
       "Grandview-Woodland           289\n",
       "Hastings-Sunrise             276\n",
       "Renfrew-Collingwood          248\n",
       "Dunbar Southlands            222\n",
       "Marpole                      188\n",
       "Fairview                     177\n",
       "Sunset                       159\n",
       "Victoria-Fraserview          142\n",
       "Arbutus Ridge                124\n",
       "West Point Grey              116\n",
       "Oakridge                     110\n",
       "Kerrisdale                    90\n",
       "Killarney                     88\n",
       "Shaughnessy                   80\n",
       "South Cambie                  77\n",
       "Strathcona                    39\n",
       "Name: count, dtype: int64"
      ]
     },
     "execution_count": 18,
     "metadata": {},
     "output_type": "execute_result"
    }
   ],
   "source": [
    "## After comparing three columns, 'neighbourhood_cleansed' should perfectly be as a categorical variable and represent other columns\n",
    "## print(listings_df.sample(n=20)[['neighbourhood', 'neighbourhood_cleansed', 'neighbourhood_group_cleansed']])\n",
    "\n",
    "# Check all the unique values and its frequency in column 'neighbourhood_cleansed'\n",
    "listings_df['neighbourhood_cleansed'].nunique()\n",
    "# There are 23 categories in column 'neighbourhood_cleansed'\n",
    "listings_df['neighbourhood_cleansed'].value_counts()\n",
    "\n",
    "# Problem is that how should we use this variable through one-hot coding? (too many variables, means 22 columns for coding these categories)"
   ]
  },
  {
   "cell_type": "markdown",
   "metadata": {},
   "source": [
    "3.**review_info** = ['number_of_reviews', 'number_of_reviews_ltm', 'number_of_reviews_l30d', 'review_scores_rating', 'review_scores_accuracy', 'review_scores_cleanliness', 'review_scores_checkin', 'review_scores_communication', 'review_scores_location', 'review_scores_value','reviews_per_month']\n"
   ]
  },
  {
   "cell_type": "code",
   "execution_count": 19,
   "metadata": {},
   "outputs": [
    {
     "name": "stdout",
     "output_type": "stream",
     "text": [
      "<class 'pandas.core.frame.DataFrame'>\n",
      "RangeIndex: 6695 entries, 0 to 6694\n",
      "Data columns (total 11 columns):\n",
      " #   Column                       Non-Null Count  Dtype  \n",
      "---  ------                       --------------  -----  \n",
      " 0   number_of_reviews            6695 non-null   int64  \n",
      " 1   number_of_reviews_ltm        6695 non-null   int64  \n",
      " 2   number_of_reviews_l30d       6695 non-null   int64  \n",
      " 3   review_scores_rating         5641 non-null   float64\n",
      " 4   review_scores_accuracy       5628 non-null   float64\n",
      " 5   review_scores_cleanliness    5628 non-null   float64\n",
      " 6   review_scores_checkin        5627 non-null   float64\n",
      " 7   review_scores_communication  5628 non-null   float64\n",
      " 8   review_scores_location       5627 non-null   float64\n",
      " 9   review_scores_value          5627 non-null   float64\n",
      " 10  reviews_per_month            5641 non-null   float64\n",
      "dtypes: float64(8), int64(3)\n",
      "memory usage: 575.5 KB\n"
     ]
    }
   ],
   "source": [
    "listings_df[['number_of_reviews', 'number_of_reviews_ltm', \n",
    "             'number_of_reviews_l30d', 'review_scores_rating', \n",
    "             'review_scores_accuracy', 'review_scores_cleanliness', 'review_scores_checkin', \n",
    "             'review_scores_communication', 'review_scores_location', 'review_scores_value','reviews_per_month']].info()\n",
    "\n",
    "# Columns are all int or float, plus that most of them are non-null. \n",
    "listings_df_cleaned[['number_of_reviews', 'number_of_reviews_ltm', \n",
    "             'number_of_reviews_l30d', 'review_scores_rating', \n",
    "             'review_scores_accuracy', 'review_scores_cleanliness', 'review_scores_checkin', \n",
    "             'review_scores_communication', 'review_scores_location', 'review_scores_value',\n",
    "             'reviews_per_month']]=listings_df[['number_of_reviews', 'number_of_reviews_ltm', \n",
    "             'number_of_reviews_l30d', 'review_scores_rating', \n",
    "             'review_scores_accuracy', 'review_scores_cleanliness', 'review_scores_checkin', \n",
    "             'review_scores_communication', 'review_scores_location', 'review_scores_value','reviews_per_month']]"
   ]
  },
  {
   "cell_type": "markdown",
   "metadata": {},
   "source": [
    "4.**Categories** = ['property_type', 'room_type', 'accommodates', 'bathrooms', 'bedrooms', 'beds']"
   ]
  },
  {
   "cell_type": "code",
   "execution_count": 21,
   "metadata": {},
   "outputs": [
    {
     "name": "stdout",
     "output_type": "stream",
     "text": [
      "53\n",
      "4\n",
      "6695\n",
      "0\n",
      "13\n",
      "34\n"
     ]
    }
   ],
   "source": [
    "########### property_type\n",
    "# Check all the unique values and its frequency in column 'property_type'\n",
    "print(listings_df['property_type'].nunique())\n",
    "# There are 23 categories in column 'property_type'\n",
    "#print(listings_df['property_type'].value_counts())\n",
    "\n",
    "########## room_type\n",
    "# Check all the unique values and its frequency in column 'room_type'\n",
    "print(listings_df['room_type'].nunique())\n",
    "# There are 23 categories in column 'room_type'\n",
    "#print(listings_df['room_type'].value_counts())\n",
    "\n",
    "\n",
    "\n",
    "########## bathrooms\n",
    "print(listings_df['bathrooms'].isna().sum())\n",
    "# Column 'bathrooms' is mostly NAs, therefore Excluded\n",
    "\n",
    "########## accommodates, after checking the outliers, I don't think they should be removed due to our statistical context.\n",
    "print(listings_df['accommodates'].isna().sum())\n",
    "\n",
    "# Checking outliers of 'accommodates', most of them are in range [0,8] and the largest is 16.\n",
    "\"\"\"\n",
    "sns.boxplot(listings_df['accommodates'])\n",
    "plt.show()\n",
    "Q1 = listings_df['accommodates'].quantile(0.25)\n",
    "Q3 = listings_df['accommodates'].quantile(0.75)\n",
    "IQR = Q3 - Q1\n",
    "outliers = listings_df[(listings_df['accommodates'] < Q1 - 1.5*IQR) | (listings_df['accommodates'] > Q3 + 1.5*IQR)]\n",
    "\"\"\"\n",
    "########## beds\n",
    "# Check all the unique values and its frequency in column 'beds'\n",
    "print(listings_df['beds'].nunique())\n",
    "print(listings_df['beds'].isna().sum())\n",
    "# There are 23 categories in column 'beds'\n",
    "#print(listings_df['beds'].value_counts())"
   ]
  },
  {
   "cell_type": "code",
   "execution_count": 22,
   "metadata": {},
   "outputs": [],
   "source": [
    "# Concat the new listing\n",
    "listings_df_cleaned[['property_type', 'room_type', 'accommodates', 'bedrooms', 'beds']] = listings_df[['property_type', 'room_type', 'accommodates', 'bedrooms', 'beds']]"
   ]
  },
  {
   "cell_type": "markdown",
   "metadata": {},
   "source": [
    "5.**Availability** = ['minimum_nights', 'maximum_nights', 'minimum_minimum_nights', 'maximum_minimum_nights', 'minimum_maximum_nights', 'maximum_maximum_nights', 'minimum_nights_avg_ntm', 'maximum_nights_avg_ntm', 'has_availability', 'availability_30', 'availability_60', 'availability_90', 'availability_365', 'instant_bookable']\n",
    "\n",
    "All columns above have the data type of **'integer'** or **'numeric'** except *'has_availability'* for *Boolean*.\n",
    "\n",
    "And All above are about the same topic. Therefore I suggest use the **VIF** to test their **multicollinearity** after ***normalizing these columns***."
   ]
  },
  {
   "cell_type": "code",
   "execution_count": 23,
   "metadata": {},
   "outputs": [],
   "source": [
    "# Concat the new one\n",
    "availability_list = ['minimum_nights', 'maximum_nights', 'minimum_minimum_nights', \n",
    "                     'maximum_minimum_nights', 'minimum_maximum_nights', 'maximum_maximum_nights', \n",
    "                     'minimum_nights_avg_ntm', 'maximum_nights_avg_ntm', 'has_availability', \n",
    "                     'availability_30', 'availability_60', 'availability_90', 'availability_365', 'instant_bookable']\n",
    "listings_df_cleaned[availability_list] = listings_df[availability_list]"
   ]
  },
  {
   "cell_type": "code",
   "execution_count": 69,
   "metadata": {},
   "outputs": [
    {
     "name": "stdout",
     "output_type": "stream",
     "text": [
      "Chi-square statistic: 33.26441945728767\n",
      "P-value: 8.044105931081192e-09\n",
      "Degrees of Freedom: 1\n"
     ]
    }
   ],
   "source": [
    "# Check the correlation between 'has_availability' and 'legal_listing'\n",
    "\n",
    "# construct the contingency table\n",
    "contingency_table = pd.crosstab(listings_df['legal_listing'], listings_df['has_availability'])\n",
    "\n",
    "# operate the chi-square test\n",
    "chi2, p, dof, expected = scipy.stats.chi2_contingency(contingency_table)\n",
    "\n",
    "# Print the chi-square test results\n",
    "print(\"Chi-square statistic:\", chi2)\n",
    "print(\"P-value:\", p)\n",
    "print(\"Degrees of Freedom:\", dof)\n",
    "\n",
    "# So convert boolean type to 0-1 values\n",
    "\n"
   ]
  },
  {
   "cell_type": "code",
   "execution_count": 71,
   "metadata": {},
   "outputs": [
    {
     "name": "stdout",
     "output_type": "stream",
     "text": [
      "Chi-square statistic: 3.860069172516976\n",
      "P-value: 0.04944828966682418\n",
      "Degrees of Freedom: 1\n"
     ]
    }
   ],
   "source": [
    "# Check the correlation between 'instant_bookable' and 'legal_listing'\n",
    "\n",
    "# construct the contingency table\n",
    "contingency_table = pd.crosstab(listings_df['legal_listing'], listings_df['instant_bookable'])\n",
    "\n",
    "# operate the chi-square test\n",
    "chi2, p, dof, expected = scipy.stats.chi2_contingency(contingency_table)\n",
    "\n",
    "# Print the chi-square test results\n",
    "print(\"Chi-square statistic:\", chi2)\n",
    "print(\"P-value:\", p)\n",
    "print(\"Degrees of Freedom:\", dof)\n",
    "\n",
    "# I am considering whether to abandon this column as the p-value is 0.049"
   ]
  },
  {
   "cell_type": "code",
   "execution_count": 10,
   "metadata": {},
   "outputs": [
    {
     "name": "stdout",
     "output_type": "stream",
     "text": [
      "0\n",
      "0\n",
      "0\n",
      "0\n"
     ]
    },
    {
     "data": {
      "image/png": "[encoded data removed]",
      "text/plain": [
       "<Figure size 640x480 with 1 Axes>"
      ]
     },
     "metadata": {},
     "output_type": "display_data"
    }
   ],
   "source": [
    "# Check the NA values in columns\n",
    "print(listings_df['availability_30'].isna().sum())\n",
    "print(listings_df['availability_60'].isna().sum())\n",
    "print(listings_df['availability_90'].isna().sum())\n",
    "print(listings_df['availability_365'].isna().sum())\n",
    "listings_df_cleaned['availability_30_normed'] = listings_df['availability_30']/30\n",
    "listings_df_cleaned['availability_60_normed'] = listings_df['availability_60']/60\n",
    "listings_df_cleaned['availability_90_normed'] = listings_df['availability_90']/90\n",
    "listings_df_cleaned['availability_365_normed'] = listings_df['availability_365']/365\n",
    "\n",
    "(listings_df['availability_30']/30).hist(bins=20, alpha=0.3,label='availability_30')\n",
    "(listings_df['availability_60']/60).hist(bins=20, alpha=0.3,label='availability_60')\n",
    "(listings_df['availability_90']/90).hist(bins=20, alpha=0.3,label='availability_90')\n",
    "(listings_df['availability_365']/365).hist(bins=20, alpha=0.3,label='availability_365')\n",
    "plt.legend()\n",
    "plt.show()\n"
   ]
  },
  {
   "cell_type": "code",
   "execution_count": 58,
   "metadata": {},
   "outputs": [
    {
     "name": "stdout",
     "output_type": "stream",
     "text": [
      "-0.052928564161434974\n",
      "1.4709020756292807e-05\n"
     ]
    }
   ],
   "source": [
    "# Fit the Point-Biserial Correlation model for 'availability_30'\n",
    "correlation, p_value = scipy.stats.pointbiserialr(listings_df['legal_listing']/30, listings_df['availability_30'])\n",
    "print(correlation)\n",
    "print(p_value)"
   ]
  },
  {
   "cell_type": "code",
   "execution_count": 57,
   "metadata": {},
   "outputs": [
    {
     "name": "stdout",
     "output_type": "stream",
     "text": [
      "-0.029946080873341732\n",
      "0.014270966405721817\n"
     ]
    }
   ],
   "source": [
    "# Fit the Point-Biserial Correlation model for 'availability_60'\n",
    "correlation, p_value = scipy.stats.pointbiserialr(listings_df['legal_listing']/60, listings_df['availability_60'])\n",
    "print(correlation)\n",
    "print(p_value)"
   ]
  },
  {
   "cell_type": "code",
   "execution_count": 56,
   "metadata": {},
   "outputs": [
    {
     "name": "stdout",
     "output_type": "stream",
     "text": [
      "-0.028117638563610835\n",
      "0.02140892074529158\n"
     ]
    }
   ],
   "source": [
    "# Fit the Point-Biserial Correlation model for 'availability_90'\n",
    "correlation, p_value = scipy.stats.pointbiserialr(listings_df['legal_listing']/90, listings_df['availability_90'])\n",
    "print(correlation)\n",
    "print(p_value)"
   ]
  },
  {
   "cell_type": "code",
   "execution_count": 55,
   "metadata": {},
   "outputs": [
    {
     "name": "stdout",
     "output_type": "stream",
     "text": [
      "-0.17020479061535984\n",
      "1.0728575606541276e-44\n"
     ]
    }
   ],
   "source": [
    "# Fit the Point-Biserial Correlation model for 'availability_365'\n",
    "correlation, p_value = scipy.stats.pointbiserialr(listings_df['legal_listing']/365, listings_df['availability_365'])\n",
    "print(correlation)\n",
    "print(p_value)"
   ]
  },
  {
   "cell_type": "markdown",
   "metadata": {},
   "source": [
    "6.**PRICE** = ['price']"
   ]
  },
  {
   "cell_type": "code",
   "execution_count": 25,
   "metadata": {},
   "outputs": [],
   "source": [
    "# 6.PRICE \n",
    "\n",
    "# Convert price to a float variable (already done before, so I put a '#' ahead)\n",
    "listings_df['price'] = listings_df['price'].str.replace('$', '').str.replace(',', '').astype(float)\n",
    "\n",
    "# Concat PRICE column into cleaned_listing\n",
    "listings_df_cleaned['price'] = listings_df['price']\n",
    "\n",
    "# Normalization of prices, I suggest the Z-score Normalization because \n",
    "# the lower price and higher price could have opposite indication about the legality.\n",
    "scaler = StandardScaler()\n",
    "listings_df_cleaned['price_normed'] = scaler.fit_transform(listings_df[['price']])"
   ]
  },
  {
   "cell_type": "markdown",
   "metadata": {},
   "source": [
    "7.**hosts' asset** = ['calculated_host_listings_count', 'calculated_host_listings_count_entire_homes', 'calculated_host_listings_count_private_rooms', 'calculated_host_listings_count_shared_rooms']"
   ]
  },
  {
   "cell_type": "code",
   "execution_count": 26,
   "metadata": {},
   "outputs": [],
   "source": [
    "# Concat new one\n",
    "hosts_asset_list = ['calculated_host_listings_count', 'calculated_host_listings_count_entire_homes', \n",
    "                    'calculated_host_listings_count_private_rooms', 'calculated_host_listings_count_shared_rooms']\n",
    "listings_df_cleaned[hosts_asset_list] = listings_df[hosts_asset_list]"
   ]
  },
  {
   "cell_type": "markdown",
   "metadata": {},
   "source": []
  },
  {
   "cell_type": "code",
   "execution_count": 27,
   "metadata": {},
   "outputs": [],
   "source": [
    "# Check the amount of observations containing NAs\n",
    "listings_df_cleaned_dropna = listings_df_cleaned.dropna()\n",
    "\n",
    "# Question is after delecting all listings with NAs, it turns out 4313 rows from the original 6695 rows. Is that acceptable for our analysis?"
   ]
  },
  {
   "cell_type": "code",
   "execution_count": 11,
   "metadata": {},
   "outputs": [],
   "source": [
    "# Save the dataframe to a new csv file\n",
    "#listings_df.to_csv(os.path.join('data', 'yvr_listing_data_cleaned.csv'), index=False)"
   ]
  }
 ],
 "metadata": {
  "kernelspec": {
   "display_name": "Python 3",
   "language": "python",
   "name": "python3"
  },
  "language_info": {
   "codemirror_mode": {
    "name": "ipython",
    "version": 3
   },
   "file_extension": ".py",
   "mimetype": "text/x-python",
   "name": "python",
   "nbconvert_exporter": "python",
   "pygments_lexer": "ipython3",
   "version": "3.11.5"
  }
 },
 "nbformat": 4,
 "nbformat_minor": 2
}
