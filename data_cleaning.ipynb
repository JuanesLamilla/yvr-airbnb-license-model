{
 "cells": [
  {
   "cell_type": "markdown",
   "metadata": {},
   "source": [
    "# Data Cleaning and Processing\n",
    "\n",
    "Loading in the InsideAirbnb data and cleaning it up for our later model.\n",
    "\n",
    "This includes removing unnecessary columns, removing outliers, and accounting for multicollinearity."
   ]
  },
  {
   "cell_type": "code",
   "execution_count": 1,
   "metadata": {},
   "outputs": [],
   "source": [
    "# Load libraries\n",
    "import pandas as pd\n",
    "import os\n",
    "import re\n",
    "import numpy as np\n",
    "import matplotlib.pyplot as plt\n",
    "import seaborn as sns\n",
    "from sklearn.preprocessing import MinMaxScaler, StandardScaler\n",
    "import scipy.stats\n",
    "import statsmodels.api as sm\n",
    "from statsmodels.tools.tools import add_constant\n",
    "from src import drop_column_using_vif_, show_vif_values"
   ]
  },
  {
   "cell_type": "markdown",
   "metadata": {},
   "source": [
    "## Loading in the Data\n",
    "\n",
    "Here we also removed unnecessary columns."
   ]
  },
  {
   "cell_type": "code",
   "execution_count": 2,
   "metadata": {},
   "outputs": [],
   "source": [
    "# Open yvr_listing_data.csv in the data folder\n",
    "listings_df = pd.read_csv(os.path.join('data', 'yvr_listing_data.csv'))\n",
    "\n",
    "# Exclude columns manually that are completly textual description or apparently non-related to legality(including coordinates).\n",
    "\n",
    "excluded_columns = ['listing_url','scrape_id', 'last_scraped', 'source', \n",
    "                       'name','description', 'neighborhood_overview', 'picture_url', \n",
    "                       'host_id', 'host_url', 'host_name', 'host_since', \n",
    "                       'host_location', 'host_about', 'host_thumbnail_url', \n",
    "                       'host_picture_url', 'latitude', 'longitude', 'calendar_updated', \n",
    "                       'calendar_last_scraped', 'amenities', 'bathrooms_text',\n",
    "                       'first_review','last_review']\n",
    "\n",
    "remained_columns = [col for col in listings_df if col not in excluded_columns]\n",
    "remained_columns = list(set(remained_columns))\n",
    "\n",
    "# Delete all textual description columns \n",
    "\n",
    "listings_df = listings_df[remained_columns]\n",
    "\n",
    "# Dropped completely empty columns\n",
    "listings_df= listings_df.dropna(axis=1, how='all')\n",
    "\n"
   ]
  },
  {
   "cell_type": "markdown",
   "metadata": {},
   "source": [
    "## Finding \"Legal\" Listings\n",
    "\n",
    "Using regex, we scan through the listings licenses and determine which ones are valid."
   ]
  },
  {
   "cell_type": "code",
   "execution_count": 3,
   "metadata": {},
   "outputs": [
    {
     "name": "stdout",
     "output_type": "stream",
     "text": [
      "legal_listing\n",
      "True     4604\n",
      "False    2091\n",
      "Name: count, dtype: int64\n"
     ]
    }
   ],
   "source": [
    "%%capture --no-stdout\n",
    "\"\"\"\n",
    "Create a new column titled \"legal_listing\" that contains the boolean describing whether or not the listing has a valid license.\n",
    "The column is True if the listing has a valid license or does not require one and False if the listing does not have a valid license.\n",
    "To compute the value of the column, we use the following logic:\n",
    "\n",
    "If the listing has a number in the \"license\" column with the regex pattern of r'.*?(\\d{2}[-\\s]?\\d{3}[-\\s]?\\d{3}).*?' \n",
    "OR the listing has a number in the \"minimum_nights\" column with a value equal to or greater than 30,\n",
    "THEN the \"legal_listing\" is True. ELSE the \"valid_license\" is False.\n",
    "\n",
    "Note:\n",
    "The regex pattern '.*?(\\d{2}[-\\s]?\\d{3}[-\\s]?\\d{3}).*?' is used to find a numbers with the pattern ##-###### or ##-###-### with \n",
    "spaces/dashes/nothing in between the numbers. The number can be surrounded by any number of characters. \n",
    "TODO: Verify this is the correct pattern for the license numbers and find any other ways of verifying legitimate license numbers.\n",
    "\"\"\"\n",
    "\n",
    "###Just found there are some values like 'dd-ddd-ddd', so I changed regex pattern for better compatibility\n",
    "#regex_pattern = re.compile(r'.*?(\\d{2}[-\\s]?\\d{6}).*?')\n",
    "regex_pattern = re.compile(r'.*?(\\d{2}[-\\s]?\\d{3}[-\\s]?\\d{3}).*?')\n",
    "\n",
    "# Create the valid_license column using the logic described above\n",
    "listings_df['legal_listing'] = listings_df['license'].str.contains(regex_pattern) | (listings_df['minimum_nights'] >= 30)\n",
    "\n",
    "# Create new dataframe storing values after normalization or preprocessing\n",
    "listings_df_cleaned = pd.DataFrame()\n",
    "listings_df_cleaned['id'] = listings_df['id']\n",
    "listings_df_cleaned['legal_listing'] = listings_df['legal_listing']\n",
    "\n",
    "# Drop the 'license' column for better processing\n",
    "listings_df.drop('license',axis=1, inplace=True)\n",
    "\n",
    "# Print count of valid and invalid licenses\n",
    "print(listings_df['legal_listing'].value_counts())"
   ]
  },
  {
   "cell_type": "markdown",
   "metadata": {},
   "source": [
    "## Dealing with Data Types\n",
    "\n",
    "- Converting variables to the correct data types while also cleaning unnecessary characters.\n",
    "- Accounting for categorical data with one-hot encoding."
   ]
  },
  {
   "cell_type": "code",
   "execution_count": 4,
   "metadata": {},
   "outputs": [
    {
     "name": "stdout",
     "output_type": "stream",
     "text": [
      "<class 'pandas.core.frame.DataFrame'>\n",
      "RangeIndex: 6695 entries, 0 to 6694\n",
      "Data columns (total 49 columns):\n",
      " #   Column                                        Non-Null Count  Dtype  \n",
      "---  ------                                        --------------  -----  \n",
      " 0   review_scores_rating                          5641 non-null   float64\n",
      " 1   maximum_maximum_nights                        6695 non-null   int64  \n",
      " 2   price                                         6695 non-null   object \n",
      " 3   instant_bookable                              6695 non-null   object \n",
      " 4   availability_60                               6695 non-null   int64  \n",
      " 5   host_is_superhost                             6536 non-null   object \n",
      " 6   minimum_nights_avg_ntm                        6695 non-null   float64\n",
      " 7   number_of_reviews_ltm                         6695 non-null   int64  \n",
      " 8   review_scores_location                        5627 non-null   float64\n",
      " 9   host_neighbourhood                            6346 non-null   object \n",
      " 10  host_response_time                            5644 non-null   object \n",
      " 11  id                                            6695 non-null   int64  \n",
      " 12  minimum_minimum_nights                        6695 non-null   int64  \n",
      " 13  host_total_listings_count                     6695 non-null   int64  \n",
      " 14  property_type                                 6695 non-null   object \n",
      " 15  beds                                          6661 non-null   float64\n",
      " 16  host_acceptance_rate                          5829 non-null   object \n",
      " 17  maximum_minimum_nights                        6695 non-null   int64  \n",
      " 18  review_scores_checkin                         5627 non-null   float64\n",
      " 19  calculated_host_listings_count_entire_homes   6695 non-null   int64  \n",
      " 20  host_verifications                            6695 non-null   object \n",
      " 21  minimum_nights                                6695 non-null   int64  \n",
      " 22  review_scores_cleanliness                     5628 non-null   float64\n",
      " 23  neighbourhood_cleansed                        6695 non-null   object \n",
      " 24  minimum_maximum_nights                        6695 non-null   int64  \n",
      " 25  number_of_reviews_l30d                        6695 non-null   int64  \n",
      " 26  host_response_rate                            5644 non-null   object \n",
      " 27  availability_30                               6695 non-null   int64  \n",
      " 28  host_identity_verified                        6695 non-null   object \n",
      " 29  bedrooms                                      5255 non-null   float64\n",
      " 30  accommodates                                  6695 non-null   int64  \n",
      " 31  calculated_host_listings_count_shared_rooms   6695 non-null   int64  \n",
      " 32  calculated_host_listings_count                6695 non-null   int64  \n",
      " 33  host_listings_count                           6695 non-null   int64  \n",
      " 34  maximum_nights                                6695 non-null   int64  \n",
      " 35  number_of_reviews                             6695 non-null   int64  \n",
      " 36  availability_365                              6695 non-null   int64  \n",
      " 37  calculated_host_listings_count_private_rooms  6695 non-null   int64  \n",
      " 38  has_availability                              6695 non-null   object \n",
      " 39  reviews_per_month                             5641 non-null   float64\n",
      " 40  maximum_nights_avg_ntm                        6695 non-null   float64\n",
      " 41  host_has_profile_pic                          6695 non-null   object \n",
      " 42  review_scores_value                           5627 non-null   float64\n",
      " 43  review_scores_communication                   5628 non-null   float64\n",
      " 44  neighbourhood                                 4433 non-null   object \n",
      " 45  availability_90                               6695 non-null   int64  \n",
      " 46  room_type                                     6695 non-null   object \n",
      " 47  review_scores_accuracy                        5628 non-null   float64\n",
      " 48  legal_listing                                 6695 non-null   bool   \n",
      "dtypes: bool(1), float64(12), int64(21), object(15)\n",
      "memory usage: 2.5+ MB\n"
     ]
    }
   ],
   "source": [
    "#print(listings_df.columns)\n",
    "listings_df.info()"
   ]
  },
  {
   "cell_type": "markdown",
   "metadata": {},
   "source": [
    "### Dealing with Object Columns"
   ]
  },
  {
   "cell_type": "code",
   "execution_count": 5,
   "metadata": {},
   "outputs": [
    {
     "name": "stdout",
     "output_type": "stream",
     "text": [
      "Index(['price', 'instant_bookable', 'host_is_superhost', 'host_neighbourhood',\n",
      "       'host_response_time', 'property_type', 'host_acceptance_rate',\n",
      "       'host_verifications', 'neighbourhood_cleansed', 'host_response_rate',\n",
      "       'host_identity_verified', 'has_availability', 'host_has_profile_pic',\n",
      "       'neighbourhood', 'room_type'],\n",
      "      dtype='object')\n"
     ]
    }
   ],
   "source": [
    "# Print names of object columns\n",
    "print(listings_df.select_dtypes(include=['object']).columns)"
   ]
  },
  {
   "cell_type": "code",
   "execution_count": 6,
   "metadata": {},
   "outputs": [],
   "source": [
    "#converting 'price' column\n",
    "# Convert price to a float variable\n",
    "if listings_df['price'].dtype == 'object':\n",
    "    listings_df['price'] = listings_df['price'].str.replace('$', '').str.replace(',', '').astype(float)\n",
    "\n",
    "# Convert 'host_acceptance_rate' to a float variable\n",
    "if listings_df['host_acceptance_rate'].dtype == 'object':\n",
    "    listings_df['host_acceptance_rate'] = listings_df['host_acceptance_rate'].str.replace('%', '').astype(float)\n",
    "\n",
    "# Convert 'host_response_rate' to a float variable\n",
    "if listings_df['host_response_rate'].dtype == 'object':\n",
    "    listings_df['host_response_rate'] = listings_df['host_response_rate'].str.replace('%', '').astype(float)\n",
    "\n",
    "# Convert 'host_is_superhost' to a bool variable\n",
    "if listings_df['host_is_superhost'].dtype == 'object':\n",
    "    listings_df['host_is_superhost'] = listings_df['host_is_superhost'].map({'t': 1, 'f': 0})\n",
    "\n",
    "# Convert 'host_has_profile_pic' to a bool variable\n",
    "if listings_df['host_has_profile_pic'].dtype == 'object':\n",
    "    listings_df['host_has_profile_pic'] = listings_df['host_has_profile_pic'].map({'t': 1, 'f': 0})\n",
    "\n",
    "# Convert 'has_availability' to a bool variable\n",
    "if listings_df['has_availability'].dtype == 'object':\n",
    "    listings_df['has_availability'] = listings_df['has_availability'].map({'t': 1, 'f': 0})\n",
    "\n",
    "# Convert 'instant_bookable' to a bool variable\n",
    "if listings_df['instant_bookable'].dtype == 'object':\n",
    "    listings_df['instant_bookable'] = listings_df['instant_bookable'].map({'t': 1, 'f': 0})\n",
    "\n",
    "# Convert 'host_identity_verified' to a bool variable\n",
    "if listings_df['host_identity_verified'].dtype == 'object':\n",
    "    listings_df['host_identity_verified'] = listings_df['host_identity_verified'].map({'t': 1, 'f': 0})"
   ]
  },
  {
   "cell_type": "code",
   "execution_count": 7,
   "metadata": {},
   "outputs": [
    {
     "data": {
      "text/plain": [
       "['host_neighbourhood',\n",
       " 'host_response_time',\n",
       " 'property_type',\n",
       " 'host_verifications',\n",
       " 'neighbourhood_cleansed',\n",
       " 'neighbourhood',\n",
       " 'room_type']"
      ]
     },
     "execution_count": 7,
     "metadata": {},
     "output_type": "execute_result"
    }
   ],
   "source": [
    "# Check the object columns again\n",
    "object_columns = listings_df.select_dtypes(include='object')\n",
    "\n",
    "object_columns_name = list(object_columns.columns)\n",
    "object_columns_name"
   ]
  },
  {
   "cell_type": "markdown",
   "metadata": {},
   "source": [
    "### One-hot to code categorical columns"
   ]
  },
  {
   "cell_type": "code",
   "execution_count": 8,
   "metadata": {},
   "outputs": [
    {
     "name": "stdout",
     "output_type": "stream",
     "text": [
      "Dropped categories:\n",
      "host_neighbourhood : Arbutus Ridge\n",
      "host_response_time : a few days or more\n",
      "property_type : Boat\n",
      "host_verifications : ['email', 'phone', 'photographer', 'work_email']\n",
      "neighbourhood_cleansed : Arbutus Ridge\n",
      "neighbourhood : Delta, British Columbia, Canada\n",
      "room_type : Entire home/apt\n"
     ]
    }
   ],
   "source": [
    "print(\"Dropped categories:\")\n",
    "for colname in object_columns_name:\n",
    "    # convert room_type column to 'category' dtype\n",
    "    listings_df[colname] = listings_df[colname].astype('category')\n",
    "\n",
    "    # Since we will be dropping the first category of each column, \n",
    "    # lets print out the first category of each column so we know what we are dropping\n",
    "    print(colname, ':', listings_df[colname].cat.categories[0])\n",
    "\n",
    "    # applying one-hot coding (drop_first means eliminate one freedom degree to prevent multicollinearity)\n",
    "    one_hot_encoded = pd.get_dummies(listings_df[colname], prefix=colname, drop_first=True)\n",
    "    # join new columns back to DataFrame\n",
    "    listings_df = listings_df.join(one_hot_encoded)"
   ]
  },
  {
   "cell_type": "code",
   "execution_count": 9,
   "metadata": {},
   "outputs": [
    {
     "name": "stdout",
     "output_type": "stream",
     "text": [
      "<class 'pandas.core.frame.DataFrame'>\n",
      "RangeIndex: 6695 entries, 0 to 6694\n",
      "Columns: 218 entries, review_scores_rating to room_type_Shared room\n",
      "dtypes: bool(170), category(7), float64(16), int64(25)\n",
      "memory usage: 3.2 MB\n"
     ]
    }
   ],
   "source": [
    "# Print types of all columns\n",
    "listings_df.info()"
   ]
  },
  {
   "cell_type": "markdown",
   "metadata": {},
   "source": [
    "## Preparing for VIF Analysis"
   ]
  },
  {
   "cell_type": "code",
   "execution_count": 10,
   "metadata": {},
   "outputs": [],
   "source": [
    "listings_df_VIF = listings_df.select_dtypes(include=['bool','float64','int64'])\n",
    "listings_df_VIF = listings_df_VIF.astype('float64')"
   ]
  },
  {
   "cell_type": "markdown",
   "metadata": {},
   "source": [
    "**Using VIF to filter relating variables**"
   ]
  },
  {
   "cell_type": "code",
   "execution_count": 11,
   "metadata": {},
   "outputs": [],
   "source": [
    "# calculating VIF\n",
    "\n",
    "# Drop all rows containing NAs or infs in listings_df_VIF\n",
    "listings_df_VIF.replace([np.inf, -np.inf], np.nan, inplace=True)\n",
    "listings_df_VIF.dropna(inplace=True)"
   ]
  },
  {
   "cell_type": "markdown",
   "metadata": {},
   "source": [
    "## VIF Filtering"
   ]
  },
  {
   "cell_type": "code",
   "execution_count": 13,
   "metadata": {},
   "outputs": [
    {
     "name": "stdout",
     "output_type": "stream",
     "text": [
      "Dropping: maximum_nights_avg_ntm (VIF: 13.351057622231982)\n",
      "Dropping: minimum_maximum_nights (VIF: 4.631169615734571)\n",
      "Dropping: id (VIF: 2.359721974895883)\n",
      "Dropping: calculated_host_listings_count_entire_homes (VIF: inf)\n",
      "Dropping: property_type_Camper/RV (VIF: inf)\n",
      "Dropping: property_type_Private room in boat (VIF: inf)\n",
      "Dropping: property_type_Room in bed and breakfast (VIF: inf)\n",
      "Dropping: host_verifications_['email', 'phone'] (VIF: 673.0588124720937)\n",
      "Dropping: property_type_Entire condo (VIF: 358.96550564554565)\n",
      "Dropping: host_listings_count (VIF: 165.56401036703772)\n",
      "Dropping: room_type_Private room (VIF: 91.55733351260155)\n",
      "Dropping: host_response_time_within an hour (VIF: 82.59420750093747)\n",
      "Dropping: minimum_nights_avg_ntm (VIF: 56.91497107912634)\n",
      "Dropping: calculated_host_listings_count_shared_rooms (VIF: 27.48260928998158)\n",
      "Dropping: neighbourhood_cleansed_Downtown (VIF: 24.564212352305173)\n",
      "Dropping: host_total_listings_count (VIF: 17.143836587551522)\n",
      "Dropping: availability_60 (VIF: 16.324099570637934)\n",
      "Dropping: minimum_nights (VIF: 12.27981084449624)\n",
      "Dropping: neighbourhood_cleansed_Grandview-Woodland (VIF: 10.589177434970585)\n",
      "Dropping: neighbourhood_cleansed_Kensington-Cedar Cottage (VIF: 8.714746783879086)\n",
      "Dropping: host_neighbourhood_Central Vancouver (VIF: 6.633265862925375)\n",
      "Dropping: review_scores_rating (VIF: 6.196415769058683)\n",
      "Dropping: neighbourhood_cleansed_Renfrew-Collingwood (VIF: 6.121825147592403)\n",
      "Dropping: accommodates (VIF: 6.106340695308807)\n",
      "Dropping: neighbourhood_cleansed_Kitsilano (VIF: 5.713122818317061)\n",
      "Dropping: neighbourhood_cleansed_Killarney (VIF: 5.471233095442835)\n",
      "Dropping: host_neighbourhood_Riley Park–Little Mountain (VIF: 5.156509958906975)\n",
      "Dropping: minimum_minimum_nights (VIF: 4.672328305586412)\n",
      "Dropping: neighbourhood_cleansed_Fairview (VIF: 4.5216462828757225)\n",
      "Dropping: neighbourhood_cleansed_Dunbar Southlands (VIF: 4.486901668058569)\n",
      "Dropping: neighbourhood_cleansed_West Point Grey (VIF: 4.44888842567128)\n",
      "Dropping: neighbourhood_cleansed_Sunset (VIF: 4.1213124244796955)\n",
      "Dropping: number_of_reviews_ltm (VIF: 4.04779470435406)\n",
      "Dropping: host_neighbourhood_Shaughnessy (VIF: 3.4827635517666127)\n",
      "Dropping: bedrooms (VIF: 3.455236933967518)\n",
      "Dropping: neighbourhood_cleansed_Hastings-Sunrise (VIF: 3.16739730253814)\n",
      "Dropping: reviews_per_month (VIF: 3.1516636213386886)\n",
      "Dropping: neighbourhood_cleansed_South Cambie (VIF: 3.0990003123717615)\n",
      "Dropping: neighbourhood_cleansed_Victoria-Fraserview (VIF: 3.0305132996433493)\n",
      "Dropping: review_scores_accuracy (VIF: 3.029500605879808)\n",
      "Dropping: neighbourhood_cleansed_Kerrisdale (VIF: 2.956574691769968)\n",
      "Dropping: host_neighbourhood_Oakridge (VIF: 2.8466564123089886)\n",
      "Dropping: property_type_Entire home (VIF: 2.7764000258714137)\n",
      "Dropping: review_scores_value (VIF: 2.6439193519090263)\n",
      "Dropping: availability_90 (VIF: 2.5639282855622847)\n",
      "Dropping: host_neighbourhood_Marpole (VIF: 2.3862204213756706)\n",
      "Dropping: review_scores_communication (VIF: 2.265954807828511)\n",
      "Dropping: neighbourhood_cleansed_Mount Pleasant (VIF: 2.093481159889982)\n",
      "Dropping: host_neighbourhood_North Vancouver (VIF: 2.026533761177459)\n"
     ]
    }
   ],
   "source": [
    "%%capture --no-stdout\n",
    "\n",
    "listings_df_VIF_new = drop_column_using_vif_(listings_df_VIF.drop('legal_listing', axis=1), thresh=2)"
   ]
  },
  {
   "cell_type": "code",
   "execution_count": 14,
   "metadata": {},
   "outputs": [
    {
     "name": "stdout",
     "output_type": "stream",
     "text": [
      "There are 161 variables after VIF operation.\n"
     ]
    }
   ],
   "source": [
    "# After VIF now we have the 'listings_df_VIF_new'\n",
    "print(f\"There are {listings_df_VIF_new.shape[1]} variables after VIF operation.\")\n",
    "\n",
    "# Add legal_listing back to csv\n",
    "listings_df_VIF_new['legal_listing'] = listings_df_VIF['legal_listing']\n",
    "\n",
    "\n",
    "# And save the new dataframe to csv.file\n",
    "listings_df_VIF_new.to_csv(os.path.join('data','yvr_listing_data_cleaned.csv'),index=False)"
   ]
  }
 ],
 "metadata": {
  "kernelspec": {
   "display_name": "Python 3",
   "language": "python",
   "name": "python3"
  },
  "language_info": {
   "codemirror_mode": {
    "name": "ipython",
    "version": 3
   },
   "file_extension": ".py",
   "mimetype": "text/x-python",
   "name": "python",
   "nbconvert_exporter": "python",
   "pygments_lexer": "ipython3",
   "version": "3.12.0"
  }
 },
 "nbformat": 4,
 "nbformat_minor": 2
}
