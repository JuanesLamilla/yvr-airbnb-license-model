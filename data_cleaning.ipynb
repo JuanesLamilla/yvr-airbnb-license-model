{
 "cells": [
  {
   "cell_type": "code",
   "execution_count": 1,
   "metadata": {},
   "outputs": [],
   "source": [
    "# Load libraries\n",
    "import pandas as pd\n",
    "import os\n",
    "import re\n",
    "import numpy as np\n",
    "import matplotlib.pyplot as plt\n",
    "import seaborn as sns\n",
    "from sklearn.preprocessing import MinMaxScaler, StandardScaler\n",
    "import scipy.stats\n",
    "import statsmodels.api as sm"
   ]
  },
  {
   "cell_type": "code",
   "execution_count": 2,
   "metadata": {},
   "outputs": [],
   "source": [
    "# Open yvr_listing_data.csv in the data folder\n",
    "listings_df = pd.read_csv(os.path.join('data', 'yvr_listing_data.csv'))\n",
    "\n",
    "# Print columns\n",
    "# print(listings_df.columns)\n",
    "\n",
    "# Exclude columns manually that are completly textual description or apparently non-related to legality(including coordinates).\n",
    "\n",
    "excluded_columns = ['listing_url','scrape_id', 'last_scraped', 'source', \n",
    "                       'name','description', 'neighborhood_overview', 'picture_url', \n",
    "                       'host_id', 'host_url', 'host_name', 'host_since', \n",
    "                       'host_location', 'host_about', 'host_thumbnail_url', \n",
    "                       'host_picture_url', 'latitude', 'longitude', 'calendar_updated', \n",
    "                       'calendar_last_scraped', 'amenities', 'bathrooms_text',\n",
    "                       'first_review','last_review']\n",
    "\n",
    "remained_columns = [col for col in listings_df if col not in excluded_columns]\n",
    "remained_columns = list(set(remained_columns))\n",
    "\n",
    "# Delete all textual description columns \n",
    "\n",
    "listings_df = listings_df[remained_columns]\n",
    "\n"
   ]
  },
  {
   "cell_type": "code",
   "execution_count": 5,
   "metadata": {},
   "outputs": [
    {
     "ename": "KeyError",
     "evalue": "'license'",
     "output_type": "error",
     "traceback": [
      "\u001b[1;31m---------------------------------------------------------------------------\u001b[0m",
      "\u001b[1;31mKeyError\u001b[0m                                  Traceback (most recent call last)",
      "File \u001b[1;32mc:\\Users\\SBH\\anaconda3\\Lib\\site-packages\\pandas\\core\\indexes\\base.py:3653\u001b[0m, in \u001b[0;36mIndex.get_loc\u001b[1;34m(self, key)\u001b[0m\n\u001b[0;32m   3652\u001b[0m \u001b[39mtry\u001b[39;00m:\n\u001b[1;32m-> 3653\u001b[0m     \u001b[39mreturn\u001b[39;00m \u001b[39mself\u001b[39;49m\u001b[39m.\u001b[39;49m_engine\u001b[39m.\u001b[39;49mget_loc(casted_key)\n\u001b[0;32m   3654\u001b[0m \u001b[39mexcept\u001b[39;00m \u001b[39mKeyError\u001b[39;00m \u001b[39mas\u001b[39;00m err:\n",
      "File \u001b[1;32mc:\\Users\\SBH\\anaconda3\\Lib\\site-packages\\pandas\\_libs\\index.pyx:147\u001b[0m, in \u001b[0;36mpandas._libs.index.IndexEngine.get_loc\u001b[1;34m()\u001b[0m\n",
      "File \u001b[1;32mc:\\Users\\SBH\\anaconda3\\Lib\\site-packages\\pandas\\_libs\\index.pyx:176\u001b[0m, in \u001b[0;36mpandas._libs.index.IndexEngine.get_loc\u001b[1;34m()\u001b[0m\n",
      "File \u001b[1;32mpandas\\_libs\\hashtable_class_helper.pxi:7080\u001b[0m, in \u001b[0;36mpandas._libs.hashtable.PyObjectHashTable.get_item\u001b[1;34m()\u001b[0m\n",
      "File \u001b[1;32mpandas\\_libs\\hashtable_class_helper.pxi:7088\u001b[0m, in \u001b[0;36mpandas._libs.hashtable.PyObjectHashTable.get_item\u001b[1;34m()\u001b[0m\n",
      "\u001b[1;31mKeyError\u001b[0m: 'license'",
      "\nThe above exception was the direct cause of the following exception:\n",
      "\u001b[1;31mKeyError\u001b[0m                                  Traceback (most recent call last)",
      "\u001b[1;32mc:\\Users\\SBH\\OneDrive - University College London\\#CASA0007__QuantitativeMethods\\ASSESSMENT\\GroupworkPresentation\\yvr-airbnb-license-model\\data_cleaning.ipynb Cell 3\u001b[0m line \u001b[0;36m2\n\u001b[0;32m     <a href='vscode-notebook-cell:/c%3A/Users/SBH/OneDrive%20-%20University%20College%20London/%23CASA0007__QuantitativeMethods/ASSESSMENT/GroupworkPresentation/yvr-airbnb-license-model/data_cleaning.ipynb#W2sZmlsZQ%3D%3D?line=18'>19</a>\u001b[0m regex_pattern \u001b[39m=\u001b[39m re\u001b[39m.\u001b[39mcompile(\u001b[39mr\u001b[39m\u001b[39m'\u001b[39m\u001b[39m.*?(\u001b[39m\u001b[39m\\\u001b[39m\u001b[39md\u001b[39m\u001b[39m{2}\u001b[39;00m\u001b[39m[-\u001b[39m\u001b[39m\\\u001b[39m\u001b[39ms]?\u001b[39m\u001b[39m\\\u001b[39m\u001b[39md\u001b[39m\u001b[39m{3}\u001b[39;00m\u001b[39m[-\u001b[39m\u001b[39m\\\u001b[39m\u001b[39ms]?\u001b[39m\u001b[39m\\\u001b[39m\u001b[39md\u001b[39m\u001b[39m{3}\u001b[39;00m\u001b[39m).*?\u001b[39m\u001b[39m'\u001b[39m)\n\u001b[0;32m     <a href='vscode-notebook-cell:/c%3A/Users/SBH/OneDrive%20-%20University%20College%20London/%23CASA0007__QuantitativeMethods/ASSESSMENT/GroupworkPresentation/yvr-airbnb-license-model/data_cleaning.ipynb#W2sZmlsZQ%3D%3D?line=20'>21</a>\u001b[0m \u001b[39m# Create the valid_license column using the logic described above\u001b[39;00m\n\u001b[1;32m---> <a href='vscode-notebook-cell:/c%3A/Users/SBH/OneDrive%20-%20University%20College%20London/%23CASA0007__QuantitativeMethods/ASSESSMENT/GroupworkPresentation/yvr-airbnb-license-model/data_cleaning.ipynb#W2sZmlsZQ%3D%3D?line=21'>22</a>\u001b[0m listings_df[\u001b[39m'\u001b[39m\u001b[39mlegal_listing\u001b[39m\u001b[39m'\u001b[39m] \u001b[39m=\u001b[39m listings_df[\u001b[39m'\u001b[39;49m\u001b[39mlicense\u001b[39;49m\u001b[39m'\u001b[39;49m]\u001b[39m.\u001b[39mstr\u001b[39m.\u001b[39mcontains(regex_pattern) \u001b[39m|\u001b[39m (listings_df[\u001b[39m'\u001b[39m\u001b[39mminimum_nights\u001b[39m\u001b[39m'\u001b[39m] \u001b[39m>\u001b[39m\u001b[39m=\u001b[39m \u001b[39m30\u001b[39m)\n\u001b[0;32m     <a href='vscode-notebook-cell:/c%3A/Users/SBH/OneDrive%20-%20University%20College%20London/%23CASA0007__QuantitativeMethods/ASSESSMENT/GroupworkPresentation/yvr-airbnb-license-model/data_cleaning.ipynb#W2sZmlsZQ%3D%3D?line=23'>24</a>\u001b[0m \u001b[39m# Create new dataframe storing values after normalization or preprocessing\u001b[39;00m\n\u001b[0;32m     <a href='vscode-notebook-cell:/c%3A/Users/SBH/OneDrive%20-%20University%20College%20London/%23CASA0007__QuantitativeMethods/ASSESSMENT/GroupworkPresentation/yvr-airbnb-license-model/data_cleaning.ipynb#W2sZmlsZQ%3D%3D?line=24'>25</a>\u001b[0m listings_df_cleaned \u001b[39m=\u001b[39m pd\u001b[39m.\u001b[39mDataFrame()\n",
      "File \u001b[1;32mc:\\Users\\SBH\\anaconda3\\Lib\\site-packages\\pandas\\core\\frame.py:3761\u001b[0m, in \u001b[0;36mDataFrame.__getitem__\u001b[1;34m(self, key)\u001b[0m\n\u001b[0;32m   3759\u001b[0m \u001b[39mif\u001b[39;00m \u001b[39mself\u001b[39m\u001b[39m.\u001b[39mcolumns\u001b[39m.\u001b[39mnlevels \u001b[39m>\u001b[39m \u001b[39m1\u001b[39m:\n\u001b[0;32m   3760\u001b[0m     \u001b[39mreturn\u001b[39;00m \u001b[39mself\u001b[39m\u001b[39m.\u001b[39m_getitem_multilevel(key)\n\u001b[1;32m-> 3761\u001b[0m indexer \u001b[39m=\u001b[39m \u001b[39mself\u001b[39;49m\u001b[39m.\u001b[39;49mcolumns\u001b[39m.\u001b[39;49mget_loc(key)\n\u001b[0;32m   3762\u001b[0m \u001b[39mif\u001b[39;00m is_integer(indexer):\n\u001b[0;32m   3763\u001b[0m     indexer \u001b[39m=\u001b[39m [indexer]\n",
      "File \u001b[1;32mc:\\Users\\SBH\\anaconda3\\Lib\\site-packages\\pandas\\core\\indexes\\base.py:3655\u001b[0m, in \u001b[0;36mIndex.get_loc\u001b[1;34m(self, key)\u001b[0m\n\u001b[0;32m   3653\u001b[0m     \u001b[39mreturn\u001b[39;00m \u001b[39mself\u001b[39m\u001b[39m.\u001b[39m_engine\u001b[39m.\u001b[39mget_loc(casted_key)\n\u001b[0;32m   3654\u001b[0m \u001b[39mexcept\u001b[39;00m \u001b[39mKeyError\u001b[39;00m \u001b[39mas\u001b[39;00m err:\n\u001b[1;32m-> 3655\u001b[0m     \u001b[39mraise\u001b[39;00m \u001b[39mKeyError\u001b[39;00m(key) \u001b[39mfrom\u001b[39;00m \u001b[39merr\u001b[39;00m\n\u001b[0;32m   3656\u001b[0m \u001b[39mexcept\u001b[39;00m \u001b[39mTypeError\u001b[39;00m:\n\u001b[0;32m   3657\u001b[0m     \u001b[39m# If we have a listlike key, _check_indexing_error will raise\u001b[39;00m\n\u001b[0;32m   3658\u001b[0m     \u001b[39m#  InvalidIndexError. Otherwise we fall through and re-raise\u001b[39;00m\n\u001b[0;32m   3659\u001b[0m     \u001b[39m#  the TypeError.\u001b[39;00m\n\u001b[0;32m   3660\u001b[0m     \u001b[39mself\u001b[39m\u001b[39m.\u001b[39m_check_indexing_error(key)\n",
      "\u001b[1;31mKeyError\u001b[0m: 'license'"
     ]
    }
   ],
   "source": [
    "#%%capture --no-stdout\n",
    "\"\"\"\n",
    "Create a new column titled \"legal_listing\" that contains the boolean describing whether or not the listing has a valid license.\n",
    "The column is True if the listing has a valid license or does not require one and False if the listing does not have a valid license.\n",
    "To compute the value of the column, we use the following logic:\n",
    "\n",
    "If the listing has a number in the \"license\" column with the regex pattern of r'.*?(\\d{2}[-\\s]?\\d{6}).*?' \n",
    "OR the listing has a number in the \"minimum_nights\" column with a value equal to or greater than 30,\n",
    "THEN the \"legal_listing\" is True. ELSE the \"valid_license\" is False.\n",
    "\n",
    "Note:\n",
    "The regex pattern r'.*?(\\d{2}[-\\s]?\\d{6}).*?' is used to find a number with 2 digits, followed by a dash or space, \n",
    "followed by 6 digits. The number can be surrounded by any number of characters. \n",
    "TODO: Verify this is the correct pattern for the license numbers and find any other ways of verifying legitimate license numbers.\n",
    "\"\"\"\n",
    "\n",
    "###Just found there are some values like 'dd-ddd-ddd', so I changed regex pattern for better compatibility\n",
    "#regex_pattern = re.compile(r'.*?(\\d{2}[-\\s]?\\d{6}).*?')\n",
    "regex_pattern = re.compile(r'.*?(\\d{2}[-\\s]?\\d{3}[-\\s]?\\d{3}).*?')\n",
    "\n",
    "# Create the valid_license column using the logic described above\n",
    "listings_df['legal_listing'] = listings_df['license'].str.contains(regex_pattern) | (listings_df['minimum_nights'] >= 30)\n",
    "\n",
    "# Create new dataframe storing values after normalization or preprocessing\n",
    "listings_df_cleaned = pd.DataFrame()\n",
    "listings_df_cleaned['id'] = listings_df['id']\n",
    "listings_df_cleaned['legal_listing'] = listings_df['legal_listing']\n",
    "\n",
    "# Drop the 'license' column for better processing\n",
    "listings_df.drop('license',axis=1, inplace=True)\n",
    "\n",
    "\n",
    "# Print only the columns we are interested in\n",
    "#print(listings_df[['id', 'license', 'minimum_nights', 'legal_listing']])\n",
    "\n",
    "# Print count of valid and invalid licenses\n",
    "#print(listings_df['legal_listing'].value_counts())"
   ]
  },
  {
   "cell_type": "markdown",
   "metadata": {},
   "source": [
    "Hey guys, just came up with a new assumption: As our main goal is to construct a regression model and predict a new-coming property's legality, should we neglect all of those 'post-occupancy evaluation'  fields just like 'review_score' or 'host_response_time'? Because all of those information was collected after some renter's experience, while what we are trying to do is to provide more useful information for renters before the renting contract?\n",
    "\n",
    "And I have done some preliminary filtering and division among all columns."
   ]
  },
  {
   "cell_type": "code",
   "execution_count": 6,
   "metadata": {},
   "outputs": [
    {
     "name": "stdout",
     "output_type": "stream",
     "text": [
      "<class 'pandas.core.frame.DataFrame'>\n",
      "RangeIndex: 6695 entries, 0 to 6694\n",
      "Data columns (total 51 columns):\n",
      " #   Column                                        Non-Null Count  Dtype  \n",
      "---  ------                                        --------------  -----  \n",
      " 0   price                                         6695 non-null   object \n",
      " 1   host_is_superhost                             6536 non-null   object \n",
      " 2   calculated_host_listings_count_private_rooms  6695 non-null   int64  \n",
      " 3   review_scores_checkin                         5627 non-null   float64\n",
      " 4   calculated_host_listings_count_shared_rooms   6695 non-null   int64  \n",
      " 5   maximum_nights_avg_ntm                        6695 non-null   float64\n",
      " 6   host_response_time                            5644 non-null   object \n",
      " 7   number_of_reviews                             6695 non-null   int64  \n",
      " 8   availability_60                               6695 non-null   int64  \n",
      " 9   review_scores_cleanliness                     5628 non-null   float64\n",
      " 10  calculated_host_listings_count                6695 non-null   int64  \n",
      " 11  review_scores_communication                   5628 non-null   float64\n",
      " 12  availability_365                              6695 non-null   int64  \n",
      " 13  accommodates                                  6695 non-null   int64  \n",
      " 14  room_type                                     6695 non-null   object \n",
      " 15  maximum_maximum_nights                        6695 non-null   int64  \n",
      " 16  reviews_per_month                             5641 non-null   float64\n",
      " 17  availability_30                               6695 non-null   int64  \n",
      " 18  host_identity_verified                        6695 non-null   object \n",
      " 19  number_of_reviews_ltm                         6695 non-null   int64  \n",
      " 20  maximum_minimum_nights                        6695 non-null   int64  \n",
      " 21  availability_90                               6695 non-null   int64  \n",
      " 22  bathrooms                                     0 non-null      float64\n",
      " 23  neighbourhood_group_cleansed                  0 non-null      float64\n",
      " 24  review_scores_accuracy                        5628 non-null   float64\n",
      " 25  instant_bookable                              6695 non-null   object \n",
      " 26  minimum_maximum_nights                        6695 non-null   int64  \n",
      " 27  number_of_reviews_l30d                        6695 non-null   int64  \n",
      " 28  neighbourhood                                 4433 non-null   object \n",
      " 29  bedrooms                                      5255 non-null   float64\n",
      " 30  host_verifications                            6695 non-null   object \n",
      " 31  host_neighbourhood                            6346 non-null   object \n",
      " 32  review_scores_location                        5627 non-null   float64\n",
      " 33  host_total_listings_count                     6695 non-null   int64  \n",
      " 34  minimum_nights                                6695 non-null   int64  \n",
      " 35  minimum_nights_avg_ntm                        6695 non-null   float64\n",
      " 36  host_response_rate                            5644 non-null   object \n",
      " 37  review_scores_value                           5627 non-null   float64\n",
      " 38  property_type                                 6695 non-null   object \n",
      " 39  has_availability                              6695 non-null   object \n",
      " 40  host_acceptance_rate                          5829 non-null   object \n",
      " 41  neighbourhood_cleansed                        6695 non-null   object \n",
      " 42  id                                            6695 non-null   int64  \n",
      " 43  beds                                          6661 non-null   float64\n",
      " 44  calculated_host_listings_count_entire_homes   6695 non-null   int64  \n",
      " 45  review_scores_rating                          5641 non-null   float64\n",
      " 46  host_has_profile_pic                          6695 non-null   object \n",
      " 47  minimum_minimum_nights                        6695 non-null   int64  \n",
      " 48  maximum_nights                                6695 non-null   int64  \n",
      " 49  host_listings_count                           6695 non-null   int64  \n",
      " 50  legal_listing                                 6695 non-null   bool   \n",
      "dtypes: bool(1), float64(14), int64(21), object(15)\n",
      "memory usage: 2.6+ MB\n"
     ]
    }
   ],
   "source": [
    "#print(listings_df.columns)\n",
    "listings_df.info()"
   ]
  },
  {
   "cell_type": "markdown",
   "metadata": {},
   "source": [
    "**Dealing with some object column**"
   ]
  },
  {
   "cell_type": "code",
   "execution_count": 5,
   "metadata": {},
   "outputs": [
    {
     "data": {
      "text/plain": [
       "['host_verifications',\n",
       " 'room_type',\n",
       " 'price',\n",
       " 'neighbourhood_cleansed',\n",
       " 'host_neighbourhood',\n",
       " 'host_is_superhost',\n",
       " 'host_acceptance_rate',\n",
       " 'host_response_time',\n",
       " 'has_availability',\n",
       " 'host_identity_verified',\n",
       " 'neighbourhood',\n",
       " 'host_has_profile_pic',\n",
       " 'host_response_rate',\n",
       " 'instant_bookable',\n",
       " 'property_type']"
      ]
     },
     "execution_count": 5,
     "metadata": {},
     "output_type": "execute_result"
    }
   ],
   "source": [
    "object_columns = listings_df.select_dtypes(include='object')\n",
    "\n",
    "object_columns_name = list(object_columns.columns)\n",
    "object_columns_name"
   ]
  },
  {
   "cell_type": "code",
   "execution_count": 7,
   "metadata": {},
   "outputs": [],
   "source": [
    "#converting 'price' column\n",
    "# Convert price to a float variable\n",
    "if listings_df['price'].dtype == 'object':\n",
    "    listings_df['price'] = listings_df['price'].str.replace('$', '').str.replace(',', '').astype(float)\n",
    "\n",
    "# Convert 'host_acceptance_rate' to a float variable\n",
    "if listings_df['host_acceptance_rate'].dtype == 'object':\n",
    "    listings_df['host_acceptance_rate'] = listings_df['host_acceptance_rate'].str.replace('%', '').astype('int64')\n",
    "\n",
    "# Convert 'host_response_rate' to a float variable\n",
    "if listings_df['host_response_rate'].dtype == 'object':\n",
    "    listings_df['host_response_rate'] = listings_df['host_response_rate'].str.replace('%', '').astype('int64')\n",
    "    \n",
    "\n",
    "# Convert 'host_is_superhost' to a bool variable\n",
    "if listings_df['host_is_superhost'].dtype == 'object':\n",
    "    listings_df['host_is_superhost'] = listings_df['host_is_superhost'].map({'t': 1, 'f': 0})\n",
    "\n",
    "# Convert 'host_has_profile_pic' to a bool variable\n",
    "if listings_df['host_has_profile_pic'].dtype == 'object':\n",
    "    listings_df['host_has_profile_pic'] = listings_df['host_has_profile_pic'].map({'t': 1, 'f': 0})\n",
    "\n",
    "# Convert 'has_availability' to a bool variable\n",
    "if listings_df['has_availability'].dtype == 'object':\n",
    "    listings_df['has_availability'] = listings_df['has_availability'].map({'t': 1, 'f': 0})\n",
    "\n",
    "# Convert 'instant_bookable' to a bool variable\n",
    "if listings_df['instant_bookable'].dtype == 'object':\n",
    "    listings_df['instant_bookable'] = listings_df['instant_bookable'].map({'t': 1, 'f': 0})"
   ]
  },
  {
   "cell_type": "code",
   "execution_count": 8,
   "metadata": {},
   "outputs": [
    {
     "data": {
      "text/plain": [
       "['host_response_time',\n",
       " 'room_type',\n",
       " 'host_identity_verified',\n",
       " 'neighbourhood',\n",
       " 'host_verifications',\n",
       " 'host_neighbourhood',\n",
       " 'property_type',\n",
       " 'neighbourhood_cleansed']"
      ]
     },
     "execution_count": 8,
     "metadata": {},
     "output_type": "execute_result"
    }
   ],
   "source": [
    "# Check the object columns again\n",
    "object_columns = listings_df.select_dtypes(include='object')\n",
    "\n",
    "object_columns_name = list(object_columns.columns)\n",
    "object_columns_name"
   ]
  },
  {
   "cell_type": "markdown",
   "metadata": {},
   "source": [
    "**One-hot to code categorical columns**"
   ]
  },
  {
   "cell_type": "code",
   "execution_count": 9,
   "metadata": {},
   "outputs": [],
   "source": [
    "for colname in object_columns_name:\n",
    "    # convert room_type column to 'category' dtype\n",
    "    listings_df[colname] = listings_df[colname].astype('category')\n",
    "    # applying one-hot coding (drop_first means eliminate one freedom degree to prevent multicollinearity)\n",
    "    one_hot_encoded = pd.get_dummies(listings_df[colname], prefix=colname, drop_first=True)\n",
    "    # join new columns back to DataFrame\n",
    "    listings_df = listings_df.join(one_hot_encoded)"
   ]
  },
  {
   "cell_type": "markdown",
   "metadata": {},
   "source": [
    "**listing_df for VIF**"
   ]
  },
  {
   "cell_type": "code",
   "execution_count": 10,
   "metadata": {},
   "outputs": [],
   "source": [
    "listings_df_VIF = listings_df.select_dtypes(include=['bool','float64','int64'])\n",
    "listings_df_VIF.drop(['bathrooms', 'neighbourhood_group_cleansed'], axis=1, inplace=True)"
   ]
  },
  {
   "cell_type": "markdown",
   "metadata": {},
   "source": [
    "**Using VIF to filter relating variables**"
   ]
  },
  {
   "cell_type": "code",
   "execution_count": 11,
   "metadata": {},
   "outputs": [
    {
     "name": "stdout",
     "output_type": "stream",
     "text": [
      "<class 'pandas.core.frame.DataFrame'>\n",
      "RangeIndex: 6695 entries, 0 to 6694\n",
      "Columns: 211 entries, price to neighbourhood_cleansed_West Point Grey\n",
      "dtypes: Int64(2), bool(171), float64(14), int64(24)\n",
      "memory usage: 3.1 MB\n"
     ]
    }
   ],
   "source": [
    "int64_columns = listings_df_VIF.select_dtypes(include='Int64').columns\n",
    "listings_df_VIF.info()\n",
    "\n"
   ]
  },
  {
   "cell_type": "code",
   "execution_count": 12,
   "metadata": {},
   "outputs": [
    {
     "name": "stdout",
     "output_type": "stream",
     "text": [
      "['host_response_rate', 'host_acceptance_rate']\n"
     ]
    }
   ],
   "source": [
    "# 假设 listings_df_VIF 是你的DataFrame\n",
    "columns_Int64 = [col for col in listings_df_VIF.columns if pd.api.types.is_integer_dtype(listings_df_VIF[col]) and listings_df_VIF[col].dtype.name == 'Int64']\n",
    "\n",
    "print(columns_Int64)\n"
   ]
  },
  {
   "cell_type": "code",
   "execution_count": 13,
   "metadata": {},
   "outputs": [],
   "source": [
    "listings_df_VIF['host_response_rate']=listings_df_VIF['host_response_rate'].astype(float)\n",
    "listings_df_VIF['host_acceptance_rate']=listings_df_VIF['host_acceptance_rate'].astype(float)"
   ]
  },
  {
   "cell_type": "code",
   "execution_count": 14,
   "metadata": {},
   "outputs": [],
   "source": [
    "\n",
    "listings_df_VIF = listings_df_VIF.astype('float64')"
   ]
  },
  {
   "cell_type": "code",
   "execution_count": 15,
   "metadata": {},
   "outputs": [],
   "source": [
    "# calculating VIF\n",
    "# This function is adjusted from: https://stackoverflow.com/a/51329496/4667568\n",
    "from statsmodels.stats.outliers_influence import variance_inflation_factor \n",
    "from statsmodels.tools.tools import add_constant\n",
    "\n",
    "# Drop all rows containing NAs or infs in listings_df_VIF\n",
    "\n",
    "\n",
    "listings_df_VIF.replace([np.inf, -np.inf], np.nan, inplace=True)\n",
    "listings_df_VIF.dropna(inplace=True)\n",
    "df_with_const = add_constant(listings_df_VIF,has_constant='add')"
   ]
  },
  {
   "cell_type": "code",
   "execution_count": 15,
   "metadata": {},
   "outputs": [
    {
     "name": "stdout",
     "output_type": "stream",
     "text": [
      "Help on function add_constant in module statsmodels.tools.tools:\n",
      "\n",
      "add_constant(data, prepend=True, has_constant='skip')\n",
      "    Add a column of ones to an array.\n",
      "    \n",
      "    Parameters\n",
      "    ----------\n",
      "    data : array_like\n",
      "        A column-ordered design matrix.\n",
      "    prepend : bool\n",
      "        If true, the constant is in the first column.  Else the constant is\n",
      "        appended (last column).\n",
      "    has_constant : str {'raise', 'add', 'skip'}\n",
      "        Behavior if ``data`` already has a constant. The default will return\n",
      "        data without adding another constant. If 'raise', will raise an\n",
      "        error if any column has a constant value. Using 'add' will add a\n",
      "        column of 1s if a constant column is present.\n",
      "    \n",
      "    Returns\n",
      "    -------\n",
      "    array_like\n",
      "        The original values with a constant (column of ones) as the first or\n",
      "        last column. Returned value type depends on input type.\n",
      "    \n",
      "    Notes\n",
      "    -----\n",
      "    When the input is a pandas Series or DataFrame, the added column's name\n",
      "    is 'const'.\n",
      "\n"
     ]
    }
   ],
   "source": [
    "help(add_constant)"
   ]
  },
  {
   "cell_type": "code",
   "execution_count": 16,
   "metadata": {},
   "outputs": [],
   "source": [
    "\n",
    "\n",
    "def drop_column_using_vif_(df, thresh=2):\n",
    "    '''\n",
    "    Calculates VIF each feature in a pandas dataframe, and repeatedly drop the columns with the highest VIF\n",
    "    A constant must be added to variance_inflation_factor or the results will be incorrect\n",
    "\n",
    "    :param df: the pandas dataframe containing only the predictor features, not the response variable\n",
    "    :param thresh: (default 5) the threshould VIF value. If the VIF of a variable is greater than thresh, it should be removed from the dataframe\n",
    "    :return: dataframe with multicollinear features removed\n",
    "    '''\n",
    "    while True:\n",
    "        \n",
    "        # adding a constatnt item to the data. add_constant is a function from statsmodels (see the import above)\n",
    "        df_with_const = add_constant(df,has_constant='add')\n",
    "\n",
    "        if 'const' in df_with_const.columns:\n",
    "            vif_df = pd.Series([variance_inflation_factor(df_with_const.values, i) for i in range(df_with_const.shape[1])], name= \"VIF\", \n",
    "                                index=df_with_const.columns).to_frame()\n",
    "\n",
    "            # drop the const\n",
    "            vif_df = vif_df.drop('const')\n",
    "        else:\n",
    "            raise ValueError(\"constant column 'const' not successfully added\")\n",
    "        \n",
    "        # if the largest VIF is above the thresh, remove a variable with the largest VIF\n",
    "        # If there are multiple variabels with VIF>thresh, only one of them is removed. This is because we want to keep as many variables as possible\n",
    "        if vif_df.VIF.max() > thresh:\n",
    "            # If there are multiple variables with the maximum VIF, choose the first one\n",
    "            index_to_drop = vif_df.index[vif_df.VIF == vif_df.VIF.max()].tolist()[0]\n",
    "            print('Dropping: {}'.format(index_to_drop))\n",
    "            df = df.drop(columns = index_to_drop)\n",
    "        else:\n",
    "            # No VIF is above threshold. Exit the loop\n",
    "            break\n",
    "\n",
    "    return df"
   ]
  },
  {
   "cell_type": "markdown",
   "metadata": {},
   "source": [
    "***VIF***"
   ]
  },
  {
   "cell_type": "code",
   "execution_count": 17,
   "metadata": {},
   "outputs": [
    {
     "name": "stderr",
     "output_type": "stream",
     "text": [
      "c:\\Users\\SBH\\anaconda3\\Lib\\site-packages\\statsmodels\\regression\\linear_model.py:1781: RuntimeWarning: divide by zero encountered in scalar divide\n",
      "  return 1 - self.ssr/self.centered_tss\n",
      "c:\\Users\\SBH\\anaconda3\\Lib\\site-packages\\statsmodels\\regression\\linear_model.py:1781: RuntimeWarning: invalid value encountered in scalar divide\n",
      "  return 1 - self.ssr/self.centered_tss\n"
     ]
    },
    {
     "name": "stdout",
     "output_type": "stream",
     "text": [
      "Dropping: maximum_nights_avg_ntm\n"
     ]
    },
    {
     "name": "stderr",
     "output_type": "stream",
     "text": [
      "c:\\Users\\SBH\\anaconda3\\Lib\\site-packages\\statsmodels\\regression\\linear_model.py:1781: RuntimeWarning: divide by zero encountered in scalar divide\n",
      "  return 1 - self.ssr/self.centered_tss\n",
      "c:\\Users\\SBH\\anaconda3\\Lib\\site-packages\\statsmodels\\regression\\linear_model.py:1781: RuntimeWarning: invalid value encountered in scalar divide\n",
      "  return 1 - self.ssr/self.centered_tss\n"
     ]
    },
    {
     "name": "stdout",
     "output_type": "stream",
     "text": [
      "Dropping: maximum_maximum_nights\n"
     ]
    },
    {
     "name": "stderr",
     "output_type": "stream",
     "text": [
      "c:\\Users\\SBH\\anaconda3\\Lib\\site-packages\\statsmodels\\regression\\linear_model.py:1781: RuntimeWarning: divide by zero encountered in scalar divide\n",
      "  return 1 - self.ssr/self.centered_tss\n",
      "c:\\Users\\SBH\\anaconda3\\Lib\\site-packages\\statsmodels\\regression\\linear_model.py:1781: RuntimeWarning: invalid value encountered in scalar divide\n",
      "  return 1 - self.ssr/self.centered_tss\n"
     ]
    },
    {
     "name": "stdout",
     "output_type": "stream",
     "text": [
      "Dropping: id\n"
     ]
    },
    {
     "name": "stderr",
     "output_type": "stream",
     "text": [
      "c:\\Users\\SBH\\anaconda3\\Lib\\site-packages\\statsmodels\\regression\\linear_model.py:1781: RuntimeWarning: divide by zero encountered in scalar divide\n",
      "  return 1 - self.ssr/self.centered_tss\n",
      "c:\\Users\\SBH\\anaconda3\\Lib\\site-packages\\statsmodels\\stats\\outliers_influence.py:198: RuntimeWarning: divide by zero encountered in scalar divide\n",
      "  vif = 1. / (1. - r_squared_i)\n",
      "c:\\Users\\SBH\\anaconda3\\Lib\\site-packages\\statsmodels\\regression\\linear_model.py:1781: RuntimeWarning: invalid value encountered in scalar divide\n",
      "  return 1 - self.ssr/self.centered_tss\n"
     ]
    },
    {
     "name": "stdout",
     "output_type": "stream",
     "text": [
      "Dropping: calculated_host_listings_count_private_rooms\n"
     ]
    },
    {
     "name": "stderr",
     "output_type": "stream",
     "text": [
      "c:\\Users\\SBH\\anaconda3\\Lib\\site-packages\\statsmodels\\regression\\linear_model.py:1781: RuntimeWarning: divide by zero encountered in scalar divide\n",
      "  return 1 - self.ssr/self.centered_tss\n",
      "c:\\Users\\SBH\\anaconda3\\Lib\\site-packages\\statsmodels\\stats\\outliers_influence.py:198: RuntimeWarning: divide by zero encountered in scalar divide\n",
      "  vif = 1. / (1. - r_squared_i)\n",
      "c:\\Users\\SBH\\anaconda3\\Lib\\site-packages\\statsmodels\\regression\\linear_model.py:1781: RuntimeWarning: invalid value encountered in scalar divide\n",
      "  return 1 - self.ssr/self.centered_tss\n"
     ]
    },
    {
     "name": "stdout",
     "output_type": "stream",
     "text": [
      "Dropping: room_type_Hotel room\n"
     ]
    },
    {
     "name": "stderr",
     "output_type": "stream",
     "text": [
      "c:\\Users\\SBH\\anaconda3\\Lib\\site-packages\\statsmodels\\regression\\linear_model.py:1781: RuntimeWarning: divide by zero encountered in scalar divide\n",
      "  return 1 - self.ssr/self.centered_tss\n",
      "c:\\Users\\SBH\\anaconda3\\Lib\\site-packages\\statsmodels\\stats\\outliers_influence.py:198: RuntimeWarning: divide by zero encountered in scalar divide\n",
      "  vif = 1. / (1. - r_squared_i)\n",
      "c:\\Users\\SBH\\anaconda3\\Lib\\site-packages\\statsmodels\\regression\\linear_model.py:1781: RuntimeWarning: invalid value encountered in scalar divide\n",
      "  return 1 - self.ssr/self.centered_tss\n"
     ]
    },
    {
     "name": "stdout",
     "output_type": "stream",
     "text": [
      "Dropping: room_type_Private room\n"
     ]
    },
    {
     "name": "stderr",
     "output_type": "stream",
     "text": [
      "c:\\Users\\SBH\\anaconda3\\Lib\\site-packages\\statsmodels\\regression\\linear_model.py:1781: RuntimeWarning: divide by zero encountered in scalar divide\n",
      "  return 1 - self.ssr/self.centered_tss\n",
      "c:\\Users\\SBH\\anaconda3\\Lib\\site-packages\\statsmodels\\regression\\linear_model.py:1781: RuntimeWarning: invalid value encountered in scalar divide\n",
      "  return 1 - self.ssr/self.centered_tss\n",
      "c:\\Users\\SBH\\anaconda3\\Lib\\site-packages\\statsmodels\\stats\\outliers_influence.py:198: RuntimeWarning: divide by zero encountered in scalar divide\n",
      "  vif = 1. / (1. - r_squared_i)\n"
     ]
    },
    {
     "name": "stdout",
     "output_type": "stream",
     "text": [
      "Dropping: property_type_Camper/RV\n"
     ]
    },
    {
     "name": "stderr",
     "output_type": "stream",
     "text": [
      "c:\\Users\\SBH\\anaconda3\\Lib\\site-packages\\statsmodels\\regression\\linear_model.py:1781: RuntimeWarning: invalid value encountered in scalar divide\n",
      "  return 1 - self.ssr/self.centered_tss\n"
     ]
    },
    {
     "name": "stdout",
     "output_type": "stream",
     "text": [
      "Dropping: calculated_host_listings_count\n"
     ]
    },
    {
     "name": "stderr",
     "output_type": "stream",
     "text": [
      "c:\\Users\\SBH\\anaconda3\\Lib\\site-packages\\statsmodels\\regression\\linear_model.py:1781: RuntimeWarning: invalid value encountered in scalar divide\n",
      "  return 1 - self.ssr/self.centered_tss\n"
     ]
    },
    {
     "name": "stdout",
     "output_type": "stream",
     "text": [
      "Dropping: host_verifications_['email', 'phone']\n"
     ]
    },
    {
     "name": "stderr",
     "output_type": "stream",
     "text": [
      "c:\\Users\\SBH\\anaconda3\\Lib\\site-packages\\statsmodels\\regression\\linear_model.py:1781: RuntimeWarning: invalid value encountered in scalar divide\n",
      "  return 1 - self.ssr/self.centered_tss\n"
     ]
    },
    {
     "name": "stdout",
     "output_type": "stream",
     "text": [
      "Dropping: property_type_Entire condo\n"
     ]
    },
    {
     "name": "stderr",
     "output_type": "stream",
     "text": [
      "c:\\Users\\SBH\\anaconda3\\Lib\\site-packages\\statsmodels\\regression\\linear_model.py:1781: RuntimeWarning: invalid value encountered in scalar divide\n",
      "  return 1 - self.ssr/self.centered_tss\n"
     ]
    },
    {
     "name": "stdout",
     "output_type": "stream",
     "text": [
      "Dropping: host_listings_count\n"
     ]
    },
    {
     "name": "stderr",
     "output_type": "stream",
     "text": [
      "c:\\Users\\SBH\\anaconda3\\Lib\\site-packages\\statsmodels\\regression\\linear_model.py:1781: RuntimeWarning: invalid value encountered in scalar divide\n",
      "  return 1 - self.ssr/self.centered_tss\n"
     ]
    },
    {
     "name": "stdout",
     "output_type": "stream",
     "text": [
      "Dropping: host_response_time_within an hour\n"
     ]
    },
    {
     "name": "stderr",
     "output_type": "stream",
     "text": [
      "c:\\Users\\SBH\\anaconda3\\Lib\\site-packages\\statsmodels\\regression\\linear_model.py:1781: RuntimeWarning: invalid value encountered in scalar divide\n",
      "  return 1 - self.ssr/self.centered_tss\n"
     ]
    },
    {
     "name": "stdout",
     "output_type": "stream",
     "text": [
      "Dropping: minimum_nights_avg_ntm\n"
     ]
    },
    {
     "name": "stderr",
     "output_type": "stream",
     "text": [
      "c:\\Users\\SBH\\anaconda3\\Lib\\site-packages\\statsmodels\\regression\\linear_model.py:1781: RuntimeWarning: invalid value encountered in scalar divide\n",
      "  return 1 - self.ssr/self.centered_tss\n"
     ]
    },
    {
     "name": "stdout",
     "output_type": "stream",
     "text": [
      "Dropping: calculated_host_listings_count_shared_rooms\n"
     ]
    },
    {
     "name": "stderr",
     "output_type": "stream",
     "text": [
      "c:\\Users\\SBH\\anaconda3\\Lib\\site-packages\\statsmodels\\regression\\linear_model.py:1781: RuntimeWarning: invalid value encountered in scalar divide\n",
      "  return 1 - self.ssr/self.centered_tss\n"
     ]
    },
    {
     "name": "stdout",
     "output_type": "stream",
     "text": [
      "Dropping: neighbourhood_cleansed_Downtown\n"
     ]
    },
    {
     "name": "stderr",
     "output_type": "stream",
     "text": [
      "c:\\Users\\SBH\\anaconda3\\Lib\\site-packages\\statsmodels\\regression\\linear_model.py:1781: RuntimeWarning: invalid value encountered in scalar divide\n",
      "  return 1 - self.ssr/self.centered_tss\n"
     ]
    },
    {
     "name": "stdout",
     "output_type": "stream",
     "text": [
      "Dropping: host_total_listings_count\n"
     ]
    },
    {
     "name": "stderr",
     "output_type": "stream",
     "text": [
      "c:\\Users\\SBH\\anaconda3\\Lib\\site-packages\\statsmodels\\regression\\linear_model.py:1781: RuntimeWarning: invalid value encountered in scalar divide\n",
      "  return 1 - self.ssr/self.centered_tss\n"
     ]
    },
    {
     "name": "stdout",
     "output_type": "stream",
     "text": [
      "Dropping: availability_60\n"
     ]
    },
    {
     "name": "stderr",
     "output_type": "stream",
     "text": [
      "c:\\Users\\SBH\\anaconda3\\Lib\\site-packages\\statsmodels\\regression\\linear_model.py:1781: RuntimeWarning: invalid value encountered in scalar divide\n",
      "  return 1 - self.ssr/self.centered_tss\n"
     ]
    },
    {
     "name": "stdout",
     "output_type": "stream",
     "text": [
      "Dropping: minimum_nights\n"
     ]
    },
    {
     "name": "stderr",
     "output_type": "stream",
     "text": [
      "c:\\Users\\SBH\\anaconda3\\Lib\\site-packages\\statsmodels\\regression\\linear_model.py:1781: RuntimeWarning: invalid value encountered in scalar divide\n",
      "  return 1 - self.ssr/self.centered_tss\n"
     ]
    },
    {
     "name": "stdout",
     "output_type": "stream",
     "text": [
      "Dropping: neighbourhood_cleansed_Grandview-Woodland\n"
     ]
    },
    {
     "name": "stderr",
     "output_type": "stream",
     "text": [
      "c:\\Users\\SBH\\anaconda3\\Lib\\site-packages\\statsmodels\\regression\\linear_model.py:1781: RuntimeWarning: invalid value encountered in scalar divide\n",
      "  return 1 - self.ssr/self.centered_tss\n"
     ]
    },
    {
     "name": "stdout",
     "output_type": "stream",
     "text": [
      "Dropping: neighbourhood_cleansed_Kensington-Cedar Cottage\n"
     ]
    },
    {
     "name": "stderr",
     "output_type": "stream",
     "text": [
      "c:\\Users\\SBH\\anaconda3\\Lib\\site-packages\\statsmodels\\regression\\linear_model.py:1781: RuntimeWarning: invalid value encountered in scalar divide\n",
      "  return 1 - self.ssr/self.centered_tss\n"
     ]
    },
    {
     "name": "stdout",
     "output_type": "stream",
     "text": [
      "Dropping: host_neighbourhood_Central Vancouver\n"
     ]
    },
    {
     "name": "stderr",
     "output_type": "stream",
     "text": [
      "c:\\Users\\SBH\\anaconda3\\Lib\\site-packages\\statsmodels\\regression\\linear_model.py:1781: RuntimeWarning: invalid value encountered in scalar divide\n",
      "  return 1 - self.ssr/self.centered_tss\n"
     ]
    },
    {
     "name": "stdout",
     "output_type": "stream",
     "text": [
      "Dropping: review_scores_rating\n"
     ]
    },
    {
     "name": "stderr",
     "output_type": "stream",
     "text": [
      "c:\\Users\\SBH\\anaconda3\\Lib\\site-packages\\statsmodels\\regression\\linear_model.py:1781: RuntimeWarning: invalid value encountered in scalar divide\n",
      "  return 1 - self.ssr/self.centered_tss\n"
     ]
    },
    {
     "name": "stdout",
     "output_type": "stream",
     "text": [
      "Dropping: neighbourhood_cleansed_Renfrew-Collingwood\n"
     ]
    },
    {
     "name": "stderr",
     "output_type": "stream",
     "text": [
      "c:\\Users\\SBH\\anaconda3\\Lib\\site-packages\\statsmodels\\regression\\linear_model.py:1781: RuntimeWarning: invalid value encountered in scalar divide\n",
      "  return 1 - self.ssr/self.centered_tss\n"
     ]
    },
    {
     "name": "stdout",
     "output_type": "stream",
     "text": [
      "Dropping: accommodates\n"
     ]
    },
    {
     "name": "stderr",
     "output_type": "stream",
     "text": [
      "c:\\Users\\SBH\\anaconda3\\Lib\\site-packages\\statsmodels\\regression\\linear_model.py:1781: RuntimeWarning: invalid value encountered in scalar divide\n",
      "  return 1 - self.ssr/self.centered_tss\n"
     ]
    },
    {
     "name": "stdout",
     "output_type": "stream",
     "text": [
      "Dropping: neighbourhood_cleansed_Kitsilano\n"
     ]
    },
    {
     "name": "stderr",
     "output_type": "stream",
     "text": [
      "c:\\Users\\SBH\\anaconda3\\Lib\\site-packages\\statsmodels\\regression\\linear_model.py:1781: RuntimeWarning: invalid value encountered in scalar divide\n",
      "  return 1 - self.ssr/self.centered_tss\n"
     ]
    },
    {
     "name": "stdout",
     "output_type": "stream",
     "text": [
      "Dropping: neighbourhood_cleansed_Killarney\n"
     ]
    },
    {
     "name": "stderr",
     "output_type": "stream",
     "text": [
      "c:\\Users\\SBH\\anaconda3\\Lib\\site-packages\\statsmodels\\regression\\linear_model.py:1781: RuntimeWarning: invalid value encountered in scalar divide\n",
      "  return 1 - self.ssr/self.centered_tss\n"
     ]
    },
    {
     "name": "stdout",
     "output_type": "stream",
     "text": [
      "Dropping: host_neighbourhood_Riley Park–Little Mountain\n"
     ]
    },
    {
     "name": "stderr",
     "output_type": "stream",
     "text": [
      "c:\\Users\\SBH\\anaconda3\\Lib\\site-packages\\statsmodels\\regression\\linear_model.py:1781: RuntimeWarning: invalid value encountered in scalar divide\n",
      "  return 1 - self.ssr/self.centered_tss\n"
     ]
    },
    {
     "name": "stdout",
     "output_type": "stream",
     "text": [
      "Dropping: minimum_minimum_nights\n"
     ]
    },
    {
     "name": "stderr",
     "output_type": "stream",
     "text": [
      "c:\\Users\\SBH\\anaconda3\\Lib\\site-packages\\statsmodels\\regression\\linear_model.py:1781: RuntimeWarning: invalid value encountered in scalar divide\n",
      "  return 1 - self.ssr/self.centered_tss\n"
     ]
    },
    {
     "name": "stdout",
     "output_type": "stream",
     "text": [
      "Dropping: neighbourhood_cleansed_Fairview\n"
     ]
    },
    {
     "name": "stderr",
     "output_type": "stream",
     "text": [
      "c:\\Users\\SBH\\anaconda3\\Lib\\site-packages\\statsmodels\\regression\\linear_model.py:1781: RuntimeWarning: invalid value encountered in scalar divide\n",
      "  return 1 - self.ssr/self.centered_tss\n"
     ]
    },
    {
     "name": "stdout",
     "output_type": "stream",
     "text": [
      "Dropping: neighbourhood_cleansed_Dunbar Southlands\n"
     ]
    },
    {
     "name": "stderr",
     "output_type": "stream",
     "text": [
      "c:\\Users\\SBH\\anaconda3\\Lib\\site-packages\\statsmodels\\regression\\linear_model.py:1781: RuntimeWarning: invalid value encountered in scalar divide\n",
      "  return 1 - self.ssr/self.centered_tss\n"
     ]
    },
    {
     "name": "stdout",
     "output_type": "stream",
     "text": [
      "Dropping: neighbourhood_cleansed_West Point Grey\n"
     ]
    },
    {
     "name": "stderr",
     "output_type": "stream",
     "text": [
      "c:\\Users\\SBH\\anaconda3\\Lib\\site-packages\\statsmodels\\regression\\linear_model.py:1781: RuntimeWarning: invalid value encountered in scalar divide\n",
      "  return 1 - self.ssr/self.centered_tss\n"
     ]
    },
    {
     "name": "stdout",
     "output_type": "stream",
     "text": [
      "Dropping: neighbourhood_cleansed_Sunset\n"
     ]
    },
    {
     "name": "stderr",
     "output_type": "stream",
     "text": [
      "c:\\Users\\SBH\\anaconda3\\Lib\\site-packages\\statsmodels\\regression\\linear_model.py:1781: RuntimeWarning: invalid value encountered in scalar divide\n",
      "  return 1 - self.ssr/self.centered_tss\n"
     ]
    },
    {
     "name": "stdout",
     "output_type": "stream",
     "text": [
      "Dropping: number_of_reviews_ltm\n"
     ]
    },
    {
     "name": "stderr",
     "output_type": "stream",
     "text": [
      "c:\\Users\\SBH\\anaconda3\\Lib\\site-packages\\statsmodels\\regression\\linear_model.py:1781: RuntimeWarning: invalid value encountered in scalar divide\n",
      "  return 1 - self.ssr/self.centered_tss\n"
     ]
    },
    {
     "name": "stdout",
     "output_type": "stream",
     "text": [
      "Dropping: host_neighbourhood_Shaughnessy\n"
     ]
    },
    {
     "name": "stderr",
     "output_type": "stream",
     "text": [
      "c:\\Users\\SBH\\anaconda3\\Lib\\site-packages\\statsmodels\\regression\\linear_model.py:1781: RuntimeWarning: invalid value encountered in scalar divide\n",
      "  return 1 - self.ssr/self.centered_tss\n"
     ]
    },
    {
     "name": "stdout",
     "output_type": "stream",
     "text": [
      "Dropping: bedrooms\n"
     ]
    },
    {
     "name": "stderr",
     "output_type": "stream",
     "text": [
      "c:\\Users\\SBH\\anaconda3\\Lib\\site-packages\\statsmodels\\regression\\linear_model.py:1781: RuntimeWarning: invalid value encountered in scalar divide\n",
      "  return 1 - self.ssr/self.centered_tss\n"
     ]
    },
    {
     "name": "stdout",
     "output_type": "stream",
     "text": [
      "Dropping: neighbourhood_cleansed_Hastings-Sunrise\n"
     ]
    },
    {
     "name": "stderr",
     "output_type": "stream",
     "text": [
      "c:\\Users\\SBH\\anaconda3\\Lib\\site-packages\\statsmodels\\regression\\linear_model.py:1781: RuntimeWarning: invalid value encountered in scalar divide\n",
      "  return 1 - self.ssr/self.centered_tss\n"
     ]
    },
    {
     "name": "stdout",
     "output_type": "stream",
     "text": [
      "Dropping: reviews_per_month\n"
     ]
    },
    {
     "name": "stderr",
     "output_type": "stream",
     "text": [
      "c:\\Users\\SBH\\anaconda3\\Lib\\site-packages\\statsmodels\\regression\\linear_model.py:1781: RuntimeWarning: invalid value encountered in scalar divide\n",
      "  return 1 - self.ssr/self.centered_tss\n"
     ]
    },
    {
     "name": "stdout",
     "output_type": "stream",
     "text": [
      "Dropping: neighbourhood_cleansed_South Cambie\n"
     ]
    },
    {
     "name": "stderr",
     "output_type": "stream",
     "text": [
      "c:\\Users\\SBH\\anaconda3\\Lib\\site-packages\\statsmodels\\regression\\linear_model.py:1781: RuntimeWarning: invalid value encountered in scalar divide\n",
      "  return 1 - self.ssr/self.centered_tss\n"
     ]
    },
    {
     "name": "stdout",
     "output_type": "stream",
     "text": [
      "Dropping: neighbourhood_cleansed_Victoria-Fraserview\n"
     ]
    },
    {
     "name": "stderr",
     "output_type": "stream",
     "text": [
      "c:\\Users\\SBH\\anaconda3\\Lib\\site-packages\\statsmodels\\regression\\linear_model.py:1781: RuntimeWarning: invalid value encountered in scalar divide\n",
      "  return 1 - self.ssr/self.centered_tss\n"
     ]
    },
    {
     "name": "stdout",
     "output_type": "stream",
     "text": [
      "Dropping: review_scores_accuracy\n"
     ]
    },
    {
     "name": "stderr",
     "output_type": "stream",
     "text": [
      "c:\\Users\\SBH\\anaconda3\\Lib\\site-packages\\statsmodels\\regression\\linear_model.py:1781: RuntimeWarning: invalid value encountered in scalar divide\n",
      "  return 1 - self.ssr/self.centered_tss\n"
     ]
    },
    {
     "name": "stdout",
     "output_type": "stream",
     "text": [
      "Dropping: neighbourhood_cleansed_Kerrisdale\n"
     ]
    },
    {
     "name": "stderr",
     "output_type": "stream",
     "text": [
      "c:\\Users\\SBH\\anaconda3\\Lib\\site-packages\\statsmodels\\regression\\linear_model.py:1781: RuntimeWarning: invalid value encountered in scalar divide\n",
      "  return 1 - self.ssr/self.centered_tss\n"
     ]
    },
    {
     "name": "stdout",
     "output_type": "stream",
     "text": [
      "Dropping: host_neighbourhood_Oakridge\n"
     ]
    },
    {
     "name": "stderr",
     "output_type": "stream",
     "text": [
      "c:\\Users\\SBH\\anaconda3\\Lib\\site-packages\\statsmodels\\regression\\linear_model.py:1781: RuntimeWarning: invalid value encountered in scalar divide\n",
      "  return 1 - self.ssr/self.centered_tss\n"
     ]
    },
    {
     "name": "stdout",
     "output_type": "stream",
     "text": [
      "Dropping: property_type_Entire home\n"
     ]
    },
    {
     "name": "stderr",
     "output_type": "stream",
     "text": [
      "c:\\Users\\SBH\\anaconda3\\Lib\\site-packages\\statsmodels\\regression\\linear_model.py:1781: RuntimeWarning: invalid value encountered in scalar divide\n",
      "  return 1 - self.ssr/self.centered_tss\n"
     ]
    },
    {
     "name": "stdout",
     "output_type": "stream",
     "text": [
      "Dropping: review_scores_value\n"
     ]
    },
    {
     "name": "stderr",
     "output_type": "stream",
     "text": [
      "c:\\Users\\SBH\\anaconda3\\Lib\\site-packages\\statsmodels\\regression\\linear_model.py:1781: RuntimeWarning: invalid value encountered in scalar divide\n",
      "  return 1 - self.ssr/self.centered_tss\n"
     ]
    },
    {
     "name": "stdout",
     "output_type": "stream",
     "text": [
      "Dropping: availability_90\n"
     ]
    },
    {
     "name": "stderr",
     "output_type": "stream",
     "text": [
      "c:\\Users\\SBH\\anaconda3\\Lib\\site-packages\\statsmodels\\regression\\linear_model.py:1781: RuntimeWarning: invalid value encountered in scalar divide\n",
      "  return 1 - self.ssr/self.centered_tss\n"
     ]
    },
    {
     "name": "stdout",
     "output_type": "stream",
     "text": [
      "Dropping: host_neighbourhood_Marpole\n"
     ]
    },
    {
     "name": "stderr",
     "output_type": "stream",
     "text": [
      "c:\\Users\\SBH\\anaconda3\\Lib\\site-packages\\statsmodels\\regression\\linear_model.py:1781: RuntimeWarning: invalid value encountered in scalar divide\n",
      "  return 1 - self.ssr/self.centered_tss\n"
     ]
    },
    {
     "name": "stdout",
     "output_type": "stream",
     "text": [
      "Dropping: review_scores_communication\n"
     ]
    },
    {
     "name": "stderr",
     "output_type": "stream",
     "text": [
      "c:\\Users\\SBH\\anaconda3\\Lib\\site-packages\\statsmodels\\regression\\linear_model.py:1781: RuntimeWarning: invalid value encountered in scalar divide\n",
      "  return 1 - self.ssr/self.centered_tss\n"
     ]
    },
    {
     "name": "stdout",
     "output_type": "stream",
     "text": [
      "Dropping: neighbourhood_cleansed_Mount Pleasant\n"
     ]
    },
    {
     "name": "stderr",
     "output_type": "stream",
     "text": [
      "c:\\Users\\SBH\\anaconda3\\Lib\\site-packages\\statsmodels\\regression\\linear_model.py:1781: RuntimeWarning: invalid value encountered in scalar divide\n",
      "  return 1 - self.ssr/self.centered_tss\n"
     ]
    },
    {
     "name": "stdout",
     "output_type": "stream",
     "text": [
      "Dropping: host_neighbourhood_North Vancouver\n"
     ]
    },
    {
     "name": "stderr",
     "output_type": "stream",
     "text": [
      "c:\\Users\\SBH\\anaconda3\\Lib\\site-packages\\statsmodels\\regression\\linear_model.py:1781: RuntimeWarning: invalid value encountered in scalar divide\n",
      "  return 1 - self.ssr/self.centered_tss\n"
     ]
    }
   ],
   "source": [
    "listings_df_VIF_new = drop_column_using_vif_(listings_df_VIF.drop('legal_listing', axis=1))"
   ]
  },
  {
   "cell_type": "code",
   "execution_count": null,
   "metadata": {},
   "outputs": [],
   "source": [
    "\"\"\"\n",
    "# Create a new dataframe to store the VIF values\n",
    "VIF_df = pd.DataFrame()\n",
    "\n",
    "# Drop all rows containing NAs or infs in listings_df_VIF\n",
    "\n",
    "listings_df_VIF.replace([np.inf, -np.inf], np.nan, inplace=True)\n",
    "listings_df_VIF.dropna(inplace=True)\n",
    "\n",
    "# Exclude the 'legal_listing' column from the analysis\n",
    "columns_to_check = [col for col in listings_df_VIF.columns if col != 'legal_listing']\n",
    "\n",
    "# Calculate the VIF for each column\n",
    "VIF_df['Variable'] = columns_to_check\n",
    "VIF_df['VIF'] = [variance_inflation_factor(listings_df_VIF[columns_to_check].values, i) for i in range(len(columns_to_check))]\n",
    "\n",
    "# Sort the dataframe by VIF values in descending order\n",
    "vif_df = VIF_df.sort_values(by='VIF', ascending=False)\n",
    "\n",
    "# Print the dataframe\n",
    "print(vif_df)\n",
    "\"\"\""
   ]
  },
  {
   "cell_type": "code",
   "execution_count": 22,
   "metadata": {},
   "outputs": [
    {
     "name": "stdout",
     "output_type": "stream",
     "text": [
      "There are 161 variables after VIF operation.\n"
     ]
    }
   ],
   "source": [
    "# After VIF now we have the 'listings_df_VIF_new'\n",
    "\n",
    "print(f\"There are {listings_df_VIF_new.shape[1]} variables after VIF operation.\")\n",
    "\n",
    "\n",
    "# And save the new dataframe to csv.file\n",
    "\n",
    "listings_df_VIF_new.to_csv(os.path.join('data','yvr_listing_data_cleaned.csv'),index=False)"
   ]
  },
  {
   "cell_type": "markdown",
   "metadata": {},
   "source": []
  }
 ],
 "metadata": {
  "kernelspec": {
   "display_name": "Python 3",
   "language": "python",
   "name": "python3"
  },
  "language_info": {
   "codemirror_mode": {
    "name": "ipython",
    "version": 3
   },
   "file_extension": ".py",
   "mimetype": "text/x-python",
   "name": "python",
   "nbconvert_exporter": "python",
   "pygments_lexer": "ipython3",
   "version": "3.11.5"
  }
 },
 "nbformat": 4,
 "nbformat_minor": 2
}
