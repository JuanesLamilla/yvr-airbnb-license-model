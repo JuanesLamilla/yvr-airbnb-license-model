{
 "cells": [
  {
   "cell_type": "markdown",
   "metadata": {},
   "source": [
    "# Logit Model using SciKit Learn (Machine Learning)"
   ]
  },
  {
   "cell_type": "code",
   "execution_count": 1,
   "metadata": {},
   "outputs": [],
   "source": [
    "# Import\n",
    "import pandas as pd\n",
    "import os\n",
    "from sklearn.linear_model import LogisticRegression\n",
    "from sklearn.model_selection import train_test_split"
   ]
  },
  {
   "cell_type": "code",
   "execution_count": 2,
   "metadata": {},
   "outputs": [],
   "source": [
    "# Load cleaned data\n",
    "listings_df = pd.read_csv(os.path.join('data', 'yvr_listing_data_cleaned.csv'))"
   ]
  },
  {
   "cell_type": "code",
   "execution_count": 3,
   "metadata": {},
   "outputs": [
    {
     "name": "stdout",
     "output_type": "stream",
     "text": [
      "Accuracy: 0.9065550906555091\n"
     ]
    }
   ],
   "source": [
    "# Split the data into independent variables (X) and dependent variable (y)\n",
    "X = listings_df.drop('legal_listing', axis=1)\n",
    "y = listings_df['legal_listing']\n",
    "\n",
    "# Split the data into training and testing sets\n",
    "X_train, X_test, y_train, y_test = train_test_split(X, y, test_size=0.2, random_state=42)\n",
    "\n",
    "# Create and fit the logistic regression model\n",
    "logit_model = LogisticRegression(max_iter=10000)\n",
    "logit_model.fit(X_train, y_train)\n",
    "\n",
    "# Print the accuracy score\n",
    "print(f'Accuracy: {logit_model.score(X_test, y_test)}')\n"
   ]
  },
  {
   "cell_type": "markdown",
   "metadata": {},
   "source": [
    "```python\n",
    "# To test on a new listing, use the following code:\n",
    "new_listing = [[1, 1, 1, 1, 1, 1, 1, 1, 1, 1]] # Fill columns with proper values\n",
    "print(logit_model.predict(new_listing))\n",
    "print(logit_model.predict_proba(new_listing))\n",
    "\n",
    "# To save the model, use the following code:\n",
    "import pickle\n",
    "with open('model.pkl', 'wb') as f:\n",
    "    pickle.dump(logit_model, f)\n",
    "\n",
    "# To load the model, use the following code:\n",
    "import pickle\n",
    "with open('model.pkl', 'rb') as f:\n",
    "    logit_model = pickle.load(f)\n",
    "```"
   ]
  }
 ],
 "metadata": {
  "kernelspec": {
   "display_name": "Python 3",
   "language": "python",
   "name": "python3"
  },
  "language_info": {
   "codemirror_mode": {
    "name": "ipython",
    "version": 3
   },
   "file_extension": ".py",
   "mimetype": "text/x-python",
   "name": "python",
   "nbconvert_exporter": "python",
   "pygments_lexer": "ipython3",
   "version": "3.12.0"
  }
 },
 "nbformat": 4,
 "nbformat_minor": 2
}
