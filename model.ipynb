{
 "cells": [
  {
   "cell_type": "code",
   "execution_count": 17,
   "metadata": {},
   "outputs": [],
   "source": [
    "# Load libraries\n",
    "import pandas as pd\n",
    "import os\n",
    "import statsmodels.api as sm\n",
    "import seaborn as sns\n",
    "from sklearn.preprocessing import StandardScaler"
   ]
  },
  {
   "cell_type": "code",
   "execution_count": 14,
   "metadata": {},
   "outputs": [],
   "source": [
    "# Load cleaned data\n",
    "listings_df = pd.read_csv(os.path.join('data', 'yvr_listing_data_cleaned.csv'))"
   ]
  },
  {
   "cell_type": "code",
   "execution_count": 15,
   "metadata": {},
   "outputs": [],
   "source": [
    "# Prepare the data\n",
    "X = listings_df.drop('legal_listing', axis=1)\n",
    "y = listings_df['legal_listing']\n",
    "\n",
    "# Add constant to the independent variables\n",
    "X = sm.add_constant(X)"
   ]
  },
  {
   "cell_type": "code",
   "execution_count": 18,
   "metadata": {},
   "outputs": [],
   "source": [
    "# Initialize the StandardScaler\n",
    "scaler = StandardScaler()\n",
    "\n",
    "# Scale the independent variables\n",
    "X_scaled = scaler.fit_transform(X)\n",
    "\n",
    "# Convert the scaled variables back to a DataFrame\n",
    "X_scaled = pd.DataFrame(X_scaled, columns=X.columns)"
   ]
  },
  {
   "cell_type": "code",
   "execution_count": 21,
   "metadata": {},
   "outputs": [
    {
     "name": "stdout",
     "output_type": "stream",
     "text": [
      "Index(['const', 'host_neighbourhood_Bergen-Lafayette',\n",
      "       'host_neighbourhood_Burke Mountain', 'host_neighbourhood_Kauaʻi',\n",
      "       'host_neighbourhood_Ladner', 'host_neighbourhood_Landsdale',\n",
      "       'host_neighbourhood_North Philadelphia', 'host_neighbourhood_Richmond',\n",
      "       'host_neighbourhood_South Lake Tahoe',\n",
      "       'host_neighbourhood_Terwillegar Towne', 'host_neighbourhood_UBC',\n",
      "       'host_neighbourhood_Victoria West', 'host_neighbourhood_Vila Mariana',\n",
      "       'host_neighbourhood_Westmount', 'host_neighbourhood_Willoughby',\n",
      "       'property_type_Casa particular', 'property_type_Cave',\n",
      "       'property_type_Entire cabin', 'property_type_Entire timeshare',\n",
      "       'property_type_Private room in bed and breakfast',\n",
      "       'property_type_Private room in camper/rv',\n",
      "       'property_type_Private room in casa particular',\n",
      "       'property_type_Private room in castle',\n",
      "       'property_type_Private room in kezhan',\n",
      "       'property_type_Private room in tiny home',\n",
      "       'property_type_Private room in vacation home',\n",
      "       'property_type_Shared room in bed and breakfast',\n",
      "       'property_type_Shared room in condo',\n",
      "       'property_type_Shared room in home',\n",
      "       'property_type_Shared room in hostel',\n",
      "       'property_type_Shared room in loft',\n",
      "       'property_type_Shared room in rental unit',\n",
      "       'property_type_Shared room in villa',\n",
      "       'property_type_Shipping container', 'room_type_Shared room'],\n",
      "      dtype='object')\n"
     ]
    }
   ],
   "source": [
    "# Check for zero variance variables\n",
    "zero_variance_variables = X_scaled.var()[X_scaled.var() == 0].index\n",
    "\n",
    "# Print the zero variance variables\n",
    "print(zero_variance_variables)"
   ]
  },
  {
   "cell_type": "code",
   "execution_count": 22,
   "metadata": {},
   "outputs": [],
   "source": [
    "# Drop the zero variance variables\n",
    "X_scaled = X_scaled.drop(zero_variance_variables, axis=1)"
   ]
  },
  {
   "cell_type": "code",
   "execution_count": 23,
   "metadata": {},
   "outputs": [
    {
     "name": "stdout",
     "output_type": "stream",
     "text": [
      "Optimization terminated successfully    (Exit mode 0)\n",
      "            Current function value: 0.2758580828317034\n",
      "            Iterations: 214\n",
      "            Function evaluations: 215\n",
      "            Gradient evaluations: 214\n",
      "                           Logit Regression Results                           \n",
      "==============================================================================\n",
      "Dep. Variable:          legal_listing   No. Observations:                 3683\n",
      "Model:                          Logit   Df Residuals:                     3556\n",
      "Method:                           MLE   Df Model:                          126\n",
      "Date:                Wed, 29 Nov 2023   Pseudo R-squ.:                  0.4927\n",
      "Time:                        17:29:35   Log-Likelihood:                -1016.0\n",
      "converged:                       True   LL-Null:                       -2002.8\n",
      "Covariance Type:            nonrobust   LLR p-value:                     0.000\n",
      "================================================================================================================================\n",
      "                                                                   coef    std err          z      P>|z|      [0.025      0.975]\n",
      "--------------------------------------------------------------------------------------------------------------------------------\n",
      "maximum_maximum_nights                                           0.0206      0.082      0.252      0.801      -0.140       0.181\n",
      "price                                                            0.6939      0.135      5.150      0.000       0.430       0.958\n",
      "instant_bookable                                                -0.0541      0.067     -0.811      0.418      -0.185       0.077\n",
      "host_is_superhost                                                0.0304      0.065      0.469      0.639      -0.096       0.157\n",
      "review_scores_location                                           0.0107      0.062      0.172      0.863      -0.111       0.133\n",
      "beds                                                             0.2272      0.088      2.587      0.010       0.055       0.399\n",
      "host_acceptance_rate                                            -0.0203      0.060     -0.340      0.734      -0.137       0.097\n",
      "maximum_minimum_nights                                          -1.2512      0.109    -11.434      0.000      -1.466      -1.037\n",
      "review_scores_checkin                                           -0.1429      0.066     -2.160      0.031      -0.273      -0.013\n",
      "review_scores_cleanliness                                        0.1377      0.063      2.188      0.029       0.014       0.261\n",
      "number_of_reviews_l30d                                           0.7261      0.120      6.055      0.000       0.491       0.961\n",
      "host_response_rate                                              -0.0552      0.051     -1.089      0.276      -0.155       0.044\n",
      "availability_30                                                  0.0407      0.057      0.717      0.474      -0.071       0.152\n",
      "host_identity_verified                                          -0.1201      0.069     -1.748      0.080      -0.255       0.015\n",
      "calculated_host_listings_count                                  -0.0046      0.063     -0.073      0.942      -0.129       0.119\n",
      "maximum_nights                                                  -0.1089      0.084     -1.290      0.197      -0.274       0.057\n",
      "number_of_reviews                                                1.7253      0.177      9.729      0.000       1.378       2.073\n",
      "availability_365                                                -0.1490      0.062     -2.407      0.016      -0.270      -0.028\n",
      "calculated_host_listings_count_private_rooms                     0.1242      0.067      1.842      0.065      -0.008       0.256\n",
      "has_availability                                                 0.0034      0.069      0.050      0.960      -0.131       0.138\n",
      "host_has_profile_pic                                            -0.0503      0.060     -0.842      0.400      -0.167       0.067\n",
      "host_neighbourhood_Beltline                                      0.2307     18.278      0.013      0.990     -35.594      36.056\n",
      "host_neighbourhood_Burnaby                                       0.4445      8.087      0.055      0.956     -15.405      16.294\n",
      "host_neighbourhood_Cannes                                        0.2972    206.790      0.001      0.999    -405.004     405.598\n",
      "host_neighbourhood_Central City                                  0.1380      5.455      0.025      0.980     -10.553      10.829\n",
      "host_neighbourhood_Chinatown                                    -0.0370      0.048     -0.778      0.436      -0.130       0.056\n",
      "host_neighbourhood_Clearbrook                                    0.2178     14.566      0.015      0.988     -28.330      28.766\n",
      "host_neighbourhood_Coal Harbour                                  0.0437      0.055      0.799      0.424      -0.064       0.151\n",
      "host_neighbourhood_Commercial Drive                              1.0621      3.642      0.292      0.771      -6.076       8.200\n",
      "host_neighbourhood_District of North Vancouver                   0.2507     90.943      0.003      0.998    -177.994     178.495\n",
      "host_neighbourhood_Downtown                                      0.1903      7.581      0.025      0.980     -14.668      15.048\n",
      "host_neighbourhood_Downtown Eastside                            -0.1201      0.079     -1.528      0.126      -0.274       0.034\n",
      "host_neighbourhood_Downtown Montreal                           -26.0819   5.08e+07  -5.13e-07      1.000   -9.96e+07    9.96e+07\n",
      "host_neighbourhood_Downtown Vancouver                            0.0214      0.064      0.332      0.740      -0.105       0.148\n",
      "host_neighbourhood_Dunbar-Southlands                             0.0943      0.067      1.405      0.160      -0.037       0.226\n",
      "host_neighbourhood_East Vancouver                                0.0879      0.058      1.517      0.129      -0.026       0.201\n",
      "host_neighbourhood_Fairview                                      0.0513      0.048      1.059      0.290      -0.044       0.146\n",
      "host_neighbourhood_Fraserview                                    0.0935      0.071      1.320      0.187      -0.045       0.232\n",
      "host_neighbourhood_Garvey                                        0.4134     32.973      0.013      0.990     -64.213      65.040\n",
      "host_neighbourhood_Gastown                                       0.2656      0.070      3.776      0.000       0.128       0.403\n",
      "host_neighbourhood_Grandview-Woodland                            0.0984      0.062      1.598      0.110      -0.022       0.219\n",
      "host_neighbourhood_Guildford                                     0.3583     11.648      0.031      0.975     -22.470      23.187\n",
      "host_neighbourhood_Hastings-Sunrise                              0.2389      0.095      2.509      0.012       0.052       0.426\n",
      "host_neighbourhood_Kailua/Kona                                   0.1540      6.015      0.026      0.980     -11.635      11.943\n",
      "host_neighbourhood_Kensington-Cedar Cottage                      0.0946      0.067      1.415      0.157      -0.036       0.226\n",
      "host_neighbourhood_Kerrisdale                                   -0.0039      0.062     -0.063      0.950      -0.125       0.117\n",
      "host_neighbourhood_Killarney                                     0.0420      0.060      0.698      0.485      -0.076       0.160\n",
      "host_neighbourhood_Kitsilano                                     0.0316      0.060      0.531      0.595      -0.085       0.148\n",
      "host_neighbourhood_Knight                                        0.2539      0.081      3.147      0.002       0.096       0.412\n",
      "host_neighbourhood_Le Plateau                                    0.2019     26.324      0.008      0.994     -51.392      51.796\n",
      "host_neighbourhood_Metrotown                                     0.1485      0.050      2.955      0.003       0.050       0.247\n",
      "host_neighbourhood_Mill Lake                                    -0.0241      0.103     -0.234      0.815      -0.226       0.178\n",
      "host_neighbourhood_Mission Beach                                 0.2256     61.412      0.004      0.997    -120.139     120.590\n",
      "host_neighbourhood_Mount Pleasant                                0.0610      0.060      1.016      0.309      -0.057       0.179\n",
      "host_neighbourhood_Newton                                        0.2392      9.982      0.024      0.981     -19.325      19.803\n",
      "host_neighbourhood_North Central Edmonton                       -7.3602        nan        nan        nan         nan         nan\n",
      "host_neighbourhood_Pico                                          0.1825     10.925      0.017      0.987     -21.229      21.594\n",
      "host_neighbourhood_Point Grey/University of British Columbia     0.0217      0.066      0.331      0.741      -0.107       0.150\n",
      "host_neighbourhood_Renfrew-Collingwood                           0.0777      0.066      1.186      0.236      -0.051       0.206\n",
      "host_neighbourhood_Riley Park                                   -0.0283      0.077     -0.366      0.714      -0.180       0.123\n",
      "host_neighbourhood_Rockland                                    -10.4057   2.05e+08  -5.08e-08      1.000   -4.01e+08    4.01e+08\n",
      "host_neighbourhood_Routley                                       0.0949      4.633      0.020      0.984      -8.987       9.176\n",
      "host_neighbourhood_South Cambie                                  0.0262      0.069      0.379      0.705      -0.109       0.162\n",
      "host_neighbourhood_South Main                                    0.0209      0.060      0.352      0.725      -0.096       0.138\n",
      "host_neighbourhood_South Vancouver                               0.1358      0.072      1.890      0.059      -0.005       0.277\n",
      "host_neighbourhood_Southlands                                    0.1641      4.974      0.033      0.974      -9.585       9.913\n",
      "host_neighbourhood_Southwest Calgary                             0.1723     10.224      0.017      0.987     -19.866      20.210\n",
      "host_neighbourhood_Strathcona                                   -0.0099      0.065     -0.152      0.879      -0.137       0.117\n",
      "host_neighbourhood_Sunset                                        0.1208      0.069      1.758      0.079      -0.014       0.255\n",
      "host_neighbourhood_The Meadows                                   0.2314      5.893      0.039      0.969     -11.320      11.782\n",
      "host_neighbourhood_Tsawwassen                                    0.1140      5.047      0.023      0.982      -9.778      10.006\n",
      "host_neighbourhood_Waikiki                                       0.2029      5.271      0.039      0.969     -10.127      10.533\n",
      "host_neighbourhood_West End                                      0.0018      0.060      0.029      0.977      -0.117       0.120\n",
      "host_neighbourhood_West Hill                                     0.2578    163.005      0.002      0.999    -319.227     319.742\n",
      "host_neighbourhood_West Point Grey                               0.1700      0.101      1.675      0.094      -0.029       0.369\n",
      "host_neighbourhood_West Side                                    -0.0479      0.050     -0.950      0.342      -0.147       0.051\n",
      "host_neighbourhood_West Vancouver                                0.2795     63.005      0.004      0.996    -123.208     123.767\n",
      "host_neighbourhood_Whalley                                      -0.0174      0.038     -0.457      0.648      -0.092       0.057\n",
      "host_neighbourhood_Yaletown                                      0.0108      0.044      0.245      0.807      -0.076       0.098\n",
      "host_response_time_within a day                                 -0.0877      0.054     -1.629      0.103      -0.193       0.018\n",
      "host_response_time_within a few hours                           -0.1455      0.056     -2.606      0.009      -0.255      -0.036\n",
      "property_type_Entire bungalow                                    0.5217     51.425      0.010      0.992    -100.269     101.313\n",
      "property_type_Entire cottage                                     0.3467     14.334      0.024      0.981     -27.747      28.441\n",
      "property_type_Entire guest suite                                 0.0978      0.078      1.259      0.208      -0.054       0.250\n",
      "property_type_Entire guesthouse                                  0.0219      0.060      0.364      0.716      -0.096       0.140\n",
      "property_type_Entire loft                                       -0.0677      0.070     -0.967      0.333      -0.205       0.069\n",
      "property_type_Entire place                                       0.2221     17.778      0.012      0.990     -34.622      35.066\n",
      "property_type_Entire rental unit                                -0.1478      0.058     -2.561      0.010      -0.261      -0.035\n",
      "property_type_Entire serviced apartment                         -0.1510      0.054     -2.790      0.005      -0.257      -0.045\n",
      "property_type_Entire townhouse                                  -0.0206      0.058     -0.355      0.723      -0.135       0.093\n",
      "property_type_Entire vacation home                               0.0224      0.044      0.506      0.613      -0.064       0.109\n",
      "property_type_Entire villa                                      -0.0907      0.066     -1.370      0.171      -0.220       0.039\n",
      "property_type_Floor                                              0.1672      4.031      0.041      0.967      -7.734       8.068\n",
      "property_type_Private room in bungalow                           0.1864     43.131      0.004      0.997     -84.348      84.721\n",
      "property_type_Private room in condo                              0.4807    111.883      0.004      0.997    -218.806     219.767\n",
      "property_type_Private room in guest suite                        0.5929     64.353      0.009      0.993    -125.537     126.723\n",
      "property_type_Private room in guesthouse                        -0.0704      0.045     -1.569      0.117      -0.158       0.018\n",
      "property_type_Private room in home                               0.0030      0.063      0.047      0.962      -0.121       0.127\n",
      "property_type_Private room in hostel                           -10.5659   8.83e+07   -1.2e-07      1.000   -1.73e+08    1.73e+08\n",
      "property_type_Private room in loft                               0.1632     54.515      0.003      0.998    -106.684     107.011\n",
      "property_type_Private room in rental unit                        0.5305     86.542      0.006      0.995    -169.088     170.149\n",
      "property_type_Private room in serviced apartment                -7.6757   1.47e+16  -5.22e-16      1.000   -2.88e+16    2.88e+16\n",
      "property_type_Private room in townhouse                          0.1799      6.375      0.028      0.977     -12.315      12.674\n",
      "property_type_Private room in villa                              0.1306      9.420      0.014      0.989     -18.332      18.594\n",
      "property_type_Room in aparthotel                                -7.5723   1.47e+16  -5.15e-16      1.000   -2.88e+16    2.88e+16\n",
      "property_type_Room in boutique hotel                            -0.4767      0.093     -5.114      0.000      -0.659      -0.294\n",
      "property_type_Room in hotel                                    -14.7167   1.05e+08   -1.4e-07      1.000   -2.06e+08    2.06e+08\n",
      "property_type_Tiny home                                          0.7168     70.100      0.010      0.992    -136.677     138.111\n",
      "property_type_Tower                                              0.1877     35.656      0.005      0.996     -69.697      70.073\n",
      "host_verifications_['email', 'phone', 'work_email']             -0.1219      0.065     -1.877      0.061      -0.249       0.005\n",
      "host_verifications_['email']                                     0.1636     40.422      0.004      0.997     -79.061      79.388\n",
      "host_verifications_['phone', 'work_email']                       0.4247      6.256      0.068      0.946     -11.837      12.687\n",
      "host_verifications_['phone']                                    -0.0313      0.057     -0.545      0.586      -0.144       0.081\n",
      "neighbourhood_cleansed_Downtown Eastside                         0.1498      0.079      1.893      0.058      -0.005       0.305\n",
      "neighbourhood_cleansed_Marpole                                  -0.0129      0.052     -0.249      0.803      -0.114       0.088\n",
      "neighbourhood_cleansed_Oakridge                                  0.1180      0.102      1.152      0.249      -0.083       0.319\n",
      "neighbourhood_cleansed_Riley Park                                0.1344      0.074      1.810      0.070      -0.011       0.280\n",
      "neighbourhood_cleansed_Shaughnessy                               0.0430      0.065      0.661      0.508      -0.084       0.170\n",
      "neighbourhood_cleansed_Strathcona                                0.2824      0.132      2.142      0.032       0.024       0.541\n",
      "neighbourhood_cleansed_West End                                 -0.1274      0.060     -2.123      0.034      -0.245      -0.010\n",
      "neighbourhood_Vancouver , British Columbia, Canada              -0.0268      0.052     -0.519      0.604      -0.128       0.074\n",
      "neighbourhood_Vancouver bc, British Columbia, Canada             0.1724     25.258      0.007      0.995     -49.332      49.677\n",
      "neighbourhood_Vancouver, British Columbia (BC), Canada          -0.0328     13.261     -0.002      0.998     -26.024      25.959\n",
      "neighbourhood_Vancouver, British Columbia, Canada                0.0843      0.059      1.432      0.152      -0.031       0.200\n",
      "neighbourhood_Vancouver, Canada                                  0.1831    100.044      0.002      0.999    -195.900     196.266\n",
      "neighbourhood_West Vancouver, BC , Canada                        0.1826     11.034      0.017      0.987     -21.443      21.808\n",
      "room_type_Hotel room                                             0.3361     15.855      0.021      0.983     -30.739      31.411\n",
      "================================================================================================================================\n"
     ]
    }
   ],
   "source": [
    "# Fit the model using a regularized maximum likelihood\n",
    "model = sm.Logit(y, X_scaled)\n",
    "result = model.fit_regularized(method='l1')\n",
    "\n",
    "# Print the summary of the model\n",
    "print(result.summary())"
   ]
  },
  {
   "cell_type": "code",
   "execution_count": 29,
   "metadata": {},
   "outputs": [
    {
     "name": "stdout",
     "output_type": "stream",
     "text": [
      "price                                      0.693939\n",
      "beds                                       0.227224\n",
      "maximum_minimum_nights                    -1.251198\n",
      "review_scores_checkin                     -0.142940\n",
      "review_scores_cleanliness                  0.137664\n",
      "number_of_reviews_l30d                     0.726075\n",
      "number_of_reviews                          1.725343\n",
      "availability_365                          -0.149028\n",
      "host_neighbourhood_Gastown                 0.265616\n",
      "host_neighbourhood_Hastings-Sunrise        0.238906\n",
      "host_neighbourhood_Knight                  0.253932\n",
      "host_neighbourhood_Metrotown               0.148533\n",
      "host_response_time_within a few hours     -0.145521\n",
      "property_type_Entire rental unit          -0.147761\n",
      "property_type_Entire serviced apartment   -0.150965\n",
      "property_type_Room in boutique hotel      -0.476688\n",
      "neighbourhood_cleansed_Strathcona          0.282365\n",
      "neighbourhood_cleansed_West End           -0.127397\n",
      "dtype: float64\n",
      "18\n"
     ]
    }
   ],
   "source": [
    "# Get all coefficients of the model with a p-value less than 0.05\n",
    "significant_variables = result.params[result.pvalues < 0.05]\n",
    "print(significant_variables)\n",
    "\n",
    "# Print count of significant variables\n",
    "print(len(significant_variables))"
   ]
  },
  {
   "cell_type": "code",
   "execution_count": 28,
   "metadata": {},
   "outputs": [
    {
     "name": "stdout",
     "output_type": "stream",
     "text": [
      "1 / (1 + exp(-(0.020590619354067703 * maximum_maximum_nights + 0.6939386628662507 * price + -0.05407280970695617 * instant_bookable + 0.030354628622901905 * host_is_superhost + 0.010719677412173651 * review_scores_location + 0.2272235690774166 * beds + -0.02029936215752927 * host_acceptance_rate + -1.2511982832329893 * maximum_minimum_nights + -0.14293966892896656 * review_scores_checkin + 0.13766379285452593 * review_scores_cleanliness + 0.7260745916151178 * number_of_reviews_l30d + -0.055204861516105146 * host_response_rate + 0.0407447102138601 * availability_30 + -0.12012994358564606 * host_identity_verified + -0.004634831327077161 * calculated_host_listings_count + -0.10892682200990413 * maximum_nights + 1.7253426613888685 * number_of_reviews + -0.14902779327720572 * availability_365 + 0.12424699017173921 * calculated_host_listings_count_private_rooms + 0.003397021797924817 * has_availability + -0.05031298327296703 * host_has_profile_pic + 0.23065635807136597 * host_neighbourhood_Beltline + 0.44445418888674665 * host_neighbourhood_Burnaby + 0.297198175095827 * host_neighbourhood_Cannes + 0.138032765550262 * host_neighbourhood_Central City + -0.036988296279442 * host_neighbourhood_Chinatown + 0.21776223368298336 * host_neighbourhood_Clearbrook + 0.0436911019320962 * host_neighbourhood_Coal Harbour + 1.0621441946543033 * host_neighbourhood_Commercial Drive + 0.25074019639048645 * host_neighbourhood_District of North Vancouver + 0.19029878694780136 * host_neighbourhood_Downtown + -0.12007369528556742 * host_neighbourhood_Downtown Eastside + -26.081861185676885 * host_neighbourhood_Downtown Montreal + 0.021390375970928376 * host_neighbourhood_Downtown Vancouver + 0.09425562948929272 * host_neighbourhood_Dunbar-Southlands + 0.08785463290777754 * host_neighbourhood_East Vancouver + 0.05126804317994754 * host_neighbourhood_Fairview + 0.0935252328571008 * host_neighbourhood_Fraserview + 0.4134417618946751 * host_neighbourhood_Garvey + 0.26561573117797593 * host_neighbourhood_Gastown + 0.09837185132124543 * host_neighbourhood_Grandview-Woodland + 0.35827804884719067 * host_neighbourhood_Guildford + 0.23890585622126156 * host_neighbourhood_Hastings-Sunrise + 0.15395288049229103 * host_neighbourhood_Kailua/Kona + 0.09463080076591074 * host_neighbourhood_Kensington-Cedar Cottage + -0.00388962824570199 * host_neighbourhood_Kerrisdale + 0.04198587444310919 * host_neighbourhood_Killarney + 0.031646923567488085 * host_neighbourhood_Kitsilano + 0.2539316751492424 * host_neighbourhood_Knight + 0.20191336419901088 * host_neighbourhood_Le Plateau + 0.1485333798004664 * host_neighbourhood_Metrotown + -0.02409621370812643 * host_neighbourhood_Mill Lake + 0.22556696425241524 * host_neighbourhood_Mission Beach + 0.06100279476431633 * host_neighbourhood_Mount Pleasant + 0.23921851208679895 * host_neighbourhood_Newton + -7.360156735492189 * host_neighbourhood_North Central Edmonton + 0.18247524998423445 * host_neighbourhood_Pico + 0.021698217257342514 * host_neighbourhood_Point Grey/University of British Columbia + 0.07766334085535667 * host_neighbourhood_Renfrew-Collingwood + -0.028334789576554654 * host_neighbourhood_Riley Park + -10.405709958802003 * host_neighbourhood_Rockland + 0.09488954001937826 * host_neighbourhood_Routley + 0.026177815748794964 * host_neighbourhood_South Cambie + 0.020935193210106555 * host_neighbourhood_South Main + 0.13578543367600274 * host_neighbourhood_South Vancouver + 0.16406819988775762 * host_neighbourhood_Southlands + 0.1723050675691784 * host_neighbourhood_Southwest Calgary + -0.009889218719718205 * host_neighbourhood_Strathcona + 0.12076678350729317 * host_neighbourhood_Sunset + 0.23138848658181188 * host_neighbourhood_The Meadows + 0.11397629755981885 * host_neighbourhood_Tsawwassen + 0.20294977883232118 * host_neighbourhood_Waikiki + 0.0017594208426338716 * host_neighbourhood_West End + 0.25780006377923925 * host_neighbourhood_West Hill + 0.1699647305820105 * host_neighbourhood_West Point Grey + -0.04787739371644666 * host_neighbourhood_West Side + 0.2795260670797024 * host_neighbourhood_West Vancouver + -0.017400405043474194 * host_neighbourhood_Whalley + 0.010846923067900008 * host_neighbourhood_Yaletown + -0.08774808605261668 * host_response_time_within a day + -0.14552128540061693 * host_response_time_within a few hours + 0.5217059048713324 * property_type_Entire bungalow + 0.34671772588636873 * property_type_Entire cottage + 0.0977500827617092 * property_type_Entire guest suite + 0.021931782974375216 * property_type_Entire guesthouse + -0.0676967734258543 * property_type_Entire loft + 0.2221495160547949 * property_type_Entire place + -0.14776104069814755 * property_type_Entire rental unit + -0.15096477466552202 * property_type_Entire serviced apartment + -0.020617089217705466 * property_type_Entire townhouse + 0.022419753262195998 * property_type_Entire vacation home + -0.09072654142301442 * property_type_Entire villa + 0.16718118204818433 * property_type_Floor + 0.18635072707703107 * property_type_Private room in bungalow + 0.48072776856539917 * property_type_Private room in condo + 0.5928525026779028 * property_type_Private room in guest suite + -0.07035986263416148 * property_type_Private room in guesthouse + 0.0029970911876558057 * property_type_Private room in home + -10.56593866573571 * property_type_Private room in hostel + 0.16318163171511388 * property_type_Private room in loft + 0.5305483052185723 * property_type_Private room in rental unit + -7.675698198807436 * property_type_Private room in serviced apartment + 0.17985780976570398 * property_type_Private room in townhouse + 0.1306415603965473 * property_type_Private room in villa + -7.572339805462578 * property_type_Room in aparthotel + -0.4766882082522545 * property_type_Room in boutique hotel + -14.716704186726604 * property_type_Room in hotel + 0.7168276745365507 * property_type_Tiny home + 0.1876815264354201 * property_type_Tower + -0.12187194389119303 * host_verifications_['email', 'phone', 'work_email'] + 0.16361226639649204 * host_verifications_['email'] + 0.4246939063603184 * host_verifications_['phone', 'work_email'] + -0.03130118811111184 * host_verifications_['phone'] + 0.14984804080454495 * neighbourhood_cleansed_Downtown Eastside + -0.012851150199613501 * neighbourhood_cleansed_Marpole + 0.11799505373420971 * neighbourhood_cleansed_Oakridge + 0.13437487137318832 * neighbourhood_cleansed_Riley Park + 0.04300087855286307 * neighbourhood_cleansed_Shaughnessy + 0.28236505122394817 * neighbourhood_cleansed_Strathcona + -0.1273965764456424 * neighbourhood_cleansed_West End + -0.026770823096104016 * neighbourhood_Vancouver , British Columbia, Canada + 0.1723915599720555 * neighbourhood_Vancouver bc, British Columbia, Canada + -0.03277377155491781 * neighbourhood_Vancouver, British Columbia (BC), Canada + 0.08429413531386451 * neighbourhood_Vancouver, British Columbia, Canada + 0.18308678934460668 * neighbourhood_Vancouver, Canada + 0.18256956929982532 * neighbourhood_West Vancouver, BC , Canada + 0.33607939448227553 * room_type_Hotel room)))\n"
     ]
    }
   ],
   "source": [
    "# Create a formula for the model using the coefficients\n",
    "# Get the coefficients from the logistic regression model\n",
    "coefficients = result.params\n",
    "\n",
    "# Create the formula for the model\n",
    "formula = '1 / (1 + exp(-(' + ' + '.join(['{} * {}'.format(coefficient, variable) for variable, coefficient in coefficients.items()]) + ')))'\n",
    "\n",
    "# Print the formula\n",
    "print(formula)\n"
   ]
  }
 ],
 "metadata": {
  "kernelspec": {
   "display_name": "Python 3",
   "language": "python",
   "name": "python3"
  },
  "language_info": {
   "codemirror_mode": {
    "name": "ipython",
    "version": 3
   },
   "file_extension": ".py",
   "mimetype": "text/x-python",
   "name": "python",
   "nbconvert_exporter": "python",
   "pygments_lexer": "ipython3",
   "version": "3.12.0"
  }
 },
 "nbformat": 4,
 "nbformat_minor": 2
}
