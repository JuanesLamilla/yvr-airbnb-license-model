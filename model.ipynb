{
 "cells": [
  {
   "cell_type": "code",
   "execution_count": 30,
   "metadata": {},
   "outputs": [],
   "source": [
    "# Load libraries\n",
    "import pandas as pd\n",
    "import os\n",
    "import statsmodels.api as sm"
   ]
  },
  {
   "cell_type": "code",
   "execution_count": 31,
   "metadata": {},
   "outputs": [],
   "source": [
    "# Load cleaned data\n",
    "listings_df = pd.read_csv(os.path.join('data', 'yvr_listing_data_cleaned.csv'))"
   ]
  },
  {
   "cell_type": "code",
   "execution_count": 32,
   "metadata": {},
   "outputs": [
    {
     "name": "stdout",
     "output_type": "stream",
     "text": [
      "Optimization terminated successfully.\n",
      "         Current function value: 0.563565\n",
      "         Iterations 5\n",
      "                           Logit Regression Results                           \n",
      "==============================================================================\n",
      "Dep. Variable:          legal_listing   No. Observations:                 5641\n",
      "Model:                          Logit   Df Residuals:                     5639\n",
      "Method:                           MLE   Df Model:                            1\n",
      "Date:                Thu, 23 Nov 2023   Pseudo R-squ.:                0.003890\n",
      "Time:                        09:14:05   Log-Likelihood:                -3179.1\n",
      "converged:                       True   LL-Null:                       -3191.5\n",
      "Covariance Type:            nonrobust   LLR p-value:                 6.257e-07\n",
      "========================================================================================\n",
      "                           coef    std err          z      P>|z|      [0.025      0.975]\n",
      "----------------------------------------------------------------------------------------\n",
      "const                   -0.4340      0.302     -1.437      0.151      -1.026       0.158\n",
      "review_scores_rating     0.3192      0.063      5.035      0.000       0.195       0.443\n",
      "========================================================================================\n",
      "\n",
      "       Wald Test Results\n",
      "Test Statistic: 25.35365287005247\n",
      "P-value: 4.772477793177901e-07\n",
      "Degrees of Freedom: 1.0\n"
     ]
    }
   ],
   "source": [
    "\"\"\"\n",
    "Using the logistic regression Wald test, see if there is a connection between review_scores_rating (independent variable)\n",
    "and legal_listing (dependent variable). The null hypothesis is that there is no connection between the two variables.\n",
    "review_scores_rating is a continuous variable from 0 to 5, while legal_listing is a categorial boolean variable.\n",
    "\"\"\"\n",
    "# Remove rows where review_scores_rating is NaN\n",
    "listings_df = listings_df[listings_df['review_scores_rating'].notna()]\n",
    "\n",
    "# Prepare the data\n",
    "X = listings_df['review_scores_rating']\n",
    "y = listings_df['legal_listing']\n",
    "\n",
    "# Fit the logistic regression model\n",
    "model = sm.Logit(y, sm.add_constant(X))\n",
    "result = model.fit()\n",
    "\n",
    "print(result.summary())\n",
    "\n",
    "# Perform the Wald test\n",
    "wald_test = result.wald_test(\"review_scores_rating = 0\", scalar=True)\n",
    "\n",
    "# Print the Wald test results\n",
    "print(\"\\n       Wald Test Results\")\n",
    "print(\"Test Statistic:\", wald_test.statistic)\n",
    "print(\"P-value:\", wald_test.pvalue)\n",
    "print(\"Degrees of Freedom:\", wald_test.df_denom)\n"
   ]
  },
  {
   "cell_type": "code",
   "execution_count": 33,
   "metadata": {},
   "outputs": [
    {
     "name": "stdout",
     "output_type": "stream",
     "text": [
      "Optimization terminated successfully.\n",
      "         Current function value: 0.538722\n",
      "         Iterations 7\n",
      "                           Logit Regression Results                           \n",
      "==============================================================================\n",
      "Dep. Variable:          legal_listing   No. Observations:                 5641\n",
      "Model:                          Logit   Df Residuals:                     5637\n",
      "Method:                           MLE   Df Model:                            3\n",
      "Date:                Thu, 23 Nov 2023   Pseudo R-squ.:                 0.04780\n",
      "Time:                        09:14:05   Log-Likelihood:                -3038.9\n",
      "converged:                       True   LL-Null:                       -3191.5\n",
      "Covariance Type:            nonrobust   LLR p-value:                 7.792e-66\n",
      "========================================================================================\n",
      "                           coef    std err          z      P>|z|      [0.025      0.975]\n",
      "----------------------------------------------------------------------------------------\n",
      "const                   -1.0386      0.315     -3.293      0.001      -1.657      -0.420\n",
      "review_scores_rating     0.2498      0.066      3.806      0.000       0.121       0.378\n",
      "price                    0.0044      0.000     14.012      0.000       0.004       0.005\n",
      "instant_bookable         0.2316      0.077      2.996      0.003       0.080       0.383\n",
      "========================================================================================\n",
      "\n",
      "       Prediction Results\n",
      "Probability of being legal: 0.7727605389789839\n",
      "\n",
      "       Model Formula\n",
      "logit(p) =  -1.0385921090392611 + 0.24980357167889394 * review_scores_rating + 0.004447034765015565 * price + 0.2315545251500166 * instant_bookable\n",
      "\n",
      "       Prediction Results\n",
      "Probability of being legal: 0.7727603944055033\n"
     ]
    },
    {
     "name": "stderr",
     "output_type": "stream",
     "text": [
      "C:\\Users\\juane\\AppData\\Local\\Temp\\ipykernel_8368\\1606007582.py:33: FutureWarning: Series.__getitem__ treating keys as positions is deprecated. In a future version, integer keys will always be treated as labels (consistent with DataFrame behavior). To access a value by position, use `ser.iloc[pos]`\n",
      "  print(\"logit(p) = \", result.params[0], \"+\", result.params[1], \"* review_scores_rating +\", result.params[2], \"* price +\", result.params[3], \"* instant_bookable\")\n",
      "C:\\Users\\juane\\AppData\\Local\\Temp\\ipykernel_8368\\1606007582.py:37: FutureWarning: Series.__getitem__ treating keys as positions is deprecated. In a future version, integer keys will always be treated as labels (consistent with DataFrame behavior). To access a value by position, use `ser.iloc[pos]`\n",
      "  print(\"Probability of being legal:\", 1 / (1 + 2.71828 ** -(result.params[0] + result.params[1] * 4.5 + result.params[2] * 256 + result.params[3] * 0)))\n"
     ]
    }
   ],
   "source": [
    "\"\"\"\n",
    "Create a multiple logistic regression model to predict legal_listing using the following independent variables:\n",
    "review_scores_rating, price, instant_bookable\n",
    "\"\"\"\n",
    "# Convert instant_bookable to a boolean variable\n",
    "listings_df['instant_bookable'] = listings_df['instant_bookable'].map({'t': 1, 'f': 0})\n",
    "\n",
    "# Convert price to a float variable\n",
    "listings_df['price'] = listings_df['price'].str.replace('$', '').str.replace(',', '').astype(float)\n",
    "\n",
    "# Prepare the data\n",
    "X = listings_df[['review_scores_rating', 'price', 'instant_bookable']]\n",
    "y = listings_df['legal_listing']\n",
    "\n",
    "# Add constant to the independent variables\n",
    "X = sm.add_constant(X)\n",
    "\n",
    "# Fit the logistic regression model\n",
    "model = sm.Logit(y, X)\n",
    "result = model.fit()\n",
    "\n",
    "# Print the summary of the model\n",
    "print(result.summary())\n",
    "\n",
    "# Using the results of a logistic regression model, predict the probability of a listing being legal\n",
    "# given the following values of the independent variables:\n",
    "# review_scores_rating = 4.5, price = $256, instant_bookable = False\n",
    "print(\"\\n       Prediction Results\")\n",
    "print(\"Probability of being legal:\", result.predict([1, 4.5, 256, 0])[0])\n",
    "\n",
    "# Show formula for the model\n",
    "print(\"\\n       Model Formula\")\n",
    "print(\"logit(p) = \", result.params[0], \"+\", result.params[1], \"* review_scores_rating +\", result.params[2], \"* price +\", result.params[3], \"* instant_bookable\")\n",
    "\n",
    "# Apply formula to calculate the probability of being legal (sigmoid function)\n",
    "print(\"\\n       Prediction Results\")\n",
    "print(\"Probability of being legal:\", 1 / (1 + 2.71828 ** -(result.params[0] + result.params[1] * 4.5 + result.params[2] * 256 + result.params[3] * 0)))"
   ]
  }
 ],
 "metadata": {
  "kernelspec": {
   "display_name": "Python 3",
   "language": "python",
   "name": "python3"
  },
  "language_info": {
   "codemirror_mode": {
    "name": "ipython",
    "version": 3
   },
   "file_extension": ".py",
   "mimetype": "text/x-python",
   "name": "python",
   "nbconvert_exporter": "python",
   "pygments_lexer": "ipython3",
   "version": "3.11.5"
  }
 },
 "nbformat": 4,
 "nbformat_minor": 2
}
