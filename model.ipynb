{
 "cells": [
  {
   "cell_type": "code",
<<<<<<< Updated upstream
   "execution_count": 9,
=======
   "execution_count": 1,
>>>>>>> Stashed changes
   "metadata": {},
   "outputs": [],
   "source": [
    "# Load libraries\n",
    "import pandas as pd\n",
    "import os\n",
    "import statsmodels.api as sm"
   ]
  },
  {
   "cell_type": "code",
<<<<<<< Updated upstream
   "execution_count": 10,
=======
   "execution_count": 2,
>>>>>>> Stashed changes
   "metadata": {},
   "outputs": [],
   "source": [
    "# Load cleaned data\n",
    "listings_df = pd.read_csv(os.path.join('data', 'yvr_listing_data_cleaned.csv'))"
   ]
  },
  {
   "cell_type": "code",
<<<<<<< Updated upstream
   "execution_count": 32,
   "metadata": {},
   "outputs": [
    {
     "name": "stdout",
     "output_type": "stream",
     "text": [
      "Optimization terminated successfully.\n",
      "         Current function value: 0.563565\n",
      "         Iterations 5\n",
      "                           Logit Regression Results                           \n",
      "==============================================================================\n",
      "Dep. Variable:          legal_listing   No. Observations:                 5641\n",
      "Model:                          Logit   Df Residuals:                     5639\n",
      "Method:                           MLE   Df Model:                            1\n",
      "Date:                Thu, 23 Nov 2023   Pseudo R-squ.:                0.003890\n",
      "Time:                        09:14:05   Log-Likelihood:                -3179.1\n",
      "converged:                       True   LL-Null:                       -3191.5\n",
      "Covariance Type:            nonrobust   LLR p-value:                 6.257e-07\n",
      "========================================================================================\n",
      "                           coef    std err          z      P>|z|      [0.025      0.975]\n",
      "----------------------------------------------------------------------------------------\n",
      "const                   -0.4340      0.302     -1.437      0.151      -1.026       0.158\n",
      "review_scores_rating     0.3192      0.063      5.035      0.000       0.195       0.443\n",
      "========================================================================================\n",
      "\n",
      "       Wald Test Results\n",
      "Test Statistic: 25.35365287005247\n",
      "P-value: 4.772477793177901e-07\n",
      "Degrees of Freedom: 1.0\n"
     ]
    }
   ],
   "source": [
    "\"\"\"\n",
    "Using the logistic regression Wald test, see if there is a connection between review_scores_rating (independent variable)\n",
    "and legal_listing (dependent variable). The null hypothesis is that there is no connection between the two variables.\n",
    "review_scores_rating is a continuous variable from 0 to 5, while legal_listing is a categorial boolean variable.\n",
    "\"\"\"\n",
    "# Remove rows where review_scores_rating is NaN\n",
    "listings_df = listings_df[listings_df['review_scores_rating'].notna()]\n",
    "\n",
    "# Prepare the data\n",
    "X = listings_df['review_scores_rating']\n",
    "y = listings_df['legal_listing']\n",
    "\n",
    "# Fit the logistic regression model\n",
    "model = sm.Logit(y, sm.add_constant(X))\n",
    "result = model.fit()\n",
    "\n",
    "print(result.summary())\n",
    "\n",
    "# Perform the Wald test\n",
    "wald_test = result.wald_test(\"review_scores_rating = 0\", scalar=True)\n",
    "\n",
    "# Print the Wald test results\n",
    "print(\"\\n       Wald Test Results\")\n",
    "print(\"Test Statistic:\", wald_test.statistic)\n",
    "print(\"P-value:\", wald_test.pvalue)\n",
    "print(\"Degrees of Freedom:\", wald_test.df_denom)\n"
   ]
  },
  {
   "cell_type": "code",
   "execution_count": 11,
=======
   "execution_count": 3,
>>>>>>> Stashed changes
   "metadata": {},
   "outputs": [],
   "source": [
    "# Create the list containing every independant variable\n",
    "column_name = list(listings_df.columns)\n",
    "column_name.remove('legal_listing')"
   ]
  },
  {
   "cell_type": "code",
   "execution_count": 12,
   "metadata": {},
   "outputs": [
    {
     "name": "stderr",
     "output_type": "stream",
     "text": [
      "c:\\Users\\SBH\\anaconda3\\Lib\\site-packages\\statsmodels\\discrete\\discrete_model.py:2383: RuntimeWarning: overflow encountered in exp\n",
      "  return 1/(1+np.exp(-X))\n",
      "c:\\Users\\SBH\\anaconda3\\Lib\\site-packages\\statsmodels\\discrete\\discrete_model.py:2441: RuntimeWarning: divide by zero encountered in log\n",
      "  return np.sum(np.log(self.cdf(q * linpred)))\n"
     ]
    },
    {
     "name": "stdout",
     "output_type": "stream",
     "text": [
      "Warning: Maximum number of iterations has been exceeded.\n",
      "         Current function value: inf\n",
      "         Iterations: 35\n"
     ]
    },
    {
     "ename": "LinAlgError",
     "evalue": "Singular matrix",
     "output_type": "error",
     "traceback": [
      "\u001b[1;31m---------------------------------------------------------------------------\u001b[0m",
      "\u001b[1;31mLinAlgError\u001b[0m                               Traceback (most recent call last)",
      "\u001b[1;32mc:\\Users\\SBH\\OneDrive - University College London\\#CASA0007__QuantitativeMethods\\ASSESSMENT\\GroupworkPresentation\\yvr-airbnb-license-model\\model.ipynb Cell 5\u001b[0m line \u001b[0;36m1\n\u001b[0;32m     <a href='vscode-notebook-cell:/c%3A/Users/SBH/OneDrive%20-%20University%20College%20London/%23CASA0007__QuantitativeMethods/ASSESSMENT/GroupworkPresentation/yvr-airbnb-license-model/model.ipynb#W3sZmlsZQ%3D%3D?line=13'>14</a>\u001b[0m \u001b[39m# Fit the logistic regression model\u001b[39;00m\n\u001b[0;32m     <a href='vscode-notebook-cell:/c%3A/Users/SBH/OneDrive%20-%20University%20College%20London/%23CASA0007__QuantitativeMethods/ASSESSMENT/GroupworkPresentation/yvr-airbnb-license-model/model.ipynb#W3sZmlsZQ%3D%3D?line=14'>15</a>\u001b[0m model \u001b[39m=\u001b[39m sm\u001b[39m.\u001b[39mLogit(y, X)\n\u001b[1;32m---> <a href='vscode-notebook-cell:/c%3A/Users/SBH/OneDrive%20-%20University%20College%20London/%23CASA0007__QuantitativeMethods/ASSESSMENT/GroupworkPresentation/yvr-airbnb-license-model/model.ipynb#W3sZmlsZQ%3D%3D?line=15'>16</a>\u001b[0m result \u001b[39m=\u001b[39m model\u001b[39m.\u001b[39;49mfit()\n\u001b[0;32m     <a href='vscode-notebook-cell:/c%3A/Users/SBH/OneDrive%20-%20University%20College%20London/%23CASA0007__QuantitativeMethods/ASSESSMENT/GroupworkPresentation/yvr-airbnb-license-model/model.ipynb#W3sZmlsZQ%3D%3D?line=17'>18</a>\u001b[0m \u001b[39m# Print the summary of the model\u001b[39;00m\n\u001b[0;32m     <a href='vscode-notebook-cell:/c%3A/Users/SBH/OneDrive%20-%20University%20College%20London/%23CASA0007__QuantitativeMethods/ASSESSMENT/GroupworkPresentation/yvr-airbnb-license-model/model.ipynb#W3sZmlsZQ%3D%3D?line=18'>19</a>\u001b[0m \u001b[39mprint\u001b[39m(result\u001b[39m.\u001b[39msummary())\n",
      "File \u001b[1;32mc:\\Users\\SBH\\anaconda3\\Lib\\site-packages\\statsmodels\\discrete\\discrete_model.py:2599\u001b[0m, in \u001b[0;36mLogit.fit\u001b[1;34m(self, start_params, method, maxiter, full_output, disp, callback, **kwargs)\u001b[0m\n\u001b[0;32m   2596\u001b[0m \u001b[39m@Appender\u001b[39m(DiscreteModel\u001b[39m.\u001b[39mfit\u001b[39m.\u001b[39m\u001b[39m__doc__\u001b[39m)\n\u001b[0;32m   2597\u001b[0m \u001b[39mdef\u001b[39;00m \u001b[39mfit\u001b[39m(\u001b[39mself\u001b[39m, start_params\u001b[39m=\u001b[39m\u001b[39mNone\u001b[39;00m, method\u001b[39m=\u001b[39m\u001b[39m'\u001b[39m\u001b[39mnewton\u001b[39m\u001b[39m'\u001b[39m, maxiter\u001b[39m=\u001b[39m\u001b[39m35\u001b[39m,\n\u001b[0;32m   2598\u001b[0m         full_output\u001b[39m=\u001b[39m\u001b[39m1\u001b[39m, disp\u001b[39m=\u001b[39m\u001b[39m1\u001b[39m, callback\u001b[39m=\u001b[39m\u001b[39mNone\u001b[39;00m, \u001b[39m*\u001b[39m\u001b[39m*\u001b[39mkwargs):\n\u001b[1;32m-> 2599\u001b[0m     bnryfit \u001b[39m=\u001b[39m \u001b[39msuper\u001b[39;49m()\u001b[39m.\u001b[39;49mfit(start_params\u001b[39m=\u001b[39;49mstart_params,\n\u001b[0;32m   2600\u001b[0m                           method\u001b[39m=\u001b[39;49mmethod,\n\u001b[0;32m   2601\u001b[0m                           maxiter\u001b[39m=\u001b[39;49mmaxiter,\n\u001b[0;32m   2602\u001b[0m                           full_output\u001b[39m=\u001b[39;49mfull_output,\n\u001b[0;32m   2603\u001b[0m                           disp\u001b[39m=\u001b[39;49mdisp,\n\u001b[0;32m   2604\u001b[0m                           callback\u001b[39m=\u001b[39;49mcallback,\n\u001b[0;32m   2605\u001b[0m                           \u001b[39m*\u001b[39;49m\u001b[39m*\u001b[39;49mkwargs)\n\u001b[0;32m   2607\u001b[0m     discretefit \u001b[39m=\u001b[39m LogitResults(\u001b[39mself\u001b[39m, bnryfit)\n\u001b[0;32m   2608\u001b[0m     \u001b[39mreturn\u001b[39;00m BinaryResultsWrapper(discretefit)\n",
      "File \u001b[1;32mc:\\Users\\SBH\\anaconda3\\Lib\\site-packages\\statsmodels\\discrete\\discrete_model.py:243\u001b[0m, in \u001b[0;36mDiscreteModel.fit\u001b[1;34m(self, start_params, method, maxiter, full_output, disp, callback, **kwargs)\u001b[0m\n\u001b[0;32m    240\u001b[0m \u001b[39melse\u001b[39;00m:\n\u001b[0;32m    241\u001b[0m     \u001b[39mpass\u001b[39;00m  \u001b[39m# TODO: make a function factory to have multiple call-backs\u001b[39;00m\n\u001b[1;32m--> 243\u001b[0m mlefit \u001b[39m=\u001b[39m \u001b[39msuper\u001b[39;49m()\u001b[39m.\u001b[39;49mfit(start_params\u001b[39m=\u001b[39;49mstart_params,\n\u001b[0;32m    244\u001b[0m                      method\u001b[39m=\u001b[39;49mmethod,\n\u001b[0;32m    245\u001b[0m                      maxiter\u001b[39m=\u001b[39;49mmaxiter,\n\u001b[0;32m    246\u001b[0m                      full_output\u001b[39m=\u001b[39;49mfull_output,\n\u001b[0;32m    247\u001b[0m                      disp\u001b[39m=\u001b[39;49mdisp,\n\u001b[0;32m    248\u001b[0m                      callback\u001b[39m=\u001b[39;49mcallback,\n\u001b[0;32m    249\u001b[0m                      \u001b[39m*\u001b[39;49m\u001b[39m*\u001b[39;49mkwargs)\n\u001b[0;32m    251\u001b[0m \u001b[39mreturn\u001b[39;00m mlefit\n",
      "File \u001b[1;32mc:\\Users\\SBH\\anaconda3\\Lib\\site-packages\\statsmodels\\base\\model.py:582\u001b[0m, in \u001b[0;36mLikelihoodModel.fit\u001b[1;34m(self, start_params, method, maxiter, full_output, disp, fargs, callback, retall, skip_hessian, **kwargs)\u001b[0m\n\u001b[0;32m    580\u001b[0m     Hinv \u001b[39m=\u001b[39m cov_params_func(\u001b[39mself\u001b[39m, xopt, retvals)\n\u001b[0;32m    581\u001b[0m \u001b[39melif\u001b[39;00m method \u001b[39m==\u001b[39m \u001b[39m'\u001b[39m\u001b[39mnewton\u001b[39m\u001b[39m'\u001b[39m \u001b[39mand\u001b[39;00m full_output:\n\u001b[1;32m--> 582\u001b[0m     Hinv \u001b[39m=\u001b[39m np\u001b[39m.\u001b[39;49mlinalg\u001b[39m.\u001b[39;49minv(\u001b[39m-\u001b[39;49mretvals[\u001b[39m'\u001b[39;49m\u001b[39mHessian\u001b[39;49m\u001b[39m'\u001b[39;49m]) \u001b[39m/\u001b[39m nobs\n\u001b[0;32m    583\u001b[0m \u001b[39melif\u001b[39;00m \u001b[39mnot\u001b[39;00m skip_hessian:\n\u001b[0;32m    584\u001b[0m     H \u001b[39m=\u001b[39m \u001b[39m-\u001b[39m\u001b[39m1\u001b[39m \u001b[39m*\u001b[39m \u001b[39mself\u001b[39m\u001b[39m.\u001b[39mhessian(xopt)\n",
      "File \u001b[1;32m<__array_function__ internals>:200\u001b[0m, in \u001b[0;36minv\u001b[1;34m(*args, **kwargs)\u001b[0m\n",
      "File \u001b[1;32mc:\\Users\\SBH\\anaconda3\\Lib\\site-packages\\numpy\\linalg\\linalg.py:538\u001b[0m, in \u001b[0;36minv\u001b[1;34m(a)\u001b[0m\n\u001b[0;32m    536\u001b[0m signature \u001b[39m=\u001b[39m \u001b[39m'\u001b[39m\u001b[39mD->D\u001b[39m\u001b[39m'\u001b[39m \u001b[39mif\u001b[39;00m isComplexType(t) \u001b[39melse\u001b[39;00m \u001b[39m'\u001b[39m\u001b[39md->d\u001b[39m\u001b[39m'\u001b[39m\n\u001b[0;32m    537\u001b[0m extobj \u001b[39m=\u001b[39m get_linalg_error_extobj(_raise_linalgerror_singular)\n\u001b[1;32m--> 538\u001b[0m ainv \u001b[39m=\u001b[39m _umath_linalg\u001b[39m.\u001b[39;49minv(a, signature\u001b[39m=\u001b[39;49msignature, extobj\u001b[39m=\u001b[39;49mextobj)\n\u001b[0;32m    539\u001b[0m \u001b[39mreturn\u001b[39;00m wrap(ainv\u001b[39m.\u001b[39mastype(result_t, copy\u001b[39m=\u001b[39m\u001b[39mFalse\u001b[39;00m))\n",
      "File \u001b[1;32mc:\\Users\\SBH\\anaconda3\\Lib\\site-packages\\numpy\\linalg\\linalg.py:89\u001b[0m, in \u001b[0;36m_raise_linalgerror_singular\u001b[1;34m(err, flag)\u001b[0m\n\u001b[0;32m     88\u001b[0m \u001b[39mdef\u001b[39;00m \u001b[39m_raise_linalgerror_singular\u001b[39m(err, flag):\n\u001b[1;32m---> 89\u001b[0m     \u001b[39mraise\u001b[39;00m LinAlgError(\u001b[39m\"\u001b[39m\u001b[39mSingular matrix\u001b[39m\u001b[39m\"\u001b[39m)\n",
      "\u001b[1;31mLinAlgError\u001b[0m: Singular matrix"
     ]
    }
   ],
   "source": [
    "\"\"\"\n",
    "Create a multiple logistic regression model to predict legal_listing using the following independent variables:\n",
    "variable[column_name]\n",
    "\"\"\"\n",
    "\n",
    "\n",
    "# Prepare the data\n",
    "X = listings_df[column_name]\n",
    "y = listings_df['legal_listing']\n",
    "\n",
    "# Add constant to the independent variables\n",
<<<<<<< Updated upstream
    "X = sm.add_constant(X)\n",
    "\n",
    "# Fit the logistic regression model\n",
    "model = sm.Logit(y, X)\n",
    "result = model.fit()\n",
    "\n",
    "# Print the summary of the model\n",
    "print(result.summary())\n",
    "\n",
    "# Using the results of a logistic regression model, predict the probability of a listing being legal\n",
    "# given the following values of the independent variables:\n",
    "# review_scores_rating = 4.5, price = $256, instant_bookable = False\n",
    "#print(\"\\n       Prediction Results\")\n",
    "#print(\"Probability of being legal:\", result.predict([1, 4.5, 256, 0])[0])\n",
=======
    "X = sm.add_constant(X)"
   ]
  },
  {
   "cell_type": "code",
   "execution_count": 4,
   "metadata": {},
   "outputs": [],
   "source": [
    "# Initialize the StandardScaler\n",
    "scaler = StandardScaler()\n",
    "\n",
    "# Scale the independent variables\n",
    "X_scaled = scaler.fit_transform(X)\n",
    "\n",
    "# Convert the scaled variables back to a DataFrame\n",
    "X_scaled = pd.DataFrame(X_scaled, columns=X.columns)"
   ]
  },
  {
   "cell_type": "code",
   "execution_count": 5,
   "metadata": {},
   "outputs": [
    {
     "name": "stdout",
     "output_type": "stream",
     "text": [
      "Index(['const', 'room_type_Shared room'], dtype='object')\n"
     ]
    }
   ],
   "source": [
    "# Check for zero variance variables\n",
    "zero_variance_variables = X_scaled.var()[X_scaled.var() == 0].index\n",
    "\n",
    "# Print the zero variance variables\n",
    "print(zero_variance_variables)"
   ]
  },
  {
   "cell_type": "code",
   "execution_count": 6,
   "metadata": {},
   "outputs": [],
   "source": [
    "# Drop the zero variance variables\n",
    "X_scaled = X_scaled.drop(zero_variance_variables, axis=1)"
   ]
  },
  {
   "cell_type": "code",
   "execution_count": 7,
   "metadata": {},
   "outputs": [
    {
     "name": "stdout",
     "output_type": "stream",
     "text": [
      "Optimization terminated successfully    (Exit mode 0)\n",
      "            Current function value: 0.42797018777459817\n",
      "            Iterations: 78\n",
      "            Function evaluations: 78\n",
      "            Gradient evaluations: 78\n",
      "                           Logit Regression Results                           \n",
      "==============================================================================\n",
      "Dep. Variable:          legal_listing   No. Observations:                 3683\n",
      "Model:                          Logit   Df Residuals:                     3636\n",
      "Method:                           MLE   Df Model:                           46\n",
      "Date:                Wed, 29 Nov 2023   Pseudo R-squ.:                  0.2130\n",
      "Time:                        20:34:10   Log-Likelihood:                -1576.2\n",
      "converged:                       True   LL-Null:                       -2002.8\n",
      "Covariance Type:            nonrobust   LLR p-value:                3.651e-149\n",
      "===================================================================================================================\n",
      "                                                      coef    std err          z      P>|z|      [0.025      0.975]\n",
      "-------------------------------------------------------------------------------------------------------------------\n",
      "number_of_reviews                                   0.5676      0.081      6.974      0.000       0.408       0.727\n",
      "price                                               0.3216      0.089      3.594      0.000       0.146       0.497\n",
      "host_listings_count                                -0.1960      0.066     -2.992      0.003      -0.324      -0.068\n",
      "has_availability                                   -0.0608      0.057     -1.067      0.286      -0.173       0.051\n",
      "host_is_superhost                                   0.0368      0.050      0.740      0.459      -0.061       0.134\n",
      "host_has_profile_pic                               -0.0277      0.047     -0.592      0.554      -0.119       0.064\n",
      "host_response_time                                  0.1237      0.055      2.268      0.023       0.017       0.231\n",
      "availability_365                                   -0.1566      0.048     -3.270      0.001      -0.251      -0.063\n",
      "host_acceptance_rate                                0.0644      0.053      1.208      0.227      -0.040       0.169\n",
      "maximum_nights                                     -0.0280      0.059     -0.473      0.636      -0.144       0.088\n",
      "review_scores_cleanliness                           0.1419      0.056      2.551      0.011       0.033       0.251\n",
      "host_identity_verified                             -0.0375      0.050     -0.747      0.455      -0.136       0.061\n",
      "review_scores_checkin                              -0.1575      0.057     -2.774      0.006      -0.269      -0.046\n",
      "calculated_host_listings_count_shared_rooms       -37.6216      1.834    -20.516      0.000     -41.216     -34.028\n",
      "maximum_minimum_nights                             -1.2299      0.090    -13.632      0.000      -1.407      -1.053\n",
      "host_response_rate                                 -0.1238      0.048     -2.558      0.011      -0.219      -0.029\n",
      "review_scores_location                              0.0302      0.052      0.576      0.565      -0.073       0.133\n",
      "maximum_maximum_nights                              0.0054      0.059      0.092      0.927      -0.110       0.121\n",
      "host_verifications                                 -0.0972      0.049     -1.976      0.048      -0.194      -0.001\n",
      "number_of_reviews_l30d                              0.2591      0.067      3.895      0.000       0.129       0.389\n",
      "calculated_host_listings_count_private_rooms       -0.0007      0.046     -0.015      0.988      -0.092       0.090\n",
      "availability_30                                     0.0102      0.047      0.217      0.828      -0.082       0.103\n",
      "instant_bookable                                    0.0084      0.049      0.171      0.864      -0.088       0.105\n",
      "beds                                                0.1501      0.061      2.454      0.014       0.030       0.270\n",
      "neighbourhood_cleansed_Downtown Eastside            0.1091      0.053      2.069      0.039       0.006       0.213\n",
      "neighbourhood_cleansed_Dunbar Southlands            0.0793      0.047      1.696      0.090      -0.012       0.171\n",
      "neighbourhood_cleansed_Fairview                     0.0086      0.046      0.188      0.851      -0.081       0.098\n",
      "neighbourhood_cleansed_Grandview-Woodland           0.1302      0.051      2.574      0.010       0.031       0.229\n",
      "neighbourhood_cleansed_Hastings-Sunrise             0.2067      0.053      3.879      0.000       0.102       0.311\n",
      "neighbourhood_cleansed_Kensington-Cedar Cottage     0.1990      0.052      3.791      0.000       0.096       0.302\n",
      "neighbourhood_cleansed_Kerrisdale                  -0.0200      0.044     -0.457      0.647      -0.106       0.066\n",
      "neighbourhood_cleansed_Killarney                    0.0584      0.045      1.298      0.194      -0.030       0.147\n",
      "neighbourhood_cleansed_Kitsilano                    0.0663      0.047      1.412      0.158      -0.026       0.158\n",
      "neighbourhood_cleansed_Marpole                      0.0386      0.044      0.883      0.377      -0.047       0.124\n",
      "neighbourhood_cleansed_Mount Pleasant               0.1078      0.046      2.352      0.019       0.018       0.198\n",
      "neighbourhood_cleansed_Oakridge                     0.0629      0.057      1.103      0.270      -0.049       0.175\n",
      "neighbourhood_cleansed_Renfrew-Collingwood          0.1034      0.049      2.124      0.034       0.008       0.199\n",
      "neighbourhood_cleansed_Riley Park                   0.1506      0.048      3.113      0.002       0.056       0.245\n",
      "neighbourhood_cleansed_Shaughnessy                  0.0740      0.050      1.488      0.137      -0.023       0.171\n",
      "neighbourhood_cleansed_South Cambie                 0.0541      0.047      1.151      0.250      -0.038       0.146\n",
      "neighbourhood_cleansed_Strathcona                   0.1529      0.067      2.275      0.023       0.021       0.285\n",
      "neighbourhood_cleansed_Sunset                       0.1069      0.048      2.218      0.027       0.012       0.201\n",
      "neighbourhood_cleansed_Victoria-Fraserview          0.1475      0.052      2.824      0.005       0.045       0.250\n",
      "neighbourhood_cleansed_West End                    -0.1267      0.047     -2.712      0.007      -0.218      -0.035\n",
      "neighbourhood_cleansed_West Point Grey              0.0917      0.050      1.820      0.069      -0.007       0.190\n",
      "room_type_Hotel room                                0.0207      0.061      0.340      0.734      -0.098       0.140\n",
      "room_type_Private room                             -0.1168      0.047     -2.506      0.012      -0.208      -0.025\n",
      "===================================================================================================================\n"
     ]
    },
    {
     "name": "stderr",
     "output_type": "stream",
     "text": [
      "c:\\Users\\SBH\\anaconda3\\Lib\\site-packages\\statsmodels\\discrete\\discrete_model.py:2383: RuntimeWarning: overflow encountered in exp\n",
      "  return 1/(1+np.exp(-X))\n",
      "c:\\Users\\SBH\\anaconda3\\Lib\\site-packages\\statsmodels\\discrete\\discrete_model.py:2383: RuntimeWarning: overflow encountered in exp\n",
      "  return 1/(1+np.exp(-X))\n"
     ]
    }
   ],
   "source": [
    "# Fit the model using a regularized maximum likelihood\n",
    "model = sm.Logit(y, X_scaled)\n",
    "result = model.fit_regularized(method='l1')\n",
    "\n",
    "# Print the summary of the model\n",
    "print(result.summary())"
   ]
  },
  {
   "cell_type": "code",
   "execution_count": 8,
   "metadata": {},
   "outputs": [
    {
     "name": "stdout",
     "output_type": "stream",
     "text": [
      "number_of_reviews                                   0.567621\n",
      "price                                               0.321636\n",
      "host_listings_count                                -0.195996\n",
      "host_response_time                                  0.123736\n",
      "availability_365                                   -0.156632\n",
      "review_scores_cleanliness                           0.141910\n",
      "review_scores_checkin                              -0.157496\n",
      "calculated_host_listings_count_shared_rooms       -37.621590\n",
      "maximum_minimum_nights                             -1.229907\n",
      "host_response_rate                                 -0.123777\n",
      "host_verifications                                 -0.097241\n",
      "number_of_reviews_l30d                              0.259077\n",
      "beds                                                0.150094\n",
      "neighbourhood_cleansed_Downtown Eastside            0.109142\n",
      "neighbourhood_cleansed_Grandview-Woodland           0.130198\n",
      "neighbourhood_cleansed_Hastings-Sunrise             0.206749\n",
      "neighbourhood_cleansed_Kensington-Cedar Cottage     0.199028\n",
      "neighbourhood_cleansed_Mount Pleasant               0.107752\n",
      "neighbourhood_cleansed_Renfrew-Collingwood          0.103358\n",
      "neighbourhood_cleansed_Riley Park                   0.150618\n",
      "neighbourhood_cleansed_Strathcona                   0.152948\n",
      "neighbourhood_cleansed_Sunset                       0.106920\n",
      "neighbourhood_cleansed_Victoria-Fraserview          0.147468\n",
      "neighbourhood_cleansed_West End                    -0.126736\n",
      "room_type_Private room                             -0.116785\n",
      "dtype: float64\n",
      "25\n"
     ]
    }
   ],
   "source": [
    "# Get all coefficients of the model with a p-value less than 0.05\n",
    "significant_variables = result.params[result.pvalues < 0.05]\n",
    "print(significant_variables)\n",
    "\n",
    "# Print count of significant variables\n",
    "print(len(significant_variables))"
   ]
  },
  {
   "cell_type": "code",
   "execution_count": 9,
   "metadata": {},
   "outputs": [
    {
     "name": "stdout",
     "output_type": "stream",
     "text": [
      "1 / (1 + exp(-(0.5676206600096135 * number_of_reviews + 0.3216357573220386 * price + -0.1959959622354055 * host_listings_count + -0.060819814285519413 * has_availability + 0.036807270263176615 * host_is_superhost + -0.027695046820245175 * host_has_profile_pic + 0.12373605851825178 * host_response_time + -0.15663234649319904 * availability_365 + 0.06441274038177966 * host_acceptance_rate + -0.028046093156055926 * maximum_nights + 0.14191009811717284 * review_scores_cleanliness + -0.037475537016711254 * host_identity_verified + -0.15749636150967136 * review_scores_checkin + -37.62158968644015 * calculated_host_listings_count_shared_rooms + -1.2299065985781703 * maximum_minimum_nights + -0.12377711001749471 * host_response_rate + 0.030237030568683404 * review_scores_location + 0.00540993770026994 * maximum_maximum_nights + -0.09724081949667167 * host_verifications + 0.25907733381592135 * number_of_reviews_l30d + -0.0006856139156735922 * calculated_host_listings_count_private_rooms + 0.010221380105667907 * availability_30 + 0.008413609936219526 * instant_bookable + 0.15009360687496118 * beds + 0.10914227645257372 * neighbourhood_cleansed_Downtown Eastside + 0.07931824268382542 * neighbourhood_cleansed_Dunbar Southlands + 0.00857334368636194 * neighbourhood_cleansed_Fairview + 0.13019770843197764 * neighbourhood_cleansed_Grandview-Woodland + 0.2067486701935895 * neighbourhood_cleansed_Hastings-Sunrise + 0.19902798027257668 * neighbourhood_cleansed_Kensington-Cedar Cottage + -0.020045960270153533 * neighbourhood_cleansed_Kerrisdale + 0.058402758164269895 * neighbourhood_cleansed_Killarney + 0.06625019454054992 * neighbourhood_cleansed_Kitsilano + 0.03859312426804583 * neighbourhood_cleansed_Marpole + 0.10775198824260764 * neighbourhood_cleansed_Mount Pleasant + 0.06288276441544517 * neighbourhood_cleansed_Oakridge + 0.10335777451592855 * neighbourhood_cleansed_Renfrew-Collingwood + 0.15061839114937706 * neighbourhood_cleansed_Riley Park + 0.07395645997565678 * neighbourhood_cleansed_Shaughnessy + 0.05412936906790839 * neighbourhood_cleansed_South Cambie + 0.1529475331889116 * neighbourhood_cleansed_Strathcona + 0.10692047077366293 * neighbourhood_cleansed_Sunset + 0.1474678779140965 * neighbourhood_cleansed_Victoria-Fraserview + -0.12673574646121402 * neighbourhood_cleansed_West End + 0.09166444463826626 * neighbourhood_cleansed_West Point Grey + 0.020676085859835283 * room_type_Hotel room + -0.116785214908447 * room_type_Private room)))\n"
     ]
    }
   ],
   "source": [
    "# Create a formula for the model using the coefficients\n",
    "# Get the coefficients from the logistic regression model\n",
    "coefficients = result.params\n",
>>>>>>> Stashed changes
    "\n",
    "# Show formula for the model\n",
    "print(\"\\n       Model Formula\")\n",
    "#print(\"logit(p) = \", result.params[0], \"+\", result.params[1], \"* review_scores_rating +\", result.params[2], \"* price +\", result.params[3], \"* instant_bookable\")\n",
    "\n",
    "# Apply formula to calculate the probability of being legal (sigmoid function)\n",
    "#print(\"\\n       Prediction Results\")\n",
    "#print(\"Probability of being legal:\", 1 / (1 + 2.71828 ** -(result.params[0] + result.params[1] * 4.5 + result.params[2] * 256 + result.params[3] * 0)))"
   ]
  }
 ],
 "metadata": {
  "kernelspec": {
   "display_name": "Python 3",
   "language": "python",
   "name": "python3"
  },
  "language_info": {
   "codemirror_mode": {
    "name": "ipython",
    "version": 3
   },
   "file_extension": ".py",
   "mimetype": "text/x-python",
   "name": "python",
   "nbconvert_exporter": "python",
   "pygments_lexer": "ipython3",
   "version": "3.11.5"
  }
 },
 "nbformat": 4,
 "nbformat_minor": 2
}
