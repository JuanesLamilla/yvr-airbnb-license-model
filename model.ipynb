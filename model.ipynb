{
 "cells": [
  {
   "cell_type": "code",
   "execution_count": 1,
   "metadata": {},
   "outputs": [],
   "source": [
    "# Load libraries\n",
    "import pandas as pd\n",
    "import os\n",
    "import statsmodels.api as sm"
   ]
  },
  {
   "cell_type": "code",
   "execution_count": 2,
   "metadata": {},
   "outputs": [],
   "source": [
    "# Load cleaned data\n",
    "listings_df = pd.read_csv(os.path.join('data', 'yvr_listing_data_cleaned.csv'))"
   ]
  },
  {
   "cell_type": "code",
   "execution_count": 8,
   "metadata": {},
   "outputs": [
    {
     "name": "stdout",
     "output_type": "stream",
     "text": [
      "Optimization terminated successfully.\n",
      "         Current function value: 0.563565\n",
      "         Iterations 5\n",
      "                           Logit Regression Results                           \n",
      "==============================================================================\n",
      "Dep. Variable:          legal_listing   No. Observations:                 5641\n",
      "Model:                          Logit   Df Residuals:                     5639\n",
      "Method:                           MLE   Df Model:                            1\n",
      "Date:                Tue, 21 Nov 2023   Pseudo R-squ.:                0.003890\n",
      "Time:                        18:36:54   Log-Likelihood:                -3179.1\n",
      "converged:                       True   LL-Null:                       -3191.5\n",
      "Covariance Type:            nonrobust   LLR p-value:                 6.257e-07\n",
      "========================================================================================\n",
      "                           coef    std err          z      P>|z|      [0.025      0.975]\n",
      "----------------------------------------------------------------------------------------\n",
      "const                   -0.4340      0.302     -1.437      0.151      -1.026       0.158\n",
      "review_scores_rating     0.3192      0.063      5.035      0.000       0.195       0.443\n",
      "========================================================================================\n",
      "\n",
      "       Wald Test Results\n",
      "Test Statistic: 25.35365287005247\n",
      "P-value: 4.772477793177901e-07\n",
      "Degrees of Freedom: 1.0\n"
     ]
    }
   ],
   "source": [
    "\"\"\"\n",
    "Using the logistic regression Wald test, see if there is a connection between review_scores_rating (independent variable)\n",
    "and legal_listing (dependent variable). The null hypothesis is that there is no connection between the two variables.\n",
    "review_scores_rating is a continuous variable from 0 to 5, while legal_listing is a categorial boolean variable.\n",
    "\"\"\"\n",
    "# Remove rows where review_scores_rating is NaN\n",
    "listings_df = listings_df[listings_df['review_scores_rating'].notna()]\n",
    "\n",
    "# Prepare the data\n",
    "X = listings_df['review_scores_rating']\n",
    "y = listings_df['legal_listing']\n",
    "\n",
    "# Fit the logistic regression model\n",
    "model = sm.Logit(y, sm.add_constant(X))\n",
    "result = model.fit()\n",
    "\n",
    "print(result.summary())\n",
    "\n",
    "# Perform the Wald test\n",
    "wald_test = result.wald_test(\"review_scores_rating = 0\", scalar=True)\n",
    "\n",
    "# Print the Wald test results\n",
    "print(\"\\n       Wald Test Results\")\n",
    "print(\"Test Statistic:\", wald_test.statistic)\n",
    "print(\"P-value:\", wald_test.pvalue)\n",
    "print(\"Degrees of Freedom:\", wald_test.df_denom)\n"
   ]
  }
 ],
 "metadata": {
  "kernelspec": {
   "display_name": "Python 3",
   "language": "python",
   "name": "python3"
  },
  "language_info": {
   "codemirror_mode": {
    "name": "ipython",
    "version": 3
   },
   "file_extension": ".py",
   "mimetype": "text/x-python",
   "name": "python",
   "nbconvert_exporter": "python",
   "pygments_lexer": "ipython3",
   "version": "3.12.0"
  }
 },
 "nbformat": 4,
 "nbformat_minor": 2
}
