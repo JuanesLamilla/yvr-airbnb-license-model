{
 "cells": [
  {
   "cell_type": "code",
   "execution_count": 1,
   "metadata": {},
   "outputs": [],
   "source": [
    "# Load libraries\n",
    "import pandas as pd\n",
    "import os\n",
    "import statsmodels.api as sm\n",
    "import seaborn as sns\n",
    "from sklearn.preprocessing import StandardScaler"
   ]
  },
  {
   "cell_type": "code",
   "execution_count": 2,
   "metadata": {},
   "outputs": [],
   "source": [
    "# Load cleaned data\n",
    "listings_df = pd.read_csv(os.path.join('data', 'yvr_listing_data_cleaned.csv'))"
   ]
  },
  {
   "cell_type": "code",
   "execution_count": 3,
   "metadata": {},
   "outputs": [],
   "source": [
    "# Prepare the data\n",
    "X = listings_df.drop('legal_listing', axis=1)\n",
    "y = listings_df['legal_listing']\n",
    "\n",
    "# Add constant to the independent variables\n",
    "X = sm.add_constant(X)"
   ]
  },
  {
   "cell_type": "code",
   "execution_count": 4,
   "metadata": {},
   "outputs": [],
   "source": [
    "# Initialize the StandardScaler\n",
    "scaler = StandardScaler()\n",
    "\n",
    "# Scale the independent variables\n",
    "X_scaled = scaler.fit_transform(X)\n",
    "\n",
    "# Convert the scaled variables back to a DataFrame\n",
    "X_scaled = pd.DataFrame(X_scaled, columns=X.columns)"
   ]
  },
  {
   "cell_type": "code",
   "execution_count": 5,
   "metadata": {},
   "outputs": [
    {
     "name": "stdout",
     "output_type": "stream",
     "text": [
      "Index(['const'], dtype='object')\n"
     ]
    }
   ],
   "source": [
    "# Check for zero variance variables\n",
    "zero_variance_variables = X_scaled.var()[X_scaled.var() == 0].index\n",
    "\n",
    "# Print the zero variance variables\n",
    "print(zero_variance_variables)"
   ]
  },
  {
   "cell_type": "code",
   "execution_count": 6,
   "metadata": {},
   "outputs": [],
   "source": [
    "# Drop the zero variance variables\n",
    "X_scaled = X_scaled.drop(zero_variance_variables, axis=1)"
   ]
  },
  {
   "cell_type": "code",
   "execution_count": 7,
   "metadata": {},
   "outputs": [
    {
     "name": "stdout",
     "output_type": "stream",
     "text": [
      "Optimization terminated successfully    (Exit mode 0)\n",
      "            Current function value: 0.4942156081839962\n",
      "            Iterations: 42\n",
      "            Function evaluations: 42\n",
      "            Gradient evaluations: 42\n",
      "                           Logit Regression Results                           \n",
      "==============================================================================\n",
      "Dep. Variable:          legal_listing   No. Observations:                 3583\n",
      "Model:                          Logit   Df Residuals:                     3541\n",
      "Method:                           MLE   Df Model:                           41\n",
      "Date:                Thu, 30 Nov 2023   Pseudo R-squ.:                 0.06188\n",
      "Time:                        21:53:02   Log-Likelihood:                -1770.8\n",
      "converged:                       True   LL-Null:                       -1887.6\n",
      "Covariance Type:            nonrobust   LLR p-value:                 8.558e-29\n",
      "===================================================================================================================\n",
      "                                                      coef    std err          z      P>|z|      [0.025      0.975]\n",
      "-------------------------------------------------------------------------------------------------------------------\n",
      "review_scores_checkin                              -0.1482      0.052     -2.836      0.005      -0.251      -0.046\n",
      "host_verifications                                 -0.0668      0.047     -1.414      0.157      -0.159       0.026\n",
      "beds                                                0.0985      0.049      1.993      0.046       0.002       0.195\n",
      "host_has_profile_pic                               -0.0144      0.041     -0.347      0.728      -0.095       0.067\n",
      "minimum_nights                                     -1.2699      0.059    -21.707      0.000      -1.385      -1.155\n",
      "number_of_reviews                                   0.2373      0.052      4.592      0.000       0.136       0.339\n",
      "price                                               0.1064      0.052      2.038      0.042       0.004       0.209\n",
      "host_response_time                                  0.0733      0.055      1.323      0.186      -0.035       0.182\n",
      "host_is_superhost                                   0.0631      0.046      1.376      0.169      -0.027       0.153\n",
      "host_identity_verified                             -0.0407      0.044     -0.915      0.360      -0.128       0.046\n",
      "host_acceptance_rate                                0.1080      0.060      1.814      0.070      -0.009       0.225\n",
      "availability_30                                     0.0034      0.048      0.071      0.944      -0.091       0.098\n",
      "review_scores_cleanliness                           0.1883      0.056      3.354      0.001       0.078       0.298\n",
      "availability_365                                   -0.1254      0.045     -2.810      0.005      -0.213      -0.038\n",
      "host_response_rate                                 -0.1046      0.053     -1.966      0.049      -0.209      -0.000\n",
      "calculated_host_listings_count_private_rooms       -0.0202      0.046     -0.437      0.662      -0.111       0.070\n",
      "instant_bookable                                   -0.0173      0.044     -0.391      0.696      -0.104       0.069\n",
      "host_total_listings_count                          -0.1165      0.056     -2.070      0.038      -0.227      -0.006\n",
      "has_availability                                   -0.0642      0.048     -1.339      0.181      -0.158       0.030\n",
      "number_of_reviews_l30d                             -0.0365      0.049     -0.740      0.459      -0.133       0.060\n",
      "neighbourhood_cleansed_Downtown Eastside            0.0558      0.043      1.307      0.191      -0.028       0.140\n",
      "neighbourhood_cleansed_Dunbar Southlands            0.0659      0.042      1.578      0.114      -0.016       0.148\n",
      "neighbourhood_cleansed_Fairview                    -0.0360      0.052     -0.690      0.490      -0.138       0.066\n",
      "neighbourhood_cleansed_Grandview-Woodland           0.0914      0.044      2.098      0.036       0.006       0.177\n",
      "neighbourhood_cleansed_Hastings-Sunrise             0.1260      0.044      2.847      0.004       0.039       0.213\n",
      "neighbourhood_cleansed_Kensington-Cedar Cottage     0.1438      0.045      3.204      0.001       0.056       0.232\n",
      "neighbourhood_cleansed_Kerrisdale                  -0.0158      0.039     -0.402      0.687      -0.093       0.061\n",
      "neighbourhood_cleansed_Killarney                    0.0433      0.040      1.092      0.275      -0.034       0.121\n",
      "neighbourhood_cleansed_Kitsilano                    0.0784      0.046      1.690      0.091      -0.013       0.169\n",
      "neighbourhood_cleansed_Marpole                      0.0349      0.042      0.830      0.407      -0.048       0.117\n",
      "neighbourhood_cleansed_Mount Pleasant               0.0856      0.045      1.886      0.059      -0.003       0.175\n",
      "neighbourhood_cleansed_Oakridge                     0.0297      0.040      0.736      0.462      -0.049       0.109\n",
      "neighbourhood_cleansed_Renfrew-Collingwood          0.0767      0.043      1.792      0.073      -0.007       0.161\n",
      "neighbourhood_cleansed_Riley Park                   0.1315      0.045      2.941      0.003       0.044       0.219\n",
      "neighbourhood_cleansed_Shaughnessy                  0.0608      0.043      1.411      0.158      -0.024       0.145\n",
      "neighbourhood_cleansed_South Cambie                 0.0460      0.044      1.054      0.292      -0.040       0.131\n",
      "neighbourhood_cleansed_Strathcona                   0.0663      0.046      1.442      0.149      -0.024       0.156\n",
      "neighbourhood_cleansed_Sunset                       0.0609      0.041      1.472      0.141      -0.020       0.142\n",
      "neighbourhood_cleansed_Victoria-Fraserview          0.0908      0.042      2.141      0.032       0.008       0.174\n",
      "neighbourhood_cleansed_West End                    -0.1166      0.049     -2.396      0.017      -0.212      -0.021\n",
      "neighbourhood_cleansed_West Point Grey              0.0714      0.043      1.676      0.094      -0.012       0.155\n",
      "room_type_Private room                             -0.1098      0.043     -2.551      0.011      -0.194      -0.025\n",
      "===================================================================================================================\n"
     ]
    }
   ],
   "source": [
    "# Fit the model using a regularized maximum likelihood\n",
    "model = sm.Logit(y, X_scaled)\n",
    "result = model.fit_regularized(method='l1')\n",
    "\n",
    "# Print the summary of the model\n",
    "print(result.summary())"
   ]
  },
  {
   "cell_type": "code",
   "execution_count": 8,
   "metadata": {},
   "outputs": [
    {
     "name": "stdout",
     "output_type": "stream",
     "text": [
      "review_scores_checkin                             -0.148158\n",
      "beds                                               0.098452\n",
      "minimum_nights                                    -1.269931\n",
      "number_of_reviews                                  0.237274\n",
      "price                                              0.106414\n",
      "review_scores_cleanliness                          0.188315\n",
      "availability_365                                  -0.125399\n",
      "host_response_rate                                -0.104558\n",
      "host_total_listings_count                         -0.116524\n",
      "neighbourhood_cleansed_Grandview-Woodland          0.091393\n",
      "neighbourhood_cleansed_Hastings-Sunrise            0.126015\n",
      "neighbourhood_cleansed_Kensington-Cedar Cottage    0.143774\n",
      "neighbourhood_cleansed_Riley Park                  0.131452\n",
      "neighbourhood_cleansed_Victoria-Fraserview         0.090790\n",
      "neighbourhood_cleansed_West End                   -0.116607\n",
      "room_type_Private room                            -0.109804\n",
      "dtype: float64\n",
      "16\n"
     ]
    }
   ],
   "source": [
    "# Get all coefficients of the model with a p-value less than 0.05\n",
    "significant_variables = result.params[result.pvalues < 0.05]\n",
    "print(significant_variables)\n",
    "\n",
    "# Print count of significant variables\n",
    "print(len(significant_variables))"
   ]
  },
  {
   "cell_type": "code",
   "execution_count": 9,
   "metadata": {},
   "outputs": [
    {
     "name": "stdout",
     "output_type": "stream",
     "text": [
      "1 / (1 + exp(-(-0.14815793922316609 * review_scores_checkin + -0.06678649895772525 * host_verifications + 0.09845201587855172 * beds + -0.014375358476600783 * host_has_profile_pic + -1.2699307076487896 * minimum_nights + 0.23727433591711067 * number_of_reviews + 0.10641352148249862 * price + 0.07333384386954081 * host_response_time + 0.0631479059567123 * host_is_superhost + -0.04066663086890847 * host_identity_verified + 0.10797884474111752 * host_acceptance_rate + 0.0034039267868072273 * availability_30 + 0.18831455175351275 * review_scores_cleanliness + -0.12539915960590534 * availability_365 + -0.10455807701882973 * host_response_rate + -0.020162273170747286 * calculated_host_listings_count_private_rooms + -0.017285878377827007 * instant_bookable + -0.11652387833282933 * host_total_listings_count + -0.06424029449010352 * has_availability + -0.036514206566805006 * number_of_reviews_l30d + 0.05583014202989972 * neighbourhood_cleansed_Downtown Eastside + 0.06593502107198633 * neighbourhood_cleansed_Dunbar Southlands + -0.035954331245335765 * neighbourhood_cleansed_Fairview + 0.09139255454920567 * neighbourhood_cleansed_Grandview-Woodland + 0.1260151863394973 * neighbourhood_cleansed_Hastings-Sunrise + 0.1437741336258652 * neighbourhood_cleansed_Kensington-Cedar Cottage + -0.0158157003104561 * neighbourhood_cleansed_Kerrisdale + 0.04334181616235443 * neighbourhood_cleansed_Killarney + 0.07840424874714862 * neighbourhood_cleansed_Kitsilano + 0.03488385562567537 * neighbourhood_cleansed_Marpole + 0.08562494494816937 * neighbourhood_cleansed_Mount Pleasant + 0.0297174531835796 * neighbourhood_cleansed_Oakridge + 0.07670741140691842 * neighbourhood_cleansed_Renfrew-Collingwood + 0.13145195213075708 * neighbourhood_cleansed_Riley Park + 0.06075850294130483 * neighbourhood_cleansed_Shaughnessy + 0.04596190562543652 * neighbourhood_cleansed_South Cambie + 0.06631667365511314 * neighbourhood_cleansed_Strathcona + 0.06086102442498149 * neighbourhood_cleansed_Sunset + 0.0907904509019995 * neighbourhood_cleansed_Victoria-Fraserview + -0.11660668527672528 * neighbourhood_cleansed_West End + 0.07140184307696539 * neighbourhood_cleansed_West Point Grey + -0.10980355478965323 * room_type_Private room)))\n"
     ]
    }
   ],
   "source": [
    "# Create a formula for the model using the coefficients\n",
    "# Get the coefficients from the logistic regression model\n",
    "coefficients = result.params\n",
    "\n",
    "# Create the formula for the model\n",
    "formula = '1 / (1 + exp(-(' + ' + '.join(['{} * {}'.format(coefficient, variable) for variable, coefficient in coefficients.items()]) + ')))'\n",
    "\n",
    "# Print the formula\n",
    "print(formula)\n"
   ]
  }
 ],
 "metadata": {
  "kernelspec": {
   "display_name": "Python 3",
   "language": "python",
   "name": "python3"
  },
  "language_info": {
   "codemirror_mode": {
    "name": "ipython",
    "version": 3
   },
   "file_extension": ".py",
   "mimetype": "text/x-python",
   "name": "python",
   "nbconvert_exporter": "python",
   "pygments_lexer": "ipython3",
   "version": "3.11.5"
  }
 },
 "nbformat": 4,
 "nbformat_minor": 2
}
