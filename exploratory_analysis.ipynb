{
 "cells": [
  {
   "cell_type": "code",
   "execution_count": 1,
   "metadata": {},
   "outputs": [],
   "source": [
    "# Load libraries\n",
    "import pandas as pd\n",
    "import os"
   ]
  },
  {
   "cell_type": "code",
   "execution_count": 7,
   "metadata": {},
   "outputs": [
    {
     "name": "stdout",
     "output_type": "stream",
     "text": [
      "id                                                int64\n",
      "listing_url                                      object\n",
      "scrape_id                                         int64\n",
      "last_scraped                                     object\n",
      "source                                           object\n",
      "name                                             object\n",
      "description                                      object\n",
      "neighborhood_overview                            object\n",
      "picture_url                                      object\n",
      "host_id                                           int64\n",
      "host_url                                         object\n",
      "host_name                                        object\n",
      "host_since                                       object\n",
      "host_location                                    object\n",
      "host_about                                       object\n",
      "host_response_time                               object\n",
      "host_response_rate                               object\n",
      "host_acceptance_rate                             object\n",
      "host_is_superhost                                object\n",
      "host_thumbnail_url                               object\n",
      "host_picture_url                                 object\n",
      "host_neighbourhood                               object\n",
      "host_listings_count                               int64\n",
      "host_total_listings_count                         int64\n",
      "host_verifications                               object\n",
      "host_has_profile_pic                             object\n",
      "host_identity_verified                           object\n",
      "neighbourhood                                    object\n",
      "neighbourhood_cleansed                           object\n",
      "neighbourhood_group_cleansed                    float64\n",
      "latitude                                        float64\n",
      "longitude                                       float64\n",
      "property_type                                    object\n",
      "room_type                                        object\n",
      "accommodates                                      int64\n",
      "bathrooms                                       float64\n",
      "bathrooms_text                                   object\n",
      "bedrooms                                        float64\n",
      "beds                                            float64\n",
      "amenities                                        object\n",
      "price                                            object\n",
      "minimum_nights                                    int64\n",
      "maximum_nights                                    int64\n",
      "minimum_minimum_nights                            int64\n",
      "maximum_minimum_nights                            int64\n",
      "minimum_maximum_nights                            int64\n",
      "maximum_maximum_nights                            int64\n",
      "minimum_nights_avg_ntm                          float64\n",
      "maximum_nights_avg_ntm                          float64\n",
      "calendar_updated                                float64\n",
      "has_availability                                 object\n",
      "availability_30                                   int64\n",
      "availability_60                                   int64\n",
      "availability_90                                   int64\n",
      "availability_365                                  int64\n",
      "calendar_last_scraped                            object\n",
      "number_of_reviews                                 int64\n",
      "number_of_reviews_ltm                             int64\n",
      "number_of_reviews_l30d                            int64\n",
      "first_review                                     object\n",
      "last_review                                      object\n",
      "review_scores_rating                            float64\n",
      "review_scores_accuracy                          float64\n",
      "review_scores_cleanliness                       float64\n",
      "review_scores_checkin                           float64\n",
      "review_scores_communication                     float64\n",
      "review_scores_location                          float64\n",
      "review_scores_value                             float64\n",
      "license                                          object\n",
      "instant_bookable                                 object\n",
      "calculated_host_listings_count                    int64\n",
      "calculated_host_listings_count_entire_homes       int64\n",
      "calculated_host_listings_count_private_rooms      int64\n",
      "calculated_host_listings_count_shared_rooms       int64\n",
      "reviews_per_month                               float64\n",
      "dtype: object\n"
     ]
    }
   ],
   "source": [
    "# Open yvr_listing_data.csv in the data folder\n",
    "listings_df = pd.read_csv(os.path.join('data', 'yvr_listing_data.csv'))\n",
    "\n",
    "# Print column and column types\n",
    "with pd.option_context('display.max_rows', None, 'display.max_columns', None):\n",
    "    print(listings_df.dtypes)"
   ]
  }
 ],
 "metadata": {
  "kernelspec": {
   "display_name": "Python 3",
   "language": "python",
   "name": "python3"
  },
  "language_info": {
   "codemirror_mode": {
    "name": "ipython",
    "version": 3
   },
   "file_extension": ".py",
   "mimetype": "text/x-python",
   "name": "python",
   "nbconvert_exporter": "python",
   "pygments_lexer": "ipython3",
   "version": "3.12.0"
  }
 },
 "nbformat": 4,
 "nbformat_minor": 2
}
