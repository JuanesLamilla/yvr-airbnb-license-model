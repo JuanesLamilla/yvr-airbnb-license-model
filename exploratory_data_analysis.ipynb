{
 "cells": [
  {
   "attachments": {},
   "cell_type": "markdown",
   "id": "d4556efb-142f-4f16-96d1-05222e2cbf10",
   "metadata": {},
   "source": [
    "# Exploratory Data Analysis (EDA)\n",
    "\n",
    "In this section we will conduct some preliminary analysis in order to better understand our data set\n",
    "\n",
    "This analysis will be done in a way which can help us give the course leaders a better understandin  of our data set\n",
    "\n",
    "This will help us to predict any shortcomings, outliers or systematic errors which our groups will need to account for in our analysis\n",
    "\n",
    "### There will be 4 main sections of this EDA:\n",
    "1. Precise descriptions of the data fields and their units of measurement\n",
    "2. Developing Summary Statistics, Distributions and Outliers\n",
    "3. Appropriate plots to communicate the distribution of key fields\n",
    "4. Appropriate plots to illustrate the relationship between key fields"
   ]
  },
  {
   "cell_type": "markdown",
   "id": "decbc336-a9c3-4251-a9cb-06b36ae9eb16",
   "metadata": {},
   "source": [
    "#### 0. Load libraries and read in data"
   ]
  },
  {
   "cell_type": "code",
   "execution_count": 21,
   "id": "9b48845a-1e22-464e-8965-8e5ccad52aff",
   "metadata": {},
   "outputs": [],
   "source": [
    "# Load libraries\n",
    "import pandas as pd\n",
    "import os\n",
    "import re\n",
    "import numpy as np\n",
    "import matplotlib.pyplot as plt\n",
    "import seaborn as sns\n",
    "from sklearn.preprocessing import MinMaxScaler, StandardScaler\n",
    "import scipy.stats\n",
    "import statsmodels.api as sm\n",
    "import statsmodels.tools.tools\n",
    "\n",
    "# Open yvr_listing_data.csv in the data folder\n",
    "listings_df = pd.read_csv(os.path.join('yvr_listing_data.csv'))"
   ]
  },
  {
   "cell_type": "markdown",
   "id": "18bdd385-270f-4c17-99ef-1c04a602dd67",
   "metadata": {},
   "source": [
    "#### 1. Precise descriptions of the data fields and their units of measurement: \n",
    "Gaining an understanding of the data, its fields and units of measurement"
   ]
  },
  {
   "cell_type": "code",
   "execution_count": null,
   "id": "99458803-71dc-46fe-969f-c56c4031a0c4",
   "metadata": {},
   "outputs": [],
   "source": [
    "# View first 10 rows\n",
    "print(listings_df.head(10))"
   ]
  },
  {
   "cell_type": "code",
   "execution_count": null,
   "id": "524169fc-f73c-4d75-928d-eda10dcd9c28",
   "metadata": {},
   "outputs": [],
   "source": [
    "# Print data fields and their types\n",
    "listings_df.info()"
   ]
  },
  {
   "cell_type": "code",
   "execution_count": null,
   "id": "8025155b-8250-4b2d-b695-7a4c72218cf1",
   "metadata": {},
   "outputs": [],
   "source": [
    "# Generate descriptive statistics on numerical columns\n",
    "listings_df.describe"
   ]
  },
  {
   "cell_type": "code",
   "execution_count": null,
   "id": "ab26b4bd-1e9c-41fd-991f-59da64619813",
   "metadata": {},
   "outputs": [],
   "source": [
    "# Combining this preliminary analysis together\n",
    "\n",
    "# Summary DataFrame\n",
    "\n",
    "# 1. Inspecting Data\n",
    "data_inspection = pd.DataFrame({\n",
    "    'First Few Rows': [listings_df.head()],\n",
    "    'Info': [listings_df.info()],\n",
    "    'Descriptive Statistics': [listings_df.describe()]\n",
    "})\n",
    "\n",
    "# 2. Display the combined DataFrame\n",
    "for key, value in data_inspection.items():\n",
    "    print(f\"\\n{key}:\\n{value}\\n{'='*50}\")\n",
    "\n",
    "data_inspection"
   ]
  },
  {
   "cell_type": "markdown",
   "id": "3fc5db0e-ac93-4578-ae49-14e86d7bb63e",
   "metadata": {},
   "source": [
    "From this analyses we can gather the following information:\n",
    "\n",
    "1. "
   ]
  }
 ],
 "metadata": {
  "kernelspec": {
   "display_name": "Python 3 (ipykernel)",
   "language": "python",
   "name": "python3"
  },
  "language_info": {
   "codemirror_mode": {
    "name": "ipython",
    "version": 3
   },
   "file_extension": ".py",
   "mimetype": "text/x-python",
   "name": "python",
   "nbconvert_exporter": "python",
   "pygments_lexer": "ipython3",
   "version": "3.11.5"
  }
 },
 "nbformat": 4,
 "nbformat_minor": 5
}
