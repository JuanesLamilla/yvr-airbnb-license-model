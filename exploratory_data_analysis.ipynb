{
 "cells": [
  {
   "attachments": {},
   "cell_type": "markdown",
   "id": "d4556efb-142f-4f16-96d1-05222e2cbf10",
   "metadata": {},
   "source": [
    "### Exploratory Data Analysis (EDA)\n",
    "\n",
    "In this section we will conduct some preliminary analysis in order to better understand our data set\n",
    "\n",
    "This analysis will be done in a way which can help us give the course leaders a better understandin  of our data set\n",
    "\n",
    "This will help us to predict any shortcomings, outliers or systematic errors which our groups will need to account for in our analysis\n",
    "\n",
    "#### There will be 4 main sections of this EDA:\n",
    "1. A precise description of the different data fields and their units of measurement\n",
    "2. Developing Summary Statistics, Distributions and Outliers\n",
    "3. Appropriate plots to communicate the distribution of key fields\n",
    "4. Appropriate plots to illustrate the relationship between key fields"
   ]
  },
  {
   "cell_type": "code",
   "execution_count": 2,
   "id": "9b48845a-1e22-464e-8965-8e5ccad52aff",
   "metadata": {},
   "outputs": [],
   "source": [
    "# Load libraries\n",
    "import pandas as pd\n",
    "import os\n",
    "import re\n",
    "import numpy as np\n",
    "import matplotlib.pyplot as plt\n",
    "import seaborn as sns\n",
    "from sklearn.preprocessing import MinMaxScaler, StandardScaler\n",
    "import scipy.stats\n",
    "import statsmodels.api as sm\n",
    "import statsmodels.tools.tools"
   ]
  },
  {
   "cell_type": "code",
   "execution_count": null,
   "id": "077e1276-57c0-405a-8b78-fc7709d0ebc2",
   "metadata": {},
   "outputs": [],
   "source": [
    "#read in dataset"
   ]
  }
 ],
 "metadata": {
  "kernelspec": {
   "display_name": "Python 3 (ipykernel)",
   "language": "python",
   "name": "python3"
  },
  "language_info": {
   "codemirror_mode": {
    "name": "ipython",
    "version": 3
   },
   "file_extension": ".py",
   "mimetype": "text/x-python",
   "name": "python",
   "nbconvert_exporter": "python",
   "pygments_lexer": "ipython3",
   "version": "3.11.5"
  }
 },
 "nbformat": 4,
 "nbformat_minor": 5
}
