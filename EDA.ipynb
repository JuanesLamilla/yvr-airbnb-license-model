{
 "cells": [
  {
   "cell_type": "markdown",
   "metadata": {},
   "source": [
    "# Exploratory Data Analysis (EDA)\n",
    "\n",
    "In this section we will conduct some preliminary analysis in order to better understand our data set\n",
    "\n",
    "This analysis will be done in a way which can help us give the course leaders a better understandin  of our data set\n",
    "\n",
    "This will help us to predict any shortcomings, outliers or systematic errors which our groups will need to account for in our analysis\n",
    "\n",
    "### There will be 4 main sections of this EDA:\n",
    "1. Precise descriptions of the data fields and their units of measurement\n",
    "2. Developing Summary Statistics, Distributions and Outliers\n",
    "3. Appropriate plots to communicate the distribution of key fields\n",
    "4. Appropriate plots to illustrate the relationship between key fields"
   ]
  },
  {
   "cell_type": "markdown",
   "metadata": {},
   "source": [
    "#### 0. Load libraries and read in data"
   ]
  },
  {
   "cell_type": "code",
   "execution_count": 3,
   "metadata": {},
   "outputs": [
    {
     "name": "stderr",
     "output_type": "stream",
     "text": [
      "<jemalloc>: MADV_DONTNEED does not work (memset will be used instead)\n",
      "<jemalloc>: (This is the expected behaviour if you are running under QEMU)\n"
     ]
    }
   ],
   "source": [
    "# Load libraries\n",
    "import pandas as pd\n",
    "import os\n",
    "import re\n",
    "import numpy as np\n",
    "import matplotlib.pyplot as plt\n",
    "import seaborn as sns\n",
    "from sklearn.preprocessing import MinMaxScaler, StandardScaler\n",
    "import scipy.stats\n",
    "import statsmodels.api as sm\n",
    "from statsmodels.tools.tools import add_constant\n",
    "from src import drop_column_using_vif_, show_vif_values"
   ]
  },
  {
   "cell_type": "markdown",
   "metadata": {},
   "source": [
    "Remove unnecessary columns."
   ]
  },
  {
   "cell_type": "code",
   "execution_count": 13,
   "metadata": {},
   "outputs": [],
   "source": [
    "# Open yvr_listing_data.csv in the data folder\n",
    "listings_df = pd.read_csv(os.path.join('data', 'yvr_listing_data.csv'))\n",
    "\n",
    "# Exclude columns manually that are completly textual description or apparently non-related to legality(including coordinates).\n",
    "# Also exclude some redundant variables like 'neighbourhood' and 'neighbourhood_cleansed'\n",
    "\n",
    "excluded_columns = ['listing_url','scrape_id', 'last_scraped', 'source', \n",
    "                       'name','description', 'neighborhood_overview', 'picture_url', \n",
    "                       'host_id', 'host_url', 'host_name', 'host_since', \n",
    "                       'host_location', 'host_about', 'host_thumbnail_url', \n",
    "                       'host_picture_url', 'latitude', 'longitude', 'calendar_updated', \n",
    "                       'calendar_last_scraped', 'amenities', 'bathrooms_text',\n",
    "                       'first_review','last_review','neighbourhood','property_type','host_neighbourhood',\n",
    "                       'maximum_minimum_nights','maximum_nights','minimum_minimum_nights',\n",
    "                       'maximum_maximum_nights','minimum_maximum_nights','minimum_nights_avg_ntm','maximum_nights_avg_ntm']\n",
    "\n",
    "remained_columns = [col for col in listings_df if col not in excluded_columns]\n",
    "remained_columns = list(set(remained_columns))\n",
    "\n",
    "# Delete all textual description columns \n",
    "\n",
    "listings_df = listings_df[remained_columns]\n",
    "\n",
    "# Dropped completely empty columns\n",
    "listings_df= listings_df.dropna(axis=1, how='all')\n",
    "\n",
    "# Drop listings with 'minimum_nights > 30' based on the regulation in Vancouver\n",
    "listings_df = listings_df[listings_df['minimum_nights']<=30]"
   ]
  },
  {
   "cell_type": "code",
   "execution_count": 12,
   "metadata": {},
   "outputs": [
    {
     "data": {
      "text/plain": [
       "room_type\n",
       "Entire home/apt    5134\n",
       "Private room       1195\n",
       "Shared room          21\n",
       "Hotel room            3\n",
       "Name: count, dtype: int64"
      ]
     },
     "execution_count": 12,
     "metadata": {},
     "output_type": "execute_result"
    }
   ],
   "source": [
    "listings_df['room_type'].value_counts()"
   ]
  },
  {
   "cell_type": "code",
   "execution_count": 11,
   "metadata": {},
   "outputs": [
    {
     "data": {
      "text/plain": [
       "Index(['reviews_per_month', 'review_scores_value', 'minimum_nights',\n",
       "       'host_has_profile_pic', 'room_type', 'host_acceptance_rate',\n",
       "       'review_scores_location', 'calculated_host_listings_count_entire_homes',\n",
       "       'calculated_host_listings_count_private_rooms',\n",
       "       'number_of_reviews_l30d', 'host_listings_count',\n",
       "       'calculated_host_listings_count', 'id', 'availability_90',\n",
       "       'review_scores_communication', 'host_response_time', 'beds',\n",
       "       'review_scores_accuracy', 'host_response_rate', 'review_scores_rating',\n",
       "       'calculated_host_listings_count_shared_rooms', 'price',\n",
       "       'availability_30', 'has_availability', 'neighbourhood_cleansed',\n",
       "       'bedrooms', 'host_total_listings_count', 'host_identity_verified',\n",
       "       'instant_bookable', 'review_scores_cleanliness',\n",
       "       'number_of_reviews_ltm', 'host_verifications', 'accommodates',\n",
       "       'host_is_superhost', 'availability_365', 'availability_60',\n",
       "       'number_of_reviews', 'review_scores_checkin', 'legal_listing'],\n",
       "      dtype='object')"
      ]
     },
     "execution_count": 11,
     "metadata": {},
     "output_type": "execute_result"
    }
   ],
   "source": [
    "listings_df.columns"
   ]
  },
  {
   "cell_type": "markdown",
   "metadata": {},
   "source": [
    "#### Finding \"Legal\" Listings\n",
    "\n",
    "Using regex, we scan through the listings licenses and determine which ones are valid."
   ]
  },
  {
   "cell_type": "code",
   "execution_count": 14,
   "metadata": {},
   "outputs": [
    {
     "name": "stdout",
     "output_type": "stream",
     "text": [
      "legal_listing\n",
      "True     4533\n",
      "False    1820\n",
      "Name: count, dtype: int64\n"
     ]
    }
   ],
   "source": [
    "%%capture --no-stdout\n",
    "\"\"\"\n",
    "Create a new column titled \"legal_listing\" that contains the boolean describing whether or not the listing has a valid license.\n",
    "The column is True if the listing has a valid license or does not require one and False if the listing does not have a valid license.\n",
    "To compute the value of the column, we use the following logic:\n",
    "\n",
    "If the listing has a number in the \"license\" column with the regex pattern of r'.*?(\\d{2}[-\\s]?\\d{3}[-\\s]?\\d{3}).*?' \n",
    "OR the listing has a number in the \"minimum_nights\" column with a value equal to or greater than 30,\n",
    "THEN the \"legal_listing\" is True. ELSE the \"valid_license\" is False.\n",
    "\n",
    "Note:\n",
    "The regex pattern '.*?(\\d{2}[-\\s]?\\d{3}[-\\s]?\\d{3}).*?' is used to find a numbers with the pattern ##-###### or ##-###-### with \n",
    "spaces/dashes/nothing in between the numbers. The number can be surrounded by any number of characters. \n",
    "TODO: Verify this is the correct pattern for the license numbers and find any other ways of verifying legitimate license numbers.\n",
    "\"\"\"\n",
    "\n",
    "###Just found there are some values like 'dd-ddd-ddd', so I changed regex pattern for better compatibility\n",
    "#regex_pattern = re.compile(r'.*?(\\d{2}[-\\s]?\\d{6}).*?')\n",
    "regex_pattern = re.compile(r'.*?(\\d{2}[-\\s]?\\d{3}[-\\s]?\\d{3}).*?')\n",
    "\n",
    "# Create the valid_license column using the logic described above\n",
    "listings_df['legal_listing'] = listings_df['license'].str.contains(regex_pattern) | (listings_df['minimum_nights'] >= 30)\n",
    "\n",
    "# Create new dataframe storing values after normalization or preprocessing\n",
    "listings_df_cleaned = pd.DataFrame()\n",
    "listings_df_cleaned['id'] = listings_df['id']\n",
    "listings_df_cleaned['legal_listing'] = listings_df['legal_listing']\n",
    "\n",
    "# Drop the 'license' column for better processing\n",
    "listings_df.drop('license',axis=1, inplace=True)\n",
    "\n",
    "# Print count of valid and invalid licenses\n",
    "print(listings_df['legal_listing'].value_counts())"
   ]
  },
  {
   "cell_type": "markdown",
   "metadata": {},
   "source": [
    "## Dealing with Data Types\n",
    "\n",
    "- Converting variables to the correct data types while also cleaning unnecessary characters.\n",
    "- Accounting for categorical data with one-hot encoding."
   ]
  },
  {
   "cell_type": "code",
   "execution_count": 15,
   "metadata": {},
   "outputs": [
    {
     "name": "stdout",
     "output_type": "stream",
     "text": [
      "<class 'pandas.core.frame.DataFrame'>\n",
      "Index: 6353 entries, 0 to 6694\n",
      "Data columns (total 39 columns):\n",
      " #   Column                                        Non-Null Count  Dtype  \n",
      "---  ------                                        --------------  -----  \n",
      " 0   reviews_per_month                             5429 non-null   float64\n",
      " 1   review_scores_value                           5419 non-null   float64\n",
      " 2   minimum_nights                                6353 non-null   int64  \n",
      " 3   host_has_profile_pic                          6353 non-null   object \n",
      " 4   room_type                                     6353 non-null   object \n",
      " 5   host_acceptance_rate                          5575 non-null   object \n",
      " 6   review_scores_location                        5419 non-null   float64\n",
      " 7   calculated_host_listings_count_entire_homes   6353 non-null   int64  \n",
      " 8   calculated_host_listings_count_private_rooms  6353 non-null   int64  \n",
      " 9   number_of_reviews_l30d                        6353 non-null   int64  \n",
      " 10  host_listings_count                           6353 non-null   int64  \n",
      " 11  calculated_host_listings_count                6353 non-null   int64  \n",
      " 12  id                                            6353 non-null   int64  \n",
      " 13  availability_90                               6353 non-null   int64  \n",
      " 14  review_scores_communication                   5419 non-null   float64\n",
      " 15  host_response_time                            5411 non-null   object \n",
      " 16  beds                                          6324 non-null   float64\n",
      " 17  review_scores_accuracy                        5419 non-null   float64\n",
      " 18  host_response_rate                            5411 non-null   object \n",
      " 19  review_scores_rating                          5429 non-null   float64\n",
      " 20  calculated_host_listings_count_shared_rooms   6353 non-null   int64  \n",
      " 21  price                                         6353 non-null   object \n",
      " 22  availability_30                               6353 non-null   int64  \n",
      " 23  has_availability                              6353 non-null   object \n",
      " 24  neighbourhood_cleansed                        6353 non-null   object \n",
      " 25  bedrooms                                      4988 non-null   float64\n",
      " 26  host_total_listings_count                     6353 non-null   int64  \n",
      " 27  host_identity_verified                        6353 non-null   object \n",
      " 28  instant_bookable                              6353 non-null   object \n",
      " 29  review_scores_cleanliness                     5419 non-null   float64\n",
      " 30  number_of_reviews_ltm                         6353 non-null   int64  \n",
      " 31  host_verifications                            6353 non-null   object \n",
      " 32  accommodates                                  6353 non-null   int64  \n",
      " 33  host_is_superhost                             6200 non-null   object \n",
      " 34  availability_365                              6353 non-null   int64  \n",
      " 35  availability_60                               6353 non-null   int64  \n",
      " 36  number_of_reviews                             6353 non-null   int64  \n",
      " 37  review_scores_checkin                         5419 non-null   float64\n",
      " 38  legal_listing                                 6353 non-null   bool   \n",
      "dtypes: bool(1), float64(10), int64(16), object(12)\n",
      "memory usage: 1.9+ MB\n"
     ]
    }
   ],
   "source": [
    "#print(listings_df.columns)\n",
    "listings_df.info()"
   ]
  },
  {
   "cell_type": "markdown",
   "metadata": {},
   "source": [
    "**DROP columns with low varience**"
   ]
  },
  {
   "cell_type": "code",
   "execution_count": 17,
   "metadata": {},
   "outputs": [],
   "source": [
    "# Select every columns with dtype float or int\n",
    "# Eliminate the impact that one-hot columns' varience is low\n",
    "listings_df_num = listings_df.select_dtypes(include=['float64','int64'])\n",
    "\n",
    "# Calculate the varience\n",
    "variances = listings_df_num.var()"
   ]
  },
  {
   "cell_type": "code",
   "execution_count": 18,
   "metadata": {},
   "outputs": [],
   "source": [
    "# Set the bottom boundary \n",
    "low_threshold = 0.1  \n",
    "high_threshold = 1000000  \n",
    "# Drop columns with low varience\n",
    "low_variance_cols = variances[variances < low_threshold].index\n",
    "high_variance_cols = variances[variances > high_threshold].index\n",
    "listings_df.drop(low_variance_cols, axis=1, inplace=True)\n",
    "listings_df.drop(high_variance_cols, axis=1, inplace=True)"
   ]
  },
  {
   "cell_type": "code",
   "execution_count": 19,
   "metadata": {},
   "outputs": [
    {
     "data": {
      "text/plain": [
       "'\\n# Deal with the calculated_ columns\\ncalculated_columns = [\\'calculated_host_listings_count_private_rooms\\',\\n                      \\'calculated_host_listings_count_shared_rooms\\',\\n                      \\'calculated_host_listings_count_entire_homes\\',\\n                      \\'calculated_host_listings_count\\']\\nfor name in calculated_columns:\\n    counts = listings_df[name].value_counts()\\n    count_0 = counts.get(0, 0)\\n    count_1 = counts.get(1, 0)\\n\\n    print(f\"amount of 0 in column \\'{name}\\': {count_0}\")\\n    print(f\"amount of 1 in column \\'{name}\\': {count_1}\")\\n\\n# Because the proportion of 0\\'s in \\'calculated_host_listings_count_shared_rooms\\' is above 90%\\n# So just drop the column\\nlistings_df.drop(\\'calculated_host_listings_count_shared_rooms\\', axis=1, inplace=True)\\n'"
      ]
     },
     "execution_count": 19,
     "metadata": {},
     "output_type": "execute_result"
    }
   ],
   "source": [
    "\"\"\"\n",
    "# Deal with the calculated_ columns\n",
    "calculated_columns = ['calculated_host_listings_count_private_rooms',\n",
    "                      'calculated_host_listings_count_shared_rooms',\n",
    "                      'calculated_host_listings_count_entire_homes',\n",
    "                      'calculated_host_listings_count']\n",
    "for name in calculated_columns:\n",
    "    counts = listings_df[name].value_counts()\n",
    "    count_0 = counts.get(0, 0)\n",
    "    count_1 = counts.get(1, 0)\n",
    "\n",
    "    print(f\"amount of 0 in column '{name}': {count_0}\")\n",
    "    print(f\"amount of 1 in column '{name}': {count_1}\")\n",
    "\n",
    "# Because the proportion of 0's in 'calculated_host_listings_count_shared_rooms' is above 90%\n",
    "# So just drop the column\n",
    "listings_df.drop('calculated_host_listings_count_shared_rooms', axis=1, inplace=True)\n",
    "\"\"\""
   ]
  },
  {
   "cell_type": "markdown",
   "metadata": {},
   "source": [
    "### Dealing with Object Columns"
   ]
  },
  {
   "cell_type": "code",
   "execution_count": 20,
   "metadata": {},
   "outputs": [
    {
     "name": "stdout",
     "output_type": "stream",
     "text": [
      "Index(['host_has_profile_pic', 'room_type', 'host_acceptance_rate',\n",
      "       'host_response_time', 'host_response_rate', 'price', 'has_availability',\n",
      "       'neighbourhood_cleansed', 'host_identity_verified', 'instant_bookable',\n",
      "       'host_verifications', 'host_is_superhost'],\n",
      "      dtype='object')\n"
     ]
    }
   ],
   "source": [
    "# Print names of object columns\n",
    "print(listings_df.select_dtypes(include=['object']).columns)"
   ]
  },
  {
   "cell_type": "code",
   "execution_count": 23,
   "metadata": {},
   "outputs": [],
   "source": [
    "#converting 'price' column\n",
    "# Convert price to a float variable\n",
    "if listings_df['price'].dtype == 'object':\n",
    "    listings_df['price'] = listings_df['price'].str.replace('$', '').str.replace(',', '').astype(float)\n",
    "\n",
    "# Convert 'host_acceptance_rate' to a float variable\n",
    "if listings_df['host_acceptance_rate'].dtype == 'object':\n",
    "    listings_df['host_acceptance_rate'] = listings_df['host_acceptance_rate'].str.replace('%', '').astype(float)\n",
    "\n",
    "# Convert 'host_response_time' to a float variable\n",
    "# The reason is a bit far-fetched for range(0,0.25,0.5,0.75,1), just make it easier for regression model operating. \n",
    "# Moreover it does make sense, to some extent\n",
    "if listings_df['host_response_time'].dtype == 'object':\n",
    "    listings_df['host_response_time'] = listings_df['host_response_time'].map({\n",
    "        'within an hour': 1, 'within a few hours': 0.75, 'within a day': 0.5, 'a few days or more': 0.25}).fillna(0)\n",
    "\n",
    "# Convert 'host_response_rate' to a float variable\n",
    "if listings_df['host_response_rate'].dtype == 'object':\n",
    "    listings_df['host_response_rate'] = listings_df['host_response_rate'].str.replace('%', '').astype(float)\n",
    "\n",
    "# Convert 'host_verifications' to a float variable\n",
    "if listings_df['host_verifications'].dtype == 'object':\n",
    "    listings_df['host_verifications'] = listings_df['host_verifications'].map({\n",
    "        \"['email', 'phone', 'photographer', 'work_email']\": 1, \"['email', 'phone', 'work_email']\": 0.75, \n",
    "        \"['email', 'phone']\": 0.5, \"['phone', 'work_email']\":0.5, \n",
    "        \"['phone']\": 0.25, \"['email']\": 0.25}).fillna(0)\n",
    "\n",
    "\n",
    "# Convert 'host_is_superhost' to a bool variable\n",
    "if listings_df['host_is_superhost'].dtype == 'object':\n",
    "    listings_df['host_is_superhost'] = listings_df['host_is_superhost'].map({'t': 1, 'f': 0})\n",
    "\n",
    "# Convert 'host_has_profile_pic' to a bool variable\n",
    "if listings_df['host_has_profile_pic'].dtype == 'object':\n",
    "    listings_df['host_has_profile_pic'] = listings_df['host_has_profile_pic'].map({'t': 1, 'f': 0})\n",
    "\n",
    "# Convert 'has_availability' to a bool variable\n",
    "if listings_df['has_availability'].dtype == 'object':\n",
    "    listings_df['has_availability'] = listings_df['has_availability'].map({'t': 1, 'f': 0})\n",
    "\n",
    "# Convert 'instant_bookable' to a bool variable\n",
    "if listings_df['instant_bookable'].dtype == 'object':\n",
    "    listings_df['instant_bookable'] = listings_df['instant_bookable'].map({'t': 1, 'f': 0})\n",
    "\n",
    "# Convert 'host_identity_verified' to a bool variable\n",
    "if listings_df['host_identity_verified'].dtype == 'object':\n",
    "    listings_df['host_identity_verified'] = listings_df['host_identity_verified'].map({'t': 1, 'f': 0})"
   ]
  },
  {
   "cell_type": "code",
   "execution_count": 22,
   "metadata": {},
   "outputs": [
    {
     "data": {
      "text/plain": [
       "['room_type', 'neighbourhood_cleansed']"
      ]
     },
     "execution_count": 22,
     "metadata": {},
     "output_type": "execute_result"
    }
   ],
   "source": [
    "# Check the object columns again\n",
    "object_columns = listings_df.select_dtypes(include='object')\n",
    "\n",
    "object_columns_name = list(object_columns.columns)\n",
    "object_columns_name"
   ]
  },
  {
   "cell_type": "code",
   "execution_count": 24,
   "metadata": {},
   "outputs": [
    {
     "data": {
      "text/plain": [
       "array([0.5 , 0.25, 0.75, 1.  ])"
      ]
     },
     "execution_count": 24,
     "metadata": {},
     "output_type": "execute_result"
    }
   ],
   "source": [
    "listings_df['host_verifications'].unique()"
   ]
  },
  {
   "cell_type": "markdown",
   "metadata": {},
   "source": [
    "### One-hot to code categorical columns"
   ]
  },
  {
   "cell_type": "code",
   "execution_count": 25,
   "metadata": {},
   "outputs": [
    {
     "name": "stdout",
     "output_type": "stream",
     "text": [
      "Dropped categories:\n",
      "room_type : Entire home/apt\n",
      "neighbourhood_cleansed : Arbutus Ridge\n"
     ]
    }
   ],
   "source": [
    "print(\"Dropped categories:\")\n",
    "for colname in object_columns_name:\n",
    "    # convert room_type column to 'category' dtype\n",
    "    listings_df[colname] = listings_df[colname].astype('category')\n",
    "\n",
    "    # Since we will be dropping the first category of each column, \n",
    "    # lets print out the first category of each column so we know what we are dropping\n",
    "    print(colname, ':', listings_df[colname].cat.categories[0])\n",
    "\n",
    "    # applying one-hot coding (drop_first means eliminate one freedom degree to prevent multicollinearity)\n",
    "    one_hot_encoded = pd.get_dummies(listings_df[colname], prefix=colname, drop_first=True)\n",
    "    # join new columns back to DataFrame\n",
    "    listings_df = listings_df.join(one_hot_encoded)"
   ]
  },
  {
   "cell_type": "code",
   "execution_count": 26,
   "metadata": {},
   "outputs": [
    {
     "name": "stdout",
     "output_type": "stream",
     "text": [
      "<class 'pandas.core.frame.DataFrame'>\n",
      "Index: 6353 entries, 0 to 6694\n",
      "Data columns (total 61 columns):\n",
      " #   Column                                           Non-Null Count  Dtype   \n",
      "---  ------                                           --------------  -----   \n",
      " 0   reviews_per_month                                5429 non-null   float64 \n",
      " 1   review_scores_value                              5419 non-null   float64 \n",
      " 2   minimum_nights                                   6353 non-null   int64   \n",
      " 3   host_has_profile_pic                             6353 non-null   int64   \n",
      " 4   room_type                                        6353 non-null   category\n",
      " 5   host_acceptance_rate                             5575 non-null   float64 \n",
      " 6   calculated_host_listings_count_entire_homes      6353 non-null   int64   \n",
      " 7   calculated_host_listings_count_private_rooms     6353 non-null   int64   \n",
      " 8   number_of_reviews_l30d                           6353 non-null   int64   \n",
      " 9   host_listings_count                              6353 non-null   int64   \n",
      " 10  calculated_host_listings_count                   6353 non-null   int64   \n",
      " 11  availability_90                                  6353 non-null   int64   \n",
      " 12  review_scores_communication                      5419 non-null   float64 \n",
      " 13  host_response_time                               6353 non-null   float64 \n",
      " 14  beds                                             6324 non-null   float64 \n",
      " 15  review_scores_accuracy                           5419 non-null   float64 \n",
      " 16  host_response_rate                               5411 non-null   float64 \n",
      " 17  review_scores_rating                             5429 non-null   float64 \n",
      " 18  price                                            6353 non-null   float64 \n",
      " 19  availability_30                                  6353 non-null   int64   \n",
      " 20  has_availability                                 6353 non-null   int64   \n",
      " 21  neighbourhood_cleansed                           6353 non-null   category\n",
      " 22  bedrooms                                         4988 non-null   float64 \n",
      " 23  host_total_listings_count                        6353 non-null   int64   \n",
      " 24  host_identity_verified                           6353 non-null   int64   \n",
      " 25  instant_bookable                                 6353 non-null   int64   \n",
      " 26  review_scores_cleanliness                        5419 non-null   float64 \n",
      " 27  number_of_reviews_ltm                            6353 non-null   int64   \n",
      " 28  host_verifications                               6353 non-null   float64 \n",
      " 29  accommodates                                     6353 non-null   int64   \n",
      " 30  host_is_superhost                                6200 non-null   float64 \n",
      " 31  availability_365                                 6353 non-null   int64   \n",
      " 32  availability_60                                  6353 non-null   int64   \n",
      " 33  number_of_reviews                                6353 non-null   int64   \n",
      " 34  review_scores_checkin                            5419 non-null   float64 \n",
      " 35  legal_listing                                    6353 non-null   bool    \n",
      " 36  room_type_Hotel room                             6353 non-null   bool    \n",
      " 37  room_type_Private room                           6353 non-null   bool    \n",
      " 38  room_type_Shared room                            6353 non-null   bool    \n",
      " 39  neighbourhood_cleansed_Downtown                  6353 non-null   bool    \n",
      " 40  neighbourhood_cleansed_Downtown Eastside         6353 non-null   bool    \n",
      " 41  neighbourhood_cleansed_Dunbar Southlands         6353 non-null   bool    \n",
      " 42  neighbourhood_cleansed_Fairview                  6353 non-null   bool    \n",
      " 43  neighbourhood_cleansed_Grandview-Woodland        6353 non-null   bool    \n",
      " 44  neighbourhood_cleansed_Hastings-Sunrise          6353 non-null   bool    \n",
      " 45  neighbourhood_cleansed_Kensington-Cedar Cottage  6353 non-null   bool    \n",
      " 46  neighbourhood_cleansed_Kerrisdale                6353 non-null   bool    \n",
      " 47  neighbourhood_cleansed_Killarney                 6353 non-null   bool    \n",
      " 48  neighbourhood_cleansed_Kitsilano                 6353 non-null   bool    \n",
      " 49  neighbourhood_cleansed_Marpole                   6353 non-null   bool    \n",
      " 50  neighbourhood_cleansed_Mount Pleasant            6353 non-null   bool    \n",
      " 51  neighbourhood_cleansed_Oakridge                  6353 non-null   bool    \n",
      " 52  neighbourhood_cleansed_Renfrew-Collingwood       6353 non-null   bool    \n",
      " 53  neighbourhood_cleansed_Riley Park                6353 non-null   bool    \n",
      " 54  neighbourhood_cleansed_Shaughnessy               6353 non-null   bool    \n",
      " 55  neighbourhood_cleansed_South Cambie              6353 non-null   bool    \n",
      " 56  neighbourhood_cleansed_Strathcona                6353 non-null   bool    \n",
      " 57  neighbourhood_cleansed_Sunset                    6353 non-null   bool    \n",
      " 58  neighbourhood_cleansed_Victoria-Fraserview       6353 non-null   bool    \n",
      " 59  neighbourhood_cleansed_West End                  6353 non-null   bool    \n",
      " 60  neighbourhood_cleansed_West Point Grey           6353 non-null   bool    \n",
      "dtypes: bool(26), category(2), float64(15), int64(18)\n",
      "memory usage: 2.1 MB\n"
     ]
    }
   ],
   "source": [
    "# Print types of all columns\n",
    "listings_df.info()"
   ]
  },
  {
   "cell_type": "markdown",
   "metadata": {},
   "source": [
    "## Preparing for VIF Analysis"
   ]
  },
  {
   "cell_type": "code",
   "execution_count": 27,
   "metadata": {},
   "outputs": [],
   "source": [
    "listings_df_VIF = listings_df.select_dtypes(include=['bool','float64','int64'])\n",
    "listings_df_VIF = listings_df_VIF.astype('float64')"
   ]
  },
  {
   "cell_type": "markdown",
   "metadata": {},
   "source": [
    "**Using VIF to filter relating variables**"
   ]
  },
  {
   "cell_type": "code",
   "execution_count": 28,
   "metadata": {},
   "outputs": [],
   "source": [
    "# calculating VIF\n",
    "\n",
    "# Drop all rows containing NAs or infs in listings_df_VIF\n",
    "listings_df_VIF.replace([np.inf, -np.inf], np.nan, inplace=True)\n",
    "listings_df_VIF.dropna(inplace=True)"
   ]
  },
  {
   "cell_type": "markdown",
   "metadata": {},
   "source": [
    "## VIF Filtering"
   ]
  },
  {
   "cell_type": "code",
   "execution_count": 29,
   "metadata": {},
   "outputs": [
    {
     "name": "stdout",
     "output_type": "stream",
     "text": [
      "Dropping: calculated_host_listings_count (VIF: 28166.657801674846)\n",
      "Dropping: host_listings_count (VIF: 58.940057139676455)\n",
      "Dropping: availability_60 (VIF: 15.442869964457207)\n",
      "Dropping: neighbourhood_cleansed_Downtown (VIF: 15.204804174421792)\n",
      "Dropping: calculated_host_listings_count_entire_homes (VIF: 7.387763613248074)\n",
      "Dropping: review_scores_rating (VIF: 5.824788487134804)\n",
      "Dropping: accommodates (VIF: 5.722489934595499)\n",
      "Dropping: number_of_reviews_ltm (VIF: 3.7127987559084463)\n",
      "Dropping: bedrooms (VIF: 3.213550936569566)\n",
      "Dropping: review_scores_accuracy (VIF: 2.9440856290313926)\n",
      "Dropping: reviews_per_month (VIF: 2.910677131433851)\n",
      "Dropping: review_scores_communication (VIF: 2.476927248705724)\n",
      "Dropping: availability_90 (VIF: 2.4295637671524397)\n",
      "Dropping: review_scores_value (VIF: 2.0853368160573367)\n"
     ]
    }
   ],
   "source": [
    "%%capture --no-stdout\n",
    "\n",
    "listings_df_VIF_new = drop_column_using_vif_(listings_df_VIF.drop('legal_listing', axis=1), thresh=2)"
   ]
  },
  {
   "cell_type": "code",
   "execution_count": 30,
   "metadata": {},
   "outputs": [
    {
     "name": "stdout",
     "output_type": "stream",
     "text": [
      "There are 44 variables after VIF operation.\n"
     ]
    }
   ],
   "source": [
    "# After VIF now we have the 'listings_df_VIF_new'\n",
    "print(f\"There are {listings_df_VIF_new.shape[1]} variables after VIF operation.\")\n",
    "\n",
    "# Add legal_listing back to csv\n",
    "listings_df_VIF_new['legal_listing'] = listings_df_VIF['legal_listing']\n",
    "\n",
    "\n",
    "# And save the new dataframe to csv.file\n",
    "listings_df_VIF_new.to_csv(os.path.join('data','yvr_listing_data_cleaned.csv'),index=False)"
   ]
  },
  {
   "cell_type": "markdown",
   "metadata": {},
   "source": [
    "#### 1. Precise descriptions of the data fields and their units of measurement: \n",
    "Gaining an understanding of the data, its fields and units of measurement"
   ]
  },
  {
   "cell_type": "code",
   "execution_count": 34,
   "metadata": {},
   "outputs": [
    {
     "name": "stdout",
     "output_type": "stream",
     "text": [
      "    reviews_per_month  review_scores_value  minimum_nights  \\\n",
      "0                1.68                 4.80               2   \n",
      "1                2.96                 4.65               1   \n",
      "2                0.66                 4.89              30   \n",
      "3                0.22                 4.71               3   \n",
      "4                1.63                 4.73              30   \n",
      "5                0.11                 4.29               3   \n",
      "7                1.53                 4.66               5   \n",
      "8                 NaN                  NaN              30   \n",
      "9                0.78                 4.49              30   \n",
      "10               3.30                 4.95               1   \n",
      "\n",
      "    host_has_profile_pic        room_type  host_acceptance_rate  \\\n",
      "0                      1  Entire home/apt                 100.0   \n",
      "1                      1  Entire home/apt                  98.0   \n",
      "2                      1  Entire home/apt                  96.0   \n",
      "3                      1  Entire home/apt                   NaN   \n",
      "4                      1  Entire home/apt                  78.0   \n",
      "5                      1  Entire home/apt                   NaN   \n",
      "7                      1  Entire home/apt                   NaN   \n",
      "8                      1     Private room                   NaN   \n",
      "9                      1     Private room                   NaN   \n",
      "10                     1     Private room                 100.0   \n",
      "\n",
      "    calculated_host_listings_count_entire_homes  \\\n",
      "0                                             2   \n",
      "1                                             1   \n",
      "2                                             1   \n",
      "3                                             1   \n",
      "4                                             4   \n",
      "5                                             1   \n",
      "7                                             1   \n",
      "8                                             0   \n",
      "9                                             0   \n",
      "10                                            0   \n",
      "\n",
      "    calculated_host_listings_count_private_rooms  number_of_reviews_l30d  \\\n",
      "0                                              0                       7   \n",
      "1                                              0                       4   \n",
      "2                                              0                       0   \n",
      "3                                              0                       0   \n",
      "4                                              0                       1   \n",
      "5                                              0                       0   \n",
      "7                                              0                       0   \n",
      "8                                              1                       0   \n",
      "9                                              1                       0   \n",
      "10                                             1                       3   \n",
      "\n",
      "    host_listings_count  ...  neighbourhood_cleansed_Oakridge  \\\n",
      "0                     2  ...                            False   \n",
      "1                     1  ...                            False   \n",
      "2                     3  ...                            False   \n",
      "3                     1  ...                            False   \n",
      "4                     4  ...                            False   \n",
      "5                     1  ...                            False   \n",
      "7                     1  ...                            False   \n",
      "8                     1  ...                            False   \n",
      "9                     1  ...                            False   \n",
      "10                    1  ...                            False   \n",
      "\n",
      "    neighbourhood_cleansed_Renfrew-Collingwood  \\\n",
      "0                                        False   \n",
      "1                                        False   \n",
      "2                                        False   \n",
      "3                                        False   \n",
      "4                                        False   \n",
      "5                                        False   \n",
      "7                                        False   \n",
      "8                                        False   \n",
      "9                                        False   \n",
      "10                                       False   \n",
      "\n",
      "    neighbourhood_cleansed_Riley Park  neighbourhood_cleansed_Shaughnessy  \\\n",
      "0                                True                               False   \n",
      "1                               False                               False   \n",
      "2                               False                               False   \n",
      "3                               False                               False   \n",
      "4                               False                               False   \n",
      "5                               False                               False   \n",
      "7                               False                               False   \n",
      "8                               False                               False   \n",
      "9                               False                               False   \n",
      "10                              False                               False   \n",
      "\n",
      "    neighbourhood_cleansed_South Cambie  neighbourhood_cleansed_Strathcona  \\\n",
      "0                                 False                              False   \n",
      "1                                 False                              False   \n",
      "2                                 False                              False   \n",
      "3                                 False                              False   \n",
      "4                                 False                              False   \n",
      "5                                 False                              False   \n",
      "7                                 False                              False   \n",
      "8                                 False                              False   \n",
      "9                                 False                              False   \n",
      "10                                False                              False   \n",
      "\n",
      "    neighbourhood_cleansed_Sunset  neighbourhood_cleansed_Victoria-Fraserview  \\\n",
      "0                           False                                       False   \n",
      "1                           False                                       False   \n",
      "2                           False                                       False   \n",
      "3                           False                                       False   \n",
      "4                           False                                       False   \n",
      "5                           False                                       False   \n",
      "7                           False                                       False   \n",
      "8                           False                                       False   \n",
      "9                           False                                       False   \n",
      "10                          False                                       False   \n",
      "\n",
      "    neighbourhood_cleansed_West End  neighbourhood_cleansed_West Point Grey  \n",
      "0                             False                                   False  \n",
      "1                              True                                   False  \n",
      "2                             False                                   False  \n",
      "3                             False                                   False  \n",
      "4                             False                                   False  \n",
      "5                             False                                   False  \n",
      "7                             False                                   False  \n",
      "8                             False                                   False  \n",
      "9                             False                                   False  \n",
      "10                            False                                   False  \n",
      "\n",
      "[10 rows x 61 columns]\n"
     ]
    }
   ],
   "source": [
    "# View first 10 rows\n",
    "print(listings_df.head(10))"
   ]
  },
  {
   "cell_type": "code",
   "execution_count": 36,
   "metadata": {},
   "outputs": [
    {
     "name": "stdout",
     "output_type": "stream",
     "text": [
      "<class 'pandas.core.frame.DataFrame'>\n",
      "Index: 6353 entries, 0 to 6694\n",
      "Data columns (total 61 columns):\n",
      " #   Column                                           Non-Null Count  Dtype   \n",
      "---  ------                                           --------------  -----   \n",
      " 0   reviews_per_month                                5429 non-null   float64 \n",
      " 1   review_scores_value                              5419 non-null   float64 \n",
      " 2   minimum_nights                                   6353 non-null   int64   \n",
      " 3   host_has_profile_pic                             6353 non-null   int64   \n",
      " 4   room_type                                        6353 non-null   category\n",
      " 5   host_acceptance_rate                             5575 non-null   float64 \n",
      " 6   calculated_host_listings_count_entire_homes      6353 non-null   int64   \n",
      " 7   calculated_host_listings_count_private_rooms     6353 non-null   int64   \n",
      " 8   number_of_reviews_l30d                           6353 non-null   int64   \n",
      " 9   host_listings_count                              6353 non-null   int64   \n",
      " 10  calculated_host_listings_count                   6353 non-null   int64   \n",
      " 11  availability_90                                  6353 non-null   int64   \n",
      " 12  review_scores_communication                      5419 non-null   float64 \n",
      " 13  host_response_time                               6353 non-null   float64 \n",
      " 14  beds                                             6324 non-null   float64 \n",
      " 15  review_scores_accuracy                           5419 non-null   float64 \n",
      " 16  host_response_rate                               5411 non-null   float64 \n",
      " 17  review_scores_rating                             5429 non-null   float64 \n",
      " 18  price                                            6353 non-null   float64 \n",
      " 19  availability_30                                  6353 non-null   int64   \n",
      " 20  has_availability                                 6353 non-null   int64   \n",
      " 21  neighbourhood_cleansed                           6353 non-null   category\n",
      " 22  bedrooms                                         4988 non-null   float64 \n",
      " 23  host_total_listings_count                        6353 non-null   int64   \n",
      " 24  host_identity_verified                           6353 non-null   int64   \n",
      " 25  instant_bookable                                 6353 non-null   int64   \n",
      " 26  review_scores_cleanliness                        5419 non-null   float64 \n",
      " 27  number_of_reviews_ltm                            6353 non-null   int64   \n",
      " 28  host_verifications                               6353 non-null   float64 \n",
      " 29  accommodates                                     6353 non-null   int64   \n",
      " 30  host_is_superhost                                6200 non-null   float64 \n",
      " 31  availability_365                                 6353 non-null   int64   \n",
      " 32  availability_60                                  6353 non-null   int64   \n",
      " 33  number_of_reviews                                6353 non-null   int64   \n",
      " 34  review_scores_checkin                            5419 non-null   float64 \n",
      " 35  legal_listing                                    6353 non-null   bool    \n",
      " 36  room_type_Hotel room                             6353 non-null   bool    \n",
      " 37  room_type_Private room                           6353 non-null   bool    \n",
      " 38  room_type_Shared room                            6353 non-null   bool    \n",
      " 39  neighbourhood_cleansed_Downtown                  6353 non-null   bool    \n",
      " 40  neighbourhood_cleansed_Downtown Eastside         6353 non-null   bool    \n",
      " 41  neighbourhood_cleansed_Dunbar Southlands         6353 non-null   bool    \n",
      " 42  neighbourhood_cleansed_Fairview                  6353 non-null   bool    \n",
      " 43  neighbourhood_cleansed_Grandview-Woodland        6353 non-null   bool    \n",
      " 44  neighbourhood_cleansed_Hastings-Sunrise          6353 non-null   bool    \n",
      " 45  neighbourhood_cleansed_Kensington-Cedar Cottage  6353 non-null   bool    \n",
      " 46  neighbourhood_cleansed_Kerrisdale                6353 non-null   bool    \n",
      " 47  neighbourhood_cleansed_Killarney                 6353 non-null   bool    \n",
      " 48  neighbourhood_cleansed_Kitsilano                 6353 non-null   bool    \n",
      " 49  neighbourhood_cleansed_Marpole                   6353 non-null   bool    \n",
      " 50  neighbourhood_cleansed_Mount Pleasant            6353 non-null   bool    \n",
      " 51  neighbourhood_cleansed_Oakridge                  6353 non-null   bool    \n",
      " 52  neighbourhood_cleansed_Renfrew-Collingwood       6353 non-null   bool    \n",
      " 53  neighbourhood_cleansed_Riley Park                6353 non-null   bool    \n",
      " 54  neighbourhood_cleansed_Shaughnessy               6353 non-null   bool    \n",
      " 55  neighbourhood_cleansed_South Cambie              6353 non-null   bool    \n",
      " 56  neighbourhood_cleansed_Strathcona                6353 non-null   bool    \n",
      " 57  neighbourhood_cleansed_Sunset                    6353 non-null   bool    \n",
      " 58  neighbourhood_cleansed_Victoria-Fraserview       6353 non-null   bool    \n",
      " 59  neighbourhood_cleansed_West End                  6353 non-null   bool    \n",
      " 60  neighbourhood_cleansed_West Point Grey           6353 non-null   bool    \n",
      "dtypes: bool(26), category(2), float64(15), int64(18)\n",
      "memory usage: 2.1 MB\n"
     ]
    }
   ],
   "source": [
    "# Print data fields and their types\n",
    "listings_df.info()"
   ]
  },
  {
   "cell_type": "code",
   "execution_count": 40,
   "metadata": {},
   "outputs": [
    {
     "name": "stdout",
     "output_type": "stream",
     "text": [
      "<bound method NDFrame.describe of       reviews_per_month  review_scores_value  minimum_nights  \\\n",
      "0                  1.68                 4.80               2   \n",
      "1                  2.96                 4.65               1   \n",
      "2                  0.66                 4.89              30   \n",
      "3                  0.22                 4.71               3   \n",
      "4                  1.63                 4.73              30   \n",
      "...                 ...                  ...             ...   \n",
      "6690                NaN                  NaN              30   \n",
      "6691                NaN                  NaN              30   \n",
      "6692                NaN                  NaN               1   \n",
      "6693                NaN                  NaN               1   \n",
      "6694                NaN                  NaN               2   \n",
      "\n",
      "      host_has_profile_pic        room_type  host_acceptance_rate  \\\n",
      "0                        1  Entire home/apt                 100.0   \n",
      "1                        1  Entire home/apt                  98.0   \n",
      "2                        1  Entire home/apt                  96.0   \n",
      "3                        1  Entire home/apt                   NaN   \n",
      "4                        1  Entire home/apt                  78.0   \n",
      "...                    ...              ...                   ...   \n",
      "6690                     1     Private room                 100.0   \n",
      "6691                     1  Entire home/apt                  96.0   \n",
      "6692                     1  Entire home/apt                 100.0   \n",
      "6693                     1  Entire home/apt                   NaN   \n",
      "6694                     1     Private room                  93.0   \n",
      "\n",
      "      calculated_host_listings_count_entire_homes  \\\n",
      "0                                               2   \n",
      "1                                               1   \n",
      "2                                               1   \n",
      "3                                               1   \n",
      "4                                               4   \n",
      "...                                           ...   \n",
      "6690                                            1   \n",
      "6691                                           19   \n",
      "6692                                            2   \n",
      "6693                                            1   \n",
      "6694                                            1   \n",
      "\n",
      "      calculated_host_listings_count_private_rooms  number_of_reviews_l30d  \\\n",
      "0                                                0                       7   \n",
      "1                                                0                       4   \n",
      "2                                                0                       0   \n",
      "3                                                0                       0   \n",
      "4                                                0                       1   \n",
      "...                                            ...                     ...   \n",
      "6690                                             6                       0   \n",
      "6691                                             0                       0   \n",
      "6692                                             0                       0   \n",
      "6693                                             0                       0   \n",
      "6694                                             3                       0   \n",
      "\n",
      "      host_listings_count  ...  neighbourhood_cleansed_Oakridge  \\\n",
      "0                       2  ...                            False   \n",
      "1                       1  ...                            False   \n",
      "2                       3  ...                            False   \n",
      "3                       1  ...                            False   \n",
      "4                       4  ...                            False   \n",
      "...                   ...  ...                              ...   \n",
      "6690                    7  ...                            False   \n",
      "6691                   19  ...                            False   \n",
      "6692                    2  ...                            False   \n",
      "6693                    1  ...                            False   \n",
      "6694                    7  ...                            False   \n",
      "\n",
      "      neighbourhood_cleansed_Renfrew-Collingwood  \\\n",
      "0                                          False   \n",
      "1                                          False   \n",
      "2                                          False   \n",
      "3                                          False   \n",
      "4                                          False   \n",
      "...                                          ...   \n",
      "6690                                       False   \n",
      "6691                                       False   \n",
      "6692                                       False   \n",
      "6693                                       False   \n",
      "6694                                       False   \n",
      "\n",
      "      neighbourhood_cleansed_Riley Park  neighbourhood_cleansed_Shaughnessy  \\\n",
      "0                                  True                               False   \n",
      "1                                 False                               False   \n",
      "2                                 False                               False   \n",
      "3                                 False                               False   \n",
      "4                                 False                               False   \n",
      "...                                 ...                                 ...   \n",
      "6690                              False                               False   \n",
      "6691                              False                               False   \n",
      "6692                              False                               False   \n",
      "6693                              False                               False   \n",
      "6694                              False                               False   \n",
      "\n",
      "      neighbourhood_cleansed_South Cambie  neighbourhood_cleansed_Strathcona  \\\n",
      "0                                   False                              False   \n",
      "1                                   False                              False   \n",
      "2                                   False                              False   \n",
      "3                                   False                              False   \n",
      "4                                   False                              False   \n",
      "...                                   ...                                ...   \n",
      "6690                                False                              False   \n",
      "6691                                False                              False   \n",
      "6692                                False                              False   \n",
      "6693                                False                              False   \n",
      "6694                                False                              False   \n",
      "\n",
      "      neighbourhood_cleansed_Sunset  \\\n",
      "0                             False   \n",
      "1                             False   \n",
      "2                             False   \n",
      "3                             False   \n",
      "4                             False   \n",
      "...                             ...   \n",
      "6690                          False   \n",
      "6691                          False   \n",
      "6692                          False   \n",
      "6693                          False   \n",
      "6694                          False   \n",
      "\n",
      "      neighbourhood_cleansed_Victoria-Fraserview  \\\n",
      "0                                          False   \n",
      "1                                          False   \n",
      "2                                          False   \n",
      "3                                          False   \n",
      "4                                          False   \n",
      "...                                          ...   \n",
      "6690                                        True   \n",
      "6691                                       False   \n",
      "6692                                       False   \n",
      "6693                                       False   \n",
      "6694                                       False   \n",
      "\n",
      "      neighbourhood_cleansed_West End  neighbourhood_cleansed_West Point Grey  \n",
      "0                               False                                   False  \n",
      "1                                True                                   False  \n",
      "2                               False                                   False  \n",
      "3                               False                                   False  \n",
      "4                               False                                   False  \n",
      "...                               ...                                     ...  \n",
      "6690                            False                                   False  \n",
      "6691                            False                                   False  \n",
      "6692                            False                                   False  \n",
      "6693                            False                                   False  \n",
      "6694                            False                                   False  \n",
      "\n",
      "[6353 rows x 61 columns]>\n"
     ]
    }
   ],
   "source": [
    "# Generate descriptive statistics on numerical columns\n",
    "print(listings_df.describe)"
   ]
  },
  {
   "cell_type": "code",
   "execution_count": 38,
   "metadata": {},
   "outputs": [
    {
     "name": "stdout",
     "output_type": "stream",
     "text": [
      "<class 'pandas.core.frame.DataFrame'>\n",
      "Index: 6353 entries, 0 to 6694\n",
      "Data columns (total 61 columns):\n",
      " #   Column                                           Non-Null Count  Dtype   \n",
      "---  ------                                           --------------  -----   \n",
      " 0   reviews_per_month                                5429 non-null   float64 \n",
      " 1   review_scores_value                              5419 non-null   float64 \n",
      " 2   minimum_nights                                   6353 non-null   int64   \n",
      " 3   host_has_profile_pic                             6353 non-null   int64   \n",
      " 4   room_type                                        6353 non-null   category\n",
      " 5   host_acceptance_rate                             5575 non-null   float64 \n",
      " 6   calculated_host_listings_count_entire_homes      6353 non-null   int64   \n",
      " 7   calculated_host_listings_count_private_rooms     6353 non-null   int64   \n",
      " 8   number_of_reviews_l30d                           6353 non-null   int64   \n",
      " 9   host_listings_count                              6353 non-null   int64   \n",
      " 10  calculated_host_listings_count                   6353 non-null   int64   \n",
      " 11  availability_90                                  6353 non-null   int64   \n",
      " 12  review_scores_communication                      5419 non-null   float64 \n",
      " 13  host_response_time                               6353 non-null   float64 \n",
      " 14  beds                                             6324 non-null   float64 \n",
      " 15  review_scores_accuracy                           5419 non-null   float64 \n",
      " 16  host_response_rate                               5411 non-null   float64 \n",
      " 17  review_scores_rating                             5429 non-null   float64 \n",
      " 18  price                                            6353 non-null   float64 \n",
      " 19  availability_30                                  6353 non-null   int64   \n",
      " 20  has_availability                                 6353 non-null   int64   \n",
      " 21  neighbourhood_cleansed                           6353 non-null   category\n",
      " 22  bedrooms                                         4988 non-null   float64 \n",
      " 23  host_total_listings_count                        6353 non-null   int64   \n",
      " 24  host_identity_verified                           6353 non-null   int64   \n",
      " 25  instant_bookable                                 6353 non-null   int64   \n",
      " 26  review_scores_cleanliness                        5419 non-null   float64 \n",
      " 27  number_of_reviews_ltm                            6353 non-null   int64   \n",
      " 28  host_verifications                               6353 non-null   float64 \n",
      " 29  accommodates                                     6353 non-null   int64   \n",
      " 30  host_is_superhost                                6200 non-null   float64 \n",
      " 31  availability_365                                 6353 non-null   int64   \n",
      " 32  availability_60                                  6353 non-null   int64   \n",
      " 33  number_of_reviews                                6353 non-null   int64   \n",
      " 34  review_scores_checkin                            5419 non-null   float64 \n",
      " 35  legal_listing                                    6353 non-null   bool    \n",
      " 36  room_type_Hotel room                             6353 non-null   bool    \n",
      " 37  room_type_Private room                           6353 non-null   bool    \n",
      " 38  room_type_Shared room                            6353 non-null   bool    \n",
      " 39  neighbourhood_cleansed_Downtown                  6353 non-null   bool    \n",
      " 40  neighbourhood_cleansed_Downtown Eastside         6353 non-null   bool    \n",
      " 41  neighbourhood_cleansed_Dunbar Southlands         6353 non-null   bool    \n",
      " 42  neighbourhood_cleansed_Fairview                  6353 non-null   bool    \n",
      " 43  neighbourhood_cleansed_Grandview-Woodland        6353 non-null   bool    \n",
      " 44  neighbourhood_cleansed_Hastings-Sunrise          6353 non-null   bool    \n",
      " 45  neighbourhood_cleansed_Kensington-Cedar Cottage  6353 non-null   bool    \n",
      " 46  neighbourhood_cleansed_Kerrisdale                6353 non-null   bool    \n",
      " 47  neighbourhood_cleansed_Killarney                 6353 non-null   bool    \n",
      " 48  neighbourhood_cleansed_Kitsilano                 6353 non-null   bool    \n",
      " 49  neighbourhood_cleansed_Marpole                   6353 non-null   bool    \n",
      " 50  neighbourhood_cleansed_Mount Pleasant            6353 non-null   bool    \n",
      " 51  neighbourhood_cleansed_Oakridge                  6353 non-null   bool    \n",
      " 52  neighbourhood_cleansed_Renfrew-Collingwood       6353 non-null   bool    \n",
      " 53  neighbourhood_cleansed_Riley Park                6353 non-null   bool    \n",
      " 54  neighbourhood_cleansed_Shaughnessy               6353 non-null   bool    \n",
      " 55  neighbourhood_cleansed_South Cambie              6353 non-null   bool    \n",
      " 56  neighbourhood_cleansed_Strathcona                6353 non-null   bool    \n",
      " 57  neighbourhood_cleansed_Sunset                    6353 non-null   bool    \n",
      " 58  neighbourhood_cleansed_Victoria-Fraserview       6353 non-null   bool    \n",
      " 59  neighbourhood_cleansed_West End                  6353 non-null   bool    \n",
      " 60  neighbourhood_cleansed_West Point Grey           6353 non-null   bool    \n",
      "dtypes: bool(26), category(2), float64(15), int64(18)\n",
      "memory usage: 2.1 MB\n",
      "\n",
      "First Few Rows:\n",
      "0       reviews_per_month  review_scores_value  min...\n",
      "Name: First Few Rows, dtype: object\n",
      "==================================================\n",
      "\n",
      "Info:\n",
      "0    None\n",
      "Name: Info, dtype: object\n",
      "==================================================\n",
      "\n",
      "Descriptive Statistics:\n",
      "0           reviews_per_month  review_scores_value ...\n",
      "Name: Descriptive Statistics, dtype: object\n",
      "==================================================\n"
     ]
    },
    {
     "data": {
      "text/html": [
       "<div>\n",
       "<style scoped>\n",
       "    .dataframe tbody tr th:only-of-type {\n",
       "        vertical-align: middle;\n",
       "    }\n",
       "\n",
       "    .dataframe tbody tr th {\n",
       "        vertical-align: top;\n",
       "    }\n",
       "\n",
       "    .dataframe thead th {\n",
       "        text-align: right;\n",
       "    }\n",
       "</style>\n",
       "<table border=\"1\" class=\"dataframe\">\n",
       "  <thead>\n",
       "    <tr style=\"text-align: right;\">\n",
       "      <th></th>\n",
       "      <th>First Few Rows</th>\n",
       "      <th>Info</th>\n",
       "      <th>Descriptive Statistics</th>\n",
       "    </tr>\n",
       "  </thead>\n",
       "  <tbody>\n",
       "    <tr>\n",
       "      <th>0</th>\n",
       "      <td>reviews_per_month  review_scores_value  min...</td>\n",
       "      <td>None</td>\n",
       "      <td>reviews_per_month  review_scores_value ...</td>\n",
       "    </tr>\n",
       "  </tbody>\n",
       "</table>\n",
       "</div>"
      ],
      "text/plain": [
       "                                      First Few Rows  Info  \\\n",
       "0     reviews_per_month  review_scores_value  min...  None   \n",
       "\n",
       "                              Descriptive Statistics  \n",
       "0         reviews_per_month  review_scores_value ...  "
      ]
     },
     "execution_count": 38,
     "metadata": {},
     "output_type": "execute_result"
    }
   ],
   "source": [
    "# Combining this preliminary analysis together\n",
    "\n",
    "# Summary DataFrame\n",
    "\n",
    "# 1. Inspecting Data\n",
    "data_inspection = pd.DataFrame({\n",
    "    'First Few Rows': [listings_df.head()],\n",
    "    'Info': [listings_df.info()],\n",
    "    'Descriptive Statistics': [listings_df.describe()]\n",
    "})\n",
    "\n",
    "# 2. Display the combined DataFrame\n",
    "for key, value in data_inspection.items():\n",
    "    print(f\"\\n{key}:\\n{value}\\n{'='*50}\")\n",
    "\n",
    "data_inspection"
   ]
  },
  {
   "cell_type": "code",
   "execution_count": null,
   "metadata": {},
   "outputs": [],
   "source": []
  }
 ],
 "metadata": {
  "kernelspec": {
   "display_name": "Python 3 (ipykernel)",
   "language": "python",
   "name": "python3"
  },
  "language_info": {
   "codemirror_mode": {
    "name": "ipython",
    "version": 3
   },
   "file_extension": ".py",
   "mimetype": "text/x-python",
   "name": "python",
   "nbconvert_exporter": "python",
   "pygments_lexer": "ipython3",
   "version": "3.11.5"
  }
 },
 "nbformat": 4,
 "nbformat_minor": 4
}
